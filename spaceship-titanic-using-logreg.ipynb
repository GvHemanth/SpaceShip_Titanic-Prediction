{
 "cells": [
  {
   "cell_type": "markdown",
   "id": "28134e85",
   "metadata": {
    "papermill": {
     "duration": 0.026343,
     "end_time": "2023-02-19T14:15:06.182999",
     "exception": false,
     "start_time": "2023-02-19T14:15:06.156656",
     "status": "completed"
    },
    "tags": []
   },
   "source": [
    "## *Introduction*"
   ]
  },
  {
   "cell_type": "markdown",
   "id": "17e0e115",
   "metadata": {
    "papermill": {
     "duration": 0.023669,
     "end_time": "2023-02-19T14:15:06.232732",
     "exception": false,
     "start_time": "2023-02-19T14:15:06.209063",
     "status": "completed"
    },
    "tags": []
   },
   "source": [
    "The Spaceship Titanic was an interstellar passenger liner launched a month ago. With almost 13,000 passengers on board, the vessel set out on its maiden voyage transporting emigrants from our solar system to three newly habitable exoplanets orbiting nearby stars.\n",
    "\n",
    "While rounding Alpha Centauri en route to its first destination—the torrid 55 Cancri E—the unwary Spaceship Titanic collided with a spacetime anomaly hidden within a dust cloud. Sadly, it met a similar fate as its namesake from 1000 years before. Though the ship stayed intact, almost half of the passengers were transported to an alternate dimension!\n",
    "\n",
    "To help rescue crews and retrieve the lost passengers, we are challenged to predict which passengers were transported by the anomaly using records recovered from the spaceship’s damaged computer system."
   ]
  },
  {
   "cell_type": "markdown",
   "id": "773740eb",
   "metadata": {
    "papermill": {
     "duration": 0.023518,
     "end_time": "2023-02-19T14:15:06.280193",
     "exception": false,
     "start_time": "2023-02-19T14:15:06.256675",
     "status": "completed"
    },
    "tags": []
   },
   "source": [
    "#### *So here we would use Logistic Regression (with RFE) to build a model to predict wether the passengers are transported correctly or not.*"
   ]
  },
  {
   "cell_type": "markdown",
   "id": "bfce5ccd",
   "metadata": {
    "papermill": {
     "duration": 0.023419,
     "end_time": "2023-02-19T14:15:06.327447",
     "exception": false,
     "start_time": "2023-02-19T14:15:06.304028",
     "status": "completed"
    },
    "tags": []
   },
   "source": [
    "## *Data File Path*"
   ]
  },
  {
   "cell_type": "code",
   "execution_count": 1,
   "id": "cc16f561",
   "metadata": {
    "execution": {
     "iopub.execute_input": "2023-02-19T14:15:06.377047Z",
     "iopub.status.busy": "2023-02-19T14:15:06.376574Z",
     "iopub.status.idle": "2023-02-19T14:15:06.389997Z",
     "shell.execute_reply": "2023-02-19T14:15:06.388162Z"
    },
    "papermill": {
     "duration": 0.04136,
     "end_time": "2023-02-19T14:15:06.392699",
     "exception": false,
     "start_time": "2023-02-19T14:15:06.351339",
     "status": "completed"
    },
    "tags": []
   },
   "outputs": [
    {
     "name": "stdout",
     "output_type": "stream",
     "text": [
      "/kaggle/input/spaceship-titanic/sample_submission.csv\n",
      "/kaggle/input/spaceship-titanic/train.csv\n",
      "/kaggle/input/spaceship-titanic/test.csv\n"
     ]
    }
   ],
   "source": [
    "# Checking data file path.\n",
    "\n",
    "import os\n",
    "for dirname, _, filenames in os.walk('/kaggle/input'):\n",
    "    for filename in filenames:\n",
    "        print(os.path.join(dirname, filename))"
   ]
  },
  {
   "cell_type": "markdown",
   "id": "bd7f2c8c",
   "metadata": {
    "papermill": {
     "duration": 0.023393,
     "end_time": "2023-02-19T14:15:06.439728",
     "exception": false,
     "start_time": "2023-02-19T14:15:06.416335",
     "status": "completed"
    },
    "tags": []
   },
   "source": [
    "## *Importing Libraries*"
   ]
  },
  {
   "cell_type": "code",
   "execution_count": 2,
   "id": "c2fc7b48",
   "metadata": {
    "execution": {
     "iopub.execute_input": "2023-02-19T14:15:06.490716Z",
     "iopub.status.busy": "2023-02-19T14:15:06.490331Z",
     "iopub.status.idle": "2023-02-19T14:15:07.511084Z",
     "shell.execute_reply": "2023-02-19T14:15:07.510034Z"
    },
    "papermill": {
     "duration": 1.050258,
     "end_time": "2023-02-19T14:15:07.513732",
     "exception": false,
     "start_time": "2023-02-19T14:15:06.463474",
     "status": "completed"
    },
    "tags": []
   },
   "outputs": [],
   "source": [
    "# Importing necessary libraries\n",
    "\n",
    "import pandas as pd\n",
    "import numpy as np\n",
    "import matplotlib.pyplot as plt\n",
    "import seaborn as sns\n",
    "import warnings\n",
    "warnings.filterwarnings(\"ignore\")"
   ]
  },
  {
   "cell_type": "markdown",
   "id": "33ae6eba",
   "metadata": {
    "papermill": {
     "duration": 0.023006,
     "end_time": "2023-02-19T14:15:07.560651",
     "exception": false,
     "start_time": "2023-02-19T14:15:07.537645",
     "status": "completed"
    },
    "tags": []
   },
   "source": [
    "## *Data Reading*"
   ]
  },
  {
   "cell_type": "code",
   "execution_count": 3,
   "id": "060201ec",
   "metadata": {
    "execution": {
     "iopub.execute_input": "2023-02-19T14:15:07.609682Z",
     "iopub.status.busy": "2023-02-19T14:15:07.608487Z",
     "iopub.status.idle": "2023-02-19T14:15:07.670163Z",
     "shell.execute_reply": "2023-02-19T14:15:07.668849Z"
    },
    "papermill": {
     "duration": 0.089068,
     "end_time": "2023-02-19T14:15:07.672921",
     "exception": false,
     "start_time": "2023-02-19T14:15:07.583853",
     "status": "completed"
    },
    "tags": []
   },
   "outputs": [],
   "source": [
    "# Loading Train Dataset \n",
    "\n",
    "train=pd.read_csv('/kaggle/input/spaceship-titanic/train.csv')"
   ]
  },
  {
   "cell_type": "code",
   "execution_count": 4,
   "id": "9da889b3",
   "metadata": {
    "execution": {
     "iopub.execute_input": "2023-02-19T14:15:07.722601Z",
     "iopub.status.busy": "2023-02-19T14:15:07.721837Z",
     "iopub.status.idle": "2023-02-19T14:15:07.754817Z",
     "shell.execute_reply": "2023-02-19T14:15:07.753899Z"
    },
    "papermill": {
     "duration": 0.060131,
     "end_time": "2023-02-19T14:15:07.757096",
     "exception": false,
     "start_time": "2023-02-19T14:15:07.696965",
     "status": "completed"
    },
    "tags": []
   },
   "outputs": [
    {
     "data": {
      "text/html": [
       "<div>\n",
       "<style scoped>\n",
       "    .dataframe tbody tr th:only-of-type {\n",
       "        vertical-align: middle;\n",
       "    }\n",
       "\n",
       "    .dataframe tbody tr th {\n",
       "        vertical-align: top;\n",
       "    }\n",
       "\n",
       "    .dataframe thead th {\n",
       "        text-align: right;\n",
       "    }\n",
       "</style>\n",
       "<table border=\"1\" class=\"dataframe\">\n",
       "  <thead>\n",
       "    <tr style=\"text-align: right;\">\n",
       "      <th></th>\n",
       "      <th>PassengerId</th>\n",
       "      <th>HomePlanet</th>\n",
       "      <th>CryoSleep</th>\n",
       "      <th>Cabin</th>\n",
       "      <th>Destination</th>\n",
       "      <th>Age</th>\n",
       "      <th>VIP</th>\n",
       "      <th>RoomService</th>\n",
       "      <th>FoodCourt</th>\n",
       "      <th>ShoppingMall</th>\n",
       "      <th>Spa</th>\n",
       "      <th>VRDeck</th>\n",
       "      <th>Name</th>\n",
       "      <th>Transported</th>\n",
       "    </tr>\n",
       "  </thead>\n",
       "  <tbody>\n",
       "    <tr>\n",
       "      <th>0</th>\n",
       "      <td>0001_01</td>\n",
       "      <td>Europa</td>\n",
       "      <td>False</td>\n",
       "      <td>B/0/P</td>\n",
       "      <td>TRAPPIST-1e</td>\n",
       "      <td>39.0</td>\n",
       "      <td>False</td>\n",
       "      <td>0.0</td>\n",
       "      <td>0.0</td>\n",
       "      <td>0.0</td>\n",
       "      <td>0.0</td>\n",
       "      <td>0.0</td>\n",
       "      <td>Maham Ofracculy</td>\n",
       "      <td>False</td>\n",
       "    </tr>\n",
       "    <tr>\n",
       "      <th>1</th>\n",
       "      <td>0002_01</td>\n",
       "      <td>Earth</td>\n",
       "      <td>False</td>\n",
       "      <td>F/0/S</td>\n",
       "      <td>TRAPPIST-1e</td>\n",
       "      <td>24.0</td>\n",
       "      <td>False</td>\n",
       "      <td>109.0</td>\n",
       "      <td>9.0</td>\n",
       "      <td>25.0</td>\n",
       "      <td>549.0</td>\n",
       "      <td>44.0</td>\n",
       "      <td>Juanna Vines</td>\n",
       "      <td>True</td>\n",
       "    </tr>\n",
       "    <tr>\n",
       "      <th>2</th>\n",
       "      <td>0003_01</td>\n",
       "      <td>Europa</td>\n",
       "      <td>False</td>\n",
       "      <td>A/0/S</td>\n",
       "      <td>TRAPPIST-1e</td>\n",
       "      <td>58.0</td>\n",
       "      <td>True</td>\n",
       "      <td>43.0</td>\n",
       "      <td>3576.0</td>\n",
       "      <td>0.0</td>\n",
       "      <td>6715.0</td>\n",
       "      <td>49.0</td>\n",
       "      <td>Altark Susent</td>\n",
       "      <td>False</td>\n",
       "    </tr>\n",
       "    <tr>\n",
       "      <th>3</th>\n",
       "      <td>0003_02</td>\n",
       "      <td>Europa</td>\n",
       "      <td>False</td>\n",
       "      <td>A/0/S</td>\n",
       "      <td>TRAPPIST-1e</td>\n",
       "      <td>33.0</td>\n",
       "      <td>False</td>\n",
       "      <td>0.0</td>\n",
       "      <td>1283.0</td>\n",
       "      <td>371.0</td>\n",
       "      <td>3329.0</td>\n",
       "      <td>193.0</td>\n",
       "      <td>Solam Susent</td>\n",
       "      <td>False</td>\n",
       "    </tr>\n",
       "    <tr>\n",
       "      <th>4</th>\n",
       "      <td>0004_01</td>\n",
       "      <td>Earth</td>\n",
       "      <td>False</td>\n",
       "      <td>F/1/S</td>\n",
       "      <td>TRAPPIST-1e</td>\n",
       "      <td>16.0</td>\n",
       "      <td>False</td>\n",
       "      <td>303.0</td>\n",
       "      <td>70.0</td>\n",
       "      <td>151.0</td>\n",
       "      <td>565.0</td>\n",
       "      <td>2.0</td>\n",
       "      <td>Willy Santantines</td>\n",
       "      <td>True</td>\n",
       "    </tr>\n",
       "  </tbody>\n",
       "</table>\n",
       "</div>"
      ],
      "text/plain": [
       "  PassengerId HomePlanet CryoSleep  Cabin  Destination   Age    VIP  \\\n",
       "0     0001_01     Europa     False  B/0/P  TRAPPIST-1e  39.0  False   \n",
       "1     0002_01      Earth     False  F/0/S  TRAPPIST-1e  24.0  False   \n",
       "2     0003_01     Europa     False  A/0/S  TRAPPIST-1e  58.0   True   \n",
       "3     0003_02     Europa     False  A/0/S  TRAPPIST-1e  33.0  False   \n",
       "4     0004_01      Earth     False  F/1/S  TRAPPIST-1e  16.0  False   \n",
       "\n",
       "   RoomService  FoodCourt  ShoppingMall     Spa  VRDeck               Name  \\\n",
       "0          0.0        0.0           0.0     0.0     0.0    Maham Ofracculy   \n",
       "1        109.0        9.0          25.0   549.0    44.0       Juanna Vines   \n",
       "2         43.0     3576.0           0.0  6715.0    49.0      Altark Susent   \n",
       "3          0.0     1283.0         371.0  3329.0   193.0       Solam Susent   \n",
       "4        303.0       70.0         151.0   565.0     2.0  Willy Santantines   \n",
       "\n",
       "   Transported  \n",
       "0        False  \n",
       "1         True  \n",
       "2        False  \n",
       "3        False  \n",
       "4         True  "
      ]
     },
     "execution_count": 4,
     "metadata": {},
     "output_type": "execute_result"
    }
   ],
   "source": [
    "train.head()"
   ]
  },
  {
   "cell_type": "code",
   "execution_count": 5,
   "id": "95509e44",
   "metadata": {
    "execution": {
     "iopub.execute_input": "2023-02-19T14:15:07.807576Z",
     "iopub.status.busy": "2023-02-19T14:15:07.806528Z",
     "iopub.status.idle": "2023-02-19T14:15:07.851878Z",
     "shell.execute_reply": "2023-02-19T14:15:07.850699Z"
    },
    "papermill": {
     "duration": 0.073473,
     "end_time": "2023-02-19T14:15:07.854523",
     "exception": false,
     "start_time": "2023-02-19T14:15:07.781050",
     "status": "completed"
    },
    "tags": []
   },
   "outputs": [
    {
     "data": {
      "text/html": [
       "<div>\n",
       "<style scoped>\n",
       "    .dataframe tbody tr th:only-of-type {\n",
       "        vertical-align: middle;\n",
       "    }\n",
       "\n",
       "    .dataframe tbody tr th {\n",
       "        vertical-align: top;\n",
       "    }\n",
       "\n",
       "    .dataframe thead th {\n",
       "        text-align: right;\n",
       "    }\n",
       "</style>\n",
       "<table border=\"1\" class=\"dataframe\">\n",
       "  <thead>\n",
       "    <tr style=\"text-align: right;\">\n",
       "      <th></th>\n",
       "      <th>PassengerId</th>\n",
       "      <th>HomePlanet</th>\n",
       "      <th>CryoSleep</th>\n",
       "      <th>Cabin</th>\n",
       "      <th>Destination</th>\n",
       "      <th>Age</th>\n",
       "      <th>VIP</th>\n",
       "      <th>RoomService</th>\n",
       "      <th>FoodCourt</th>\n",
       "      <th>ShoppingMall</th>\n",
       "      <th>Spa</th>\n",
       "      <th>VRDeck</th>\n",
       "      <th>Name</th>\n",
       "    </tr>\n",
       "  </thead>\n",
       "  <tbody>\n",
       "    <tr>\n",
       "      <th>0</th>\n",
       "      <td>0013_01</td>\n",
       "      <td>Earth</td>\n",
       "      <td>True</td>\n",
       "      <td>G/3/S</td>\n",
       "      <td>TRAPPIST-1e</td>\n",
       "      <td>27.0</td>\n",
       "      <td>False</td>\n",
       "      <td>0.0</td>\n",
       "      <td>0.0</td>\n",
       "      <td>0.0</td>\n",
       "      <td>0.0</td>\n",
       "      <td>0.0</td>\n",
       "      <td>Nelly Carsoning</td>\n",
       "    </tr>\n",
       "    <tr>\n",
       "      <th>1</th>\n",
       "      <td>0018_01</td>\n",
       "      <td>Earth</td>\n",
       "      <td>False</td>\n",
       "      <td>F/4/S</td>\n",
       "      <td>TRAPPIST-1e</td>\n",
       "      <td>19.0</td>\n",
       "      <td>False</td>\n",
       "      <td>0.0</td>\n",
       "      <td>9.0</td>\n",
       "      <td>0.0</td>\n",
       "      <td>2823.0</td>\n",
       "      <td>0.0</td>\n",
       "      <td>Lerome Peckers</td>\n",
       "    </tr>\n",
       "    <tr>\n",
       "      <th>2</th>\n",
       "      <td>0019_01</td>\n",
       "      <td>Europa</td>\n",
       "      <td>True</td>\n",
       "      <td>C/0/S</td>\n",
       "      <td>55 Cancri e</td>\n",
       "      <td>31.0</td>\n",
       "      <td>False</td>\n",
       "      <td>0.0</td>\n",
       "      <td>0.0</td>\n",
       "      <td>0.0</td>\n",
       "      <td>0.0</td>\n",
       "      <td>0.0</td>\n",
       "      <td>Sabih Unhearfus</td>\n",
       "    </tr>\n",
       "    <tr>\n",
       "      <th>3</th>\n",
       "      <td>0021_01</td>\n",
       "      <td>Europa</td>\n",
       "      <td>False</td>\n",
       "      <td>C/1/S</td>\n",
       "      <td>TRAPPIST-1e</td>\n",
       "      <td>38.0</td>\n",
       "      <td>False</td>\n",
       "      <td>0.0</td>\n",
       "      <td>6652.0</td>\n",
       "      <td>0.0</td>\n",
       "      <td>181.0</td>\n",
       "      <td>585.0</td>\n",
       "      <td>Meratz Caltilter</td>\n",
       "    </tr>\n",
       "    <tr>\n",
       "      <th>4</th>\n",
       "      <td>0023_01</td>\n",
       "      <td>Earth</td>\n",
       "      <td>False</td>\n",
       "      <td>F/5/S</td>\n",
       "      <td>TRAPPIST-1e</td>\n",
       "      <td>20.0</td>\n",
       "      <td>False</td>\n",
       "      <td>10.0</td>\n",
       "      <td>0.0</td>\n",
       "      <td>635.0</td>\n",
       "      <td>0.0</td>\n",
       "      <td>0.0</td>\n",
       "      <td>Brence Harperez</td>\n",
       "    </tr>\n",
       "  </tbody>\n",
       "</table>\n",
       "</div>"
      ],
      "text/plain": [
       "  PassengerId HomePlanet CryoSleep  Cabin  Destination   Age    VIP  \\\n",
       "0     0013_01      Earth      True  G/3/S  TRAPPIST-1e  27.0  False   \n",
       "1     0018_01      Earth     False  F/4/S  TRAPPIST-1e  19.0  False   \n",
       "2     0019_01     Europa      True  C/0/S  55 Cancri e  31.0  False   \n",
       "3     0021_01     Europa     False  C/1/S  TRAPPIST-1e  38.0  False   \n",
       "4     0023_01      Earth     False  F/5/S  TRAPPIST-1e  20.0  False   \n",
       "\n",
       "   RoomService  FoodCourt  ShoppingMall     Spa  VRDeck              Name  \n",
       "0          0.0        0.0           0.0     0.0     0.0   Nelly Carsoning  \n",
       "1          0.0        9.0           0.0  2823.0     0.0    Lerome Peckers  \n",
       "2          0.0        0.0           0.0     0.0     0.0   Sabih Unhearfus  \n",
       "3          0.0     6652.0           0.0   181.0   585.0  Meratz Caltilter  \n",
       "4         10.0        0.0         635.0     0.0     0.0   Brence Harperez  "
      ]
     },
     "execution_count": 5,
     "metadata": {},
     "output_type": "execute_result"
    }
   ],
   "source": [
    "#Loading Test Dataset\n",
    "\n",
    "test=pd.read_csv('/kaggle/input/spaceship-titanic/test.csv')\n",
    "test.head()"
   ]
  },
  {
   "cell_type": "code",
   "execution_count": 6,
   "id": "a6ff40fd",
   "metadata": {
    "execution": {
     "iopub.execute_input": "2023-02-19T14:15:07.905747Z",
     "iopub.status.busy": "2023-02-19T14:15:07.904925Z",
     "iopub.status.idle": "2023-02-19T14:15:07.933973Z",
     "shell.execute_reply": "2023-02-19T14:15:07.932608Z"
    },
    "papermill": {
     "duration": 0.05763,
     "end_time": "2023-02-19T14:15:07.936671",
     "exception": false,
     "start_time": "2023-02-19T14:15:07.879041",
     "status": "completed"
    },
    "tags": []
   },
   "outputs": [
    {
     "name": "stdout",
     "output_type": "stream",
     "text": [
      "<class 'pandas.core.frame.DataFrame'>\n",
      "RangeIndex: 8693 entries, 0 to 8692\n",
      "Data columns (total 14 columns):\n",
      " #   Column        Non-Null Count  Dtype  \n",
      "---  ------        --------------  -----  \n",
      " 0   PassengerId   8693 non-null   object \n",
      " 1   HomePlanet    8492 non-null   object \n",
      " 2   CryoSleep     8476 non-null   object \n",
      " 3   Cabin         8494 non-null   object \n",
      " 4   Destination   8511 non-null   object \n",
      " 5   Age           8514 non-null   float64\n",
      " 6   VIP           8490 non-null   object \n",
      " 7   RoomService   8512 non-null   float64\n",
      " 8   FoodCourt     8510 non-null   float64\n",
      " 9   ShoppingMall  8485 non-null   float64\n",
      " 10  Spa           8510 non-null   float64\n",
      " 11  VRDeck        8505 non-null   float64\n",
      " 12  Name          8493 non-null   object \n",
      " 13  Transported   8693 non-null   bool   \n",
      "dtypes: bool(1), float64(6), object(7)\n",
      "memory usage: 891.5+ KB\n"
     ]
    }
   ],
   "source": [
    "#Checking info\n",
    "\n",
    "train.info()"
   ]
  },
  {
   "cell_type": "code",
   "execution_count": 7,
   "id": "17afd852",
   "metadata": {
    "execution": {
     "iopub.execute_input": "2023-02-19T14:15:07.986789Z",
     "iopub.status.busy": "2023-02-19T14:15:07.986368Z",
     "iopub.status.idle": "2023-02-19T14:15:08.018341Z",
     "shell.execute_reply": "2023-02-19T14:15:08.017452Z"
    },
    "papermill": {
     "duration": 0.059687,
     "end_time": "2023-02-19T14:15:08.020529",
     "exception": false,
     "start_time": "2023-02-19T14:15:07.960842",
     "status": "completed"
    },
    "tags": []
   },
   "outputs": [
    {
     "data": {
      "text/html": [
       "<div>\n",
       "<style scoped>\n",
       "    .dataframe tbody tr th:only-of-type {\n",
       "        vertical-align: middle;\n",
       "    }\n",
       "\n",
       "    .dataframe tbody tr th {\n",
       "        vertical-align: top;\n",
       "    }\n",
       "\n",
       "    .dataframe thead th {\n",
       "        text-align: right;\n",
       "    }\n",
       "</style>\n",
       "<table border=\"1\" class=\"dataframe\">\n",
       "  <thead>\n",
       "    <tr style=\"text-align: right;\">\n",
       "      <th></th>\n",
       "      <th>Age</th>\n",
       "      <th>RoomService</th>\n",
       "      <th>FoodCourt</th>\n",
       "      <th>ShoppingMall</th>\n",
       "      <th>Spa</th>\n",
       "      <th>VRDeck</th>\n",
       "    </tr>\n",
       "  </thead>\n",
       "  <tbody>\n",
       "    <tr>\n",
       "      <th>count</th>\n",
       "      <td>8514.000000</td>\n",
       "      <td>8512.000000</td>\n",
       "      <td>8510.000000</td>\n",
       "      <td>8485.000000</td>\n",
       "      <td>8510.000000</td>\n",
       "      <td>8505.000000</td>\n",
       "    </tr>\n",
       "    <tr>\n",
       "      <th>mean</th>\n",
       "      <td>28.827930</td>\n",
       "      <td>224.687617</td>\n",
       "      <td>458.077203</td>\n",
       "      <td>173.729169</td>\n",
       "      <td>311.138778</td>\n",
       "      <td>304.854791</td>\n",
       "    </tr>\n",
       "    <tr>\n",
       "      <th>std</th>\n",
       "      <td>14.489021</td>\n",
       "      <td>666.717663</td>\n",
       "      <td>1611.489240</td>\n",
       "      <td>604.696458</td>\n",
       "      <td>1136.705535</td>\n",
       "      <td>1145.717189</td>\n",
       "    </tr>\n",
       "    <tr>\n",
       "      <th>min</th>\n",
       "      <td>0.000000</td>\n",
       "      <td>0.000000</td>\n",
       "      <td>0.000000</td>\n",
       "      <td>0.000000</td>\n",
       "      <td>0.000000</td>\n",
       "      <td>0.000000</td>\n",
       "    </tr>\n",
       "    <tr>\n",
       "      <th>25%</th>\n",
       "      <td>19.000000</td>\n",
       "      <td>0.000000</td>\n",
       "      <td>0.000000</td>\n",
       "      <td>0.000000</td>\n",
       "      <td>0.000000</td>\n",
       "      <td>0.000000</td>\n",
       "    </tr>\n",
       "    <tr>\n",
       "      <th>50%</th>\n",
       "      <td>27.000000</td>\n",
       "      <td>0.000000</td>\n",
       "      <td>0.000000</td>\n",
       "      <td>0.000000</td>\n",
       "      <td>0.000000</td>\n",
       "      <td>0.000000</td>\n",
       "    </tr>\n",
       "    <tr>\n",
       "      <th>75%</th>\n",
       "      <td>38.000000</td>\n",
       "      <td>47.000000</td>\n",
       "      <td>76.000000</td>\n",
       "      <td>27.000000</td>\n",
       "      <td>59.000000</td>\n",
       "      <td>46.000000</td>\n",
       "    </tr>\n",
       "    <tr>\n",
       "      <th>max</th>\n",
       "      <td>79.000000</td>\n",
       "      <td>14327.000000</td>\n",
       "      <td>29813.000000</td>\n",
       "      <td>23492.000000</td>\n",
       "      <td>22408.000000</td>\n",
       "      <td>24133.000000</td>\n",
       "    </tr>\n",
       "  </tbody>\n",
       "</table>\n",
       "</div>"
      ],
      "text/plain": [
       "               Age   RoomService     FoodCourt  ShoppingMall           Spa  \\\n",
       "count  8514.000000   8512.000000   8510.000000   8485.000000   8510.000000   \n",
       "mean     28.827930    224.687617    458.077203    173.729169    311.138778   \n",
       "std      14.489021    666.717663   1611.489240    604.696458   1136.705535   \n",
       "min       0.000000      0.000000      0.000000      0.000000      0.000000   \n",
       "25%      19.000000      0.000000      0.000000      0.000000      0.000000   \n",
       "50%      27.000000      0.000000      0.000000      0.000000      0.000000   \n",
       "75%      38.000000     47.000000     76.000000     27.000000     59.000000   \n",
       "max      79.000000  14327.000000  29813.000000  23492.000000  22408.000000   \n",
       "\n",
       "             VRDeck  \n",
       "count   8505.000000  \n",
       "mean     304.854791  \n",
       "std     1145.717189  \n",
       "min        0.000000  \n",
       "25%        0.000000  \n",
       "50%        0.000000  \n",
       "75%       46.000000  \n",
       "max    24133.000000  "
      ]
     },
     "execution_count": 7,
     "metadata": {},
     "output_type": "execute_result"
    }
   ],
   "source": [
    "#Checking the distributions for numerical columns.\n",
    "\n",
    "train.describe()"
   ]
  },
  {
   "cell_type": "markdown",
   "id": "7ca8b263",
   "metadata": {
    "papermill": {
     "duration": 0.025386,
     "end_time": "2023-02-19T14:15:08.071411",
     "exception": false,
     "start_time": "2023-02-19T14:15:08.046025",
     "status": "completed"
    },
    "tags": []
   },
   "source": [
    "### *Checking Nulls*"
   ]
  },
  {
   "cell_type": "code",
   "execution_count": 8,
   "id": "21023eca",
   "metadata": {
    "execution": {
     "iopub.execute_input": "2023-02-19T14:15:08.123814Z",
     "iopub.status.busy": "2023-02-19T14:15:08.123116Z",
     "iopub.status.idle": "2023-02-19T14:15:08.134583Z",
     "shell.execute_reply": "2023-02-19T14:15:08.133734Z"
    },
    "papermill": {
     "duration": 0.040149,
     "end_time": "2023-02-19T14:15:08.136775",
     "exception": false,
     "start_time": "2023-02-19T14:15:08.096626",
     "status": "completed"
    },
    "tags": []
   },
   "outputs": [
    {
     "data": {
      "text/plain": [
       "PassengerId       0\n",
       "HomePlanet      201\n",
       "CryoSleep       217\n",
       "Cabin           199\n",
       "Destination     182\n",
       "Age             179\n",
       "VIP             203\n",
       "RoomService     181\n",
       "FoodCourt       183\n",
       "ShoppingMall    208\n",
       "Spa             183\n",
       "VRDeck          188\n",
       "Name            200\n",
       "Transported       0\n",
       "dtype: int64"
      ]
     },
     "execution_count": 8,
     "metadata": {},
     "output_type": "execute_result"
    }
   ],
   "source": [
    "#Chesking nulls in Train Dataset.\n",
    "\n",
    "train.isna().sum()"
   ]
  },
  {
   "cell_type": "code",
   "execution_count": 9,
   "id": "7318a8f5",
   "metadata": {
    "execution": {
     "iopub.execute_input": "2023-02-19T14:15:08.188032Z",
     "iopub.status.busy": "2023-02-19T14:15:08.187358Z",
     "iopub.status.idle": "2023-02-19T14:15:08.196718Z",
     "shell.execute_reply": "2023-02-19T14:15:08.195348Z"
    },
    "papermill": {
     "duration": 0.038011,
     "end_time": "2023-02-19T14:15:08.199358",
     "exception": false,
     "start_time": "2023-02-19T14:15:08.161347",
     "status": "completed"
    },
    "tags": []
   },
   "outputs": [
    {
     "data": {
      "text/plain": [
       "Earth     0.529391\n",
       "Europa    0.245140\n",
       "Mars      0.202347\n",
       "NaN       0.023122\n",
       "Name: HomePlanet, dtype: float64"
      ]
     },
     "execution_count": 9,
     "metadata": {},
     "output_type": "execute_result"
    }
   ],
   "source": [
    "#Checking valuecounts for imputing Nulls\n",
    "\n",
    "train.HomePlanet.value_counts(dropna=False,normalize=True)"
   ]
  },
  {
   "cell_type": "code",
   "execution_count": 10,
   "id": "d808e326",
   "metadata": {
    "execution": {
     "iopub.execute_input": "2023-02-19T14:15:08.251242Z",
     "iopub.status.busy": "2023-02-19T14:15:08.250437Z",
     "iopub.status.idle": "2023-02-19T14:15:08.257901Z",
     "shell.execute_reply": "2023-02-19T14:15:08.256998Z"
    },
    "papermill": {
     "duration": 0.036008,
     "end_time": "2023-02-19T14:15:08.260339",
     "exception": false,
     "start_time": "2023-02-19T14:15:08.224331",
     "status": "completed"
    },
    "tags": []
   },
   "outputs": [],
   "source": [
    "#Imputing HomePlanet attribute with Earth for NaN's\n",
    "\n",
    "train['HomePlanet']=train.HomePlanet.fillna(train.HomePlanet.mode()[0])"
   ]
  },
  {
   "cell_type": "code",
   "execution_count": 11,
   "id": "4ed6b4d0",
   "metadata": {
    "execution": {
     "iopub.execute_input": "2023-02-19T14:15:08.313034Z",
     "iopub.status.busy": "2023-02-19T14:15:08.312330Z",
     "iopub.status.idle": "2023-02-19T14:15:08.321186Z",
     "shell.execute_reply": "2023-02-19T14:15:08.320124Z"
    },
    "papermill": {
     "duration": 0.037549,
     "end_time": "2023-02-19T14:15:08.323569",
     "exception": false,
     "start_time": "2023-02-19T14:15:08.286020",
     "status": "completed"
    },
    "tags": []
   },
   "outputs": [
    {
     "data": {
      "text/plain": [
       "Earth     0.552514\n",
       "Europa    0.245140\n",
       "Mars      0.202347\n",
       "Name: HomePlanet, dtype: float64"
      ]
     },
     "execution_count": 11,
     "metadata": {},
     "output_type": "execute_result"
    }
   ],
   "source": [
    "# Checking for any Nulls \n",
    "\n",
    "train.HomePlanet.value_counts(dropna=False,normalize=True)"
   ]
  },
  {
   "cell_type": "code",
   "execution_count": 12,
   "id": "483b4b43",
   "metadata": {
    "execution": {
     "iopub.execute_input": "2023-02-19T14:15:08.375434Z",
     "iopub.status.busy": "2023-02-19T14:15:08.374999Z",
     "iopub.status.idle": "2023-02-19T14:15:08.395117Z",
     "shell.execute_reply": "2023-02-19T14:15:08.394241Z"
    },
    "papermill": {
     "duration": 0.048748,
     "end_time": "2023-02-19T14:15:08.397318",
     "exception": false,
     "start_time": "2023-02-19T14:15:08.348570",
     "status": "completed"
    },
    "tags": []
   },
   "outputs": [
    {
     "data": {
      "text/html": [
       "<div>\n",
       "<style scoped>\n",
       "    .dataframe tbody tr th:only-of-type {\n",
       "        vertical-align: middle;\n",
       "    }\n",
       "\n",
       "    .dataframe tbody tr th {\n",
       "        vertical-align: top;\n",
       "    }\n",
       "\n",
       "    .dataframe thead th {\n",
       "        text-align: right;\n",
       "    }\n",
       "</style>\n",
       "<table border=\"1\" class=\"dataframe\">\n",
       "  <thead>\n",
       "    <tr style=\"text-align: right;\">\n",
       "      <th></th>\n",
       "      <th>PassengerId</th>\n",
       "      <th>HomePlanet</th>\n",
       "      <th>CryoSleep</th>\n",
       "      <th>Cabin</th>\n",
       "      <th>Destination</th>\n",
       "      <th>Age</th>\n",
       "      <th>VIP</th>\n",
       "      <th>RoomService</th>\n",
       "      <th>FoodCourt</th>\n",
       "      <th>ShoppingMall</th>\n",
       "      <th>Spa</th>\n",
       "      <th>VRDeck</th>\n",
       "      <th>Name</th>\n",
       "      <th>Transported</th>\n",
       "    </tr>\n",
       "  </thead>\n",
       "  <tbody>\n",
       "    <tr>\n",
       "      <th>0</th>\n",
       "      <td>0001_01</td>\n",
       "      <td>Europa</td>\n",
       "      <td>False</td>\n",
       "      <td>B/0/P</td>\n",
       "      <td>TRAPPIST-1e</td>\n",
       "      <td>39.0</td>\n",
       "      <td>False</td>\n",
       "      <td>0.0</td>\n",
       "      <td>0.0</td>\n",
       "      <td>0.0</td>\n",
       "      <td>0.0</td>\n",
       "      <td>0.0</td>\n",
       "      <td>Maham Ofracculy</td>\n",
       "      <td>False</td>\n",
       "    </tr>\n",
       "    <tr>\n",
       "      <th>1</th>\n",
       "      <td>0002_01</td>\n",
       "      <td>Earth</td>\n",
       "      <td>False</td>\n",
       "      <td>F/0/S</td>\n",
       "      <td>TRAPPIST-1e</td>\n",
       "      <td>24.0</td>\n",
       "      <td>False</td>\n",
       "      <td>109.0</td>\n",
       "      <td>9.0</td>\n",
       "      <td>25.0</td>\n",
       "      <td>549.0</td>\n",
       "      <td>44.0</td>\n",
       "      <td>Juanna Vines</td>\n",
       "      <td>True</td>\n",
       "    </tr>\n",
       "    <tr>\n",
       "      <th>2</th>\n",
       "      <td>0003_01</td>\n",
       "      <td>Europa</td>\n",
       "      <td>False</td>\n",
       "      <td>A/0/S</td>\n",
       "      <td>TRAPPIST-1e</td>\n",
       "      <td>58.0</td>\n",
       "      <td>True</td>\n",
       "      <td>43.0</td>\n",
       "      <td>3576.0</td>\n",
       "      <td>0.0</td>\n",
       "      <td>6715.0</td>\n",
       "      <td>49.0</td>\n",
       "      <td>Altark Susent</td>\n",
       "      <td>False</td>\n",
       "    </tr>\n",
       "    <tr>\n",
       "      <th>3</th>\n",
       "      <td>0003_02</td>\n",
       "      <td>Europa</td>\n",
       "      <td>False</td>\n",
       "      <td>A/0/S</td>\n",
       "      <td>TRAPPIST-1e</td>\n",
       "      <td>33.0</td>\n",
       "      <td>False</td>\n",
       "      <td>0.0</td>\n",
       "      <td>1283.0</td>\n",
       "      <td>371.0</td>\n",
       "      <td>3329.0</td>\n",
       "      <td>193.0</td>\n",
       "      <td>Solam Susent</td>\n",
       "      <td>False</td>\n",
       "    </tr>\n",
       "    <tr>\n",
       "      <th>4</th>\n",
       "      <td>0004_01</td>\n",
       "      <td>Earth</td>\n",
       "      <td>False</td>\n",
       "      <td>F/1/S</td>\n",
       "      <td>TRAPPIST-1e</td>\n",
       "      <td>16.0</td>\n",
       "      <td>False</td>\n",
       "      <td>303.0</td>\n",
       "      <td>70.0</td>\n",
       "      <td>151.0</td>\n",
       "      <td>565.0</td>\n",
       "      <td>2.0</td>\n",
       "      <td>Willy Santantines</td>\n",
       "      <td>True</td>\n",
       "    </tr>\n",
       "  </tbody>\n",
       "</table>\n",
       "</div>"
      ],
      "text/plain": [
       "  PassengerId HomePlanet CryoSleep  Cabin  Destination   Age    VIP  \\\n",
       "0     0001_01     Europa     False  B/0/P  TRAPPIST-1e  39.0  False   \n",
       "1     0002_01      Earth     False  F/0/S  TRAPPIST-1e  24.0  False   \n",
       "2     0003_01     Europa     False  A/0/S  TRAPPIST-1e  58.0   True   \n",
       "3     0003_02     Europa     False  A/0/S  TRAPPIST-1e  33.0  False   \n",
       "4     0004_01      Earth     False  F/1/S  TRAPPIST-1e  16.0  False   \n",
       "\n",
       "   RoomService  FoodCourt  ShoppingMall     Spa  VRDeck               Name  \\\n",
       "0          0.0        0.0           0.0     0.0     0.0    Maham Ofracculy   \n",
       "1        109.0        9.0          25.0   549.0    44.0       Juanna Vines   \n",
       "2         43.0     3576.0           0.0  6715.0    49.0      Altark Susent   \n",
       "3          0.0     1283.0         371.0  3329.0   193.0       Solam Susent   \n",
       "4        303.0       70.0         151.0   565.0     2.0  Willy Santantines   \n",
       "\n",
       "   Transported  \n",
       "0        False  \n",
       "1         True  \n",
       "2        False  \n",
       "3        False  \n",
       "4         True  "
      ]
     },
     "execution_count": 12,
     "metadata": {},
     "output_type": "execute_result"
    }
   ],
   "source": [
    "#Displaying Train dataset head\n",
    "\n",
    "train.head()"
   ]
  },
  {
   "cell_type": "code",
   "execution_count": 13,
   "id": "102176ab",
   "metadata": {
    "execution": {
     "iopub.execute_input": "2023-02-19T14:15:08.450248Z",
     "iopub.status.busy": "2023-02-19T14:15:08.449798Z",
     "iopub.status.idle": "2023-02-19T14:15:08.459373Z",
     "shell.execute_reply": "2023-02-19T14:15:08.458244Z"
    },
    "papermill": {
     "duration": 0.039048,
     "end_time": "2023-02-19T14:15:08.461585",
     "exception": false,
     "start_time": "2023-02-19T14:15:08.422537",
     "status": "completed"
    },
    "tags": []
   },
   "outputs": [
    {
     "data": {
      "text/plain": [
       "False    5439\n",
       "True     3037\n",
       "NaN       217\n",
       "Name: CryoSleep, dtype: int64"
      ]
     },
     "execution_count": 13,
     "metadata": {},
     "output_type": "execute_result"
    }
   ],
   "source": [
    "#Checking NaN's for Cryosleep \n",
    "\n",
    "train.CryoSleep.value_counts(dropna=False)"
   ]
  },
  {
   "cell_type": "code",
   "execution_count": 14,
   "id": "ef32f22e",
   "metadata": {
    "execution": {
     "iopub.execute_input": "2023-02-19T14:15:08.525220Z",
     "iopub.status.busy": "2023-02-19T14:15:08.523845Z",
     "iopub.status.idle": "2023-02-19T14:15:08.534078Z",
     "shell.execute_reply": "2023-02-19T14:15:08.532639Z"
    },
    "papermill": {
     "duration": 0.045117,
     "end_time": "2023-02-19T14:15:08.537172",
     "exception": false,
     "start_time": "2023-02-19T14:15:08.492055",
     "status": "completed"
    },
    "tags": []
   },
   "outputs": [],
   "source": [
    "#Imputing Cryosleep attribute with mode for Nan's\n",
    "\n",
    "train['CryoSleep']=train.CryoSleep.fillna(train.CryoSleep.mode()[0])"
   ]
  },
  {
   "cell_type": "code",
   "execution_count": 15,
   "id": "33ef934a",
   "metadata": {
    "execution": {
     "iopub.execute_input": "2023-02-19T14:15:08.595338Z",
     "iopub.status.busy": "2023-02-19T14:15:08.594900Z",
     "iopub.status.idle": "2023-02-19T14:15:08.603657Z",
     "shell.execute_reply": "2023-02-19T14:15:08.602574Z"
    },
    "papermill": {
     "duration": 0.03931,
     "end_time": "2023-02-19T14:15:08.606121",
     "exception": false,
     "start_time": "2023-02-19T14:15:08.566811",
     "status": "completed"
    },
    "tags": []
   },
   "outputs": [],
   "source": [
    "# Removing Rows with nulls in Cabin attribute as there is no point in imputing them\n",
    "\n",
    "train=train[~train.Cabin.isna()]"
   ]
  },
  {
   "cell_type": "code",
   "execution_count": 16,
   "id": "aef82a6c",
   "metadata": {
    "execution": {
     "iopub.execute_input": "2023-02-19T14:15:08.658189Z",
     "iopub.status.busy": "2023-02-19T14:15:08.657540Z",
     "iopub.status.idle": "2023-02-19T14:15:08.666850Z",
     "shell.execute_reply": "2023-02-19T14:15:08.665831Z"
    },
    "papermill": {
     "duration": 0.038098,
     "end_time": "2023-02-19T14:15:08.669008",
     "exception": false,
     "start_time": "2023-02-19T14:15:08.630910",
     "status": "completed"
    },
    "tags": []
   },
   "outputs": [
    {
     "data": {
      "text/plain": [
       "TRAPPIST-1e      5788\n",
       "55 Cancri e      1750\n",
       "PSO J318.5-22     778\n",
       "NaN               178\n",
       "Name: Destination, dtype: int64"
      ]
     },
     "execution_count": 16,
     "metadata": {},
     "output_type": "execute_result"
    }
   ],
   "source": [
    "#Checking for Nulls in Destination column\n",
    "\n",
    "train.Destination.value_counts(dropna=False)"
   ]
  },
  {
   "cell_type": "code",
   "execution_count": 17,
   "id": "864ad863",
   "metadata": {
    "execution": {
     "iopub.execute_input": "2023-02-19T14:15:08.721668Z",
     "iopub.status.busy": "2023-02-19T14:15:08.721005Z",
     "iopub.status.idle": "2023-02-19T14:15:08.727894Z",
     "shell.execute_reply": "2023-02-19T14:15:08.727089Z"
    },
    "papermill": {
     "duration": 0.035748,
     "end_time": "2023-02-19T14:15:08.730097",
     "exception": false,
     "start_time": "2023-02-19T14:15:08.694349",
     "status": "completed"
    },
    "tags": []
   },
   "outputs": [],
   "source": [
    "# Imputing Nulls with mode\n",
    "\n",
    "train['Destination']=train.Destination.fillna(train.Destination.mode()[0])"
   ]
  },
  {
   "cell_type": "code",
   "execution_count": 18,
   "id": "03b31840",
   "metadata": {
    "execution": {
     "iopub.execute_input": "2023-02-19T14:15:08.783022Z",
     "iopub.status.busy": "2023-02-19T14:15:08.782590Z",
     "iopub.status.idle": "2023-02-19T14:15:08.794741Z",
     "shell.execute_reply": "2023-02-19T14:15:08.793540Z"
    },
    "papermill": {
     "duration": 0.042171,
     "end_time": "2023-02-19T14:15:08.797320",
     "exception": false,
     "start_time": "2023-02-19T14:15:08.755149",
     "status": "completed"
    },
    "tags": []
   },
   "outputs": [
    {
     "data": {
      "text/plain": [
       "count    8319.000000\n",
       "mean       28.820411\n",
       "std        14.488090\n",
       "min         0.000000\n",
       "25%        19.000000\n",
       "50%        27.000000\n",
       "75%        38.000000\n",
       "max        79.000000\n",
       "Name: Age, dtype: float64"
      ]
     },
     "execution_count": 18,
     "metadata": {},
     "output_type": "execute_result"
    }
   ],
   "source": [
    "#Checking features of Age Column.\n",
    "\n",
    "train.Age.describe()"
   ]
  },
  {
   "cell_type": "code",
   "execution_count": 19,
   "id": "dcf18b2a",
   "metadata": {
    "execution": {
     "iopub.execute_input": "2023-02-19T14:15:08.850249Z",
     "iopub.status.busy": "2023-02-19T14:15:08.849180Z",
     "iopub.status.idle": "2023-02-19T14:15:08.856110Z",
     "shell.execute_reply": "2023-02-19T14:15:08.855047Z"
    },
    "papermill": {
     "duration": 0.035906,
     "end_time": "2023-02-19T14:15:08.858486",
     "exception": false,
     "start_time": "2023-02-19T14:15:08.822580",
     "status": "completed"
    },
    "tags": []
   },
   "outputs": [],
   "source": [
    "#Filling Age NaN's with Median value \n",
    "\n",
    "train['Age']=train.Age.fillna(train.Age.median())"
   ]
  },
  {
   "cell_type": "code",
   "execution_count": 20,
   "id": "2591598a",
   "metadata": {
    "execution": {
     "iopub.execute_input": "2023-02-19T14:15:08.911031Z",
     "iopub.status.busy": "2023-02-19T14:15:08.910629Z",
     "iopub.status.idle": "2023-02-19T14:15:08.919903Z",
     "shell.execute_reply": "2023-02-19T14:15:08.918740Z"
    },
    "papermill": {
     "duration": 0.038182,
     "end_time": "2023-02-19T14:15:08.922183",
     "exception": false,
     "start_time": "2023-02-19T14:15:08.884001",
     "status": "completed"
    },
    "tags": []
   },
   "outputs": [
    {
     "data": {
      "text/plain": [
       "False    8104\n",
       "NaN       197\n",
       "True      193\n",
       "Name: VIP, dtype: int64"
      ]
     },
     "execution_count": 20,
     "metadata": {},
     "output_type": "execute_result"
    }
   ],
   "source": [
    "#Checking Value counts for VIP column.\n",
    "\n",
    "train.VIP.value_counts(dropna=False)"
   ]
  },
  {
   "cell_type": "code",
   "execution_count": 21,
   "id": "f7d65330",
   "metadata": {
    "execution": {
     "iopub.execute_input": "2023-02-19T14:15:08.975910Z",
     "iopub.status.busy": "2023-02-19T14:15:08.975201Z",
     "iopub.status.idle": "2023-02-19T14:15:08.983918Z",
     "shell.execute_reply": "2023-02-19T14:15:08.982598Z"
    },
    "papermill": {
     "duration": 0.038955,
     "end_time": "2023-02-19T14:15:08.986456",
     "exception": false,
     "start_time": "2023-02-19T14:15:08.947501",
     "status": "completed"
    },
    "tags": []
   },
   "outputs": [],
   "source": [
    "#Imputing the NaN's VIP Column with mode\n",
    "\n",
    "train['VIP']=train.VIP.fillna(train.VIP.mode()[0])"
   ]
  },
  {
   "cell_type": "code",
   "execution_count": 22,
   "id": "839e2430",
   "metadata": {
    "execution": {
     "iopub.execute_input": "2023-02-19T14:15:09.038947Z",
     "iopub.status.busy": "2023-02-19T14:15:09.038527Z",
     "iopub.status.idle": "2023-02-19T14:15:09.054841Z",
     "shell.execute_reply": "2023-02-19T14:15:09.053713Z"
    },
    "papermill": {
     "duration": 0.045654,
     "end_time": "2023-02-19T14:15:09.057509",
     "exception": false,
     "start_time": "2023-02-19T14:15:09.011855",
     "status": "completed"
    },
    "tags": []
   },
   "outputs": [],
   "source": [
    "# Removing rows with Nulls in Numerical Columns.\n",
    "\n",
    "train=train[~train.RoomService.isna()]\n",
    "train=train[~train.FoodCourt.isna()]\n",
    "train=train[~train.ShoppingMall.isna()]\n",
    "train=train[~train.Spa.isna()]\n",
    "train=train[~train.VRDeck.isna()]"
   ]
  },
  {
   "cell_type": "code",
   "execution_count": 23,
   "id": "61bfc914",
   "metadata": {
    "execution": {
     "iopub.execute_input": "2023-02-19T14:15:09.115848Z",
     "iopub.status.busy": "2023-02-19T14:15:09.115311Z",
     "iopub.status.idle": "2023-02-19T14:15:09.128000Z",
     "shell.execute_reply": "2023-02-19T14:15:09.127050Z"
    },
    "papermill": {
     "duration": 0.047314,
     "end_time": "2023-02-19T14:15:09.130056",
     "exception": false,
     "start_time": "2023-02-19T14:15:09.082742",
     "status": "completed"
    },
    "tags": []
   },
   "outputs": [
    {
     "data": {
      "text/plain": [
       "PassengerId       0\n",
       "HomePlanet        0\n",
       "CryoSleep         0\n",
       "Cabin             0\n",
       "Destination       0\n",
       "Age               0\n",
       "VIP               0\n",
       "RoomService       0\n",
       "FoodCourt         0\n",
       "ShoppingMall      0\n",
       "Spa               0\n",
       "VRDeck            0\n",
       "Name            178\n",
       "Transported       0\n",
       "dtype: int64"
      ]
     },
     "execution_count": 23,
     "metadata": {},
     "output_type": "execute_result"
    }
   ],
   "source": [
    "#Checking Nulls in Dataset.\n",
    "\n",
    "train.isna().sum()"
   ]
  },
  {
   "cell_type": "code",
   "execution_count": 24,
   "id": "71c6eb09",
   "metadata": {
    "execution": {
     "iopub.execute_input": "2023-02-19T14:15:09.183731Z",
     "iopub.status.busy": "2023-02-19T14:15:09.182509Z",
     "iopub.status.idle": "2023-02-19T14:15:09.191279Z",
     "shell.execute_reply": "2023-02-19T14:15:09.190195Z"
    },
    "papermill": {
     "duration": 0.038221,
     "end_time": "2023-02-19T14:15:09.193786",
     "exception": false,
     "start_time": "2023-02-19T14:15:09.155565",
     "status": "completed"
    },
    "tags": []
   },
   "outputs": [],
   "source": [
    "# Dropping Rows with empty Names\n",
    "\n",
    "train=train[~train.Name.isna()]"
   ]
  },
  {
   "cell_type": "code",
   "execution_count": 25,
   "id": "09effc85",
   "metadata": {
    "execution": {
     "iopub.execute_input": "2023-02-19T14:15:09.246999Z",
     "iopub.status.busy": "2023-02-19T14:15:09.246569Z",
     "iopub.status.idle": "2023-02-19T14:15:09.263631Z",
     "shell.execute_reply": "2023-02-19T14:15:09.262240Z"
    },
    "papermill": {
     "duration": 0.046416,
     "end_time": "2023-02-19T14:15:09.265963",
     "exception": false,
     "start_time": "2023-02-19T14:15:09.219547",
     "status": "completed"
    },
    "tags": []
   },
   "outputs": [
    {
     "name": "stdout",
     "output_type": "stream",
     "text": [
      "<class 'pandas.core.frame.DataFrame'>\n",
      "Int64Index: 7425 entries, 0 to 8692\n",
      "Data columns (total 14 columns):\n",
      " #   Column        Non-Null Count  Dtype  \n",
      "---  ------        --------------  -----  \n",
      " 0   PassengerId   7425 non-null   object \n",
      " 1   HomePlanet    7425 non-null   object \n",
      " 2   CryoSleep     7425 non-null   bool   \n",
      " 3   Cabin         7425 non-null   object \n",
      " 4   Destination   7425 non-null   object \n",
      " 5   Age           7425 non-null   float64\n",
      " 6   VIP           7425 non-null   bool   \n",
      " 7   RoomService   7425 non-null   float64\n",
      " 8   FoodCourt     7425 non-null   float64\n",
      " 9   ShoppingMall  7425 non-null   float64\n",
      " 10  Spa           7425 non-null   float64\n",
      " 11  VRDeck        7425 non-null   float64\n",
      " 12  Name          7425 non-null   object \n",
      " 13  Transported   7425 non-null   bool   \n",
      "dtypes: bool(3), float64(6), object(5)\n",
      "memory usage: 717.8+ KB\n"
     ]
    }
   ],
   "source": [
    "#Checking d-types for all the attributes\n",
    "train.info()"
   ]
  },
  {
   "cell_type": "code",
   "execution_count": 26,
   "id": "07f98b77",
   "metadata": {
    "execution": {
     "iopub.execute_input": "2023-02-19T14:15:09.318902Z",
     "iopub.status.busy": "2023-02-19T14:15:09.318487Z",
     "iopub.status.idle": "2023-02-19T14:15:09.341548Z",
     "shell.execute_reply": "2023-02-19T14:15:09.340169Z"
    },
    "papermill": {
     "duration": 0.052556,
     "end_time": "2023-02-19T14:15:09.344115",
     "exception": false,
     "start_time": "2023-02-19T14:15:09.291559",
     "status": "completed"
    },
    "tags": []
   },
   "outputs": [
    {
     "data": {
      "text/html": [
       "<div>\n",
       "<style scoped>\n",
       "    .dataframe tbody tr th:only-of-type {\n",
       "        vertical-align: middle;\n",
       "    }\n",
       "\n",
       "    .dataframe tbody tr th {\n",
       "        vertical-align: top;\n",
       "    }\n",
       "\n",
       "    .dataframe thead th {\n",
       "        text-align: right;\n",
       "    }\n",
       "</style>\n",
       "<table border=\"1\" class=\"dataframe\">\n",
       "  <thead>\n",
       "    <tr style=\"text-align: right;\">\n",
       "      <th></th>\n",
       "      <th>PassengerId</th>\n",
       "      <th>HomePlanet</th>\n",
       "      <th>CryoSleep</th>\n",
       "      <th>Cabin</th>\n",
       "      <th>Destination</th>\n",
       "      <th>Age</th>\n",
       "      <th>VIP</th>\n",
       "      <th>RoomService</th>\n",
       "      <th>FoodCourt</th>\n",
       "      <th>ShoppingMall</th>\n",
       "      <th>Spa</th>\n",
       "      <th>VRDeck</th>\n",
       "      <th>Name</th>\n",
       "      <th>Transported</th>\n",
       "    </tr>\n",
       "  </thead>\n",
       "  <tbody>\n",
       "    <tr>\n",
       "      <th>0</th>\n",
       "      <td>0001_01</td>\n",
       "      <td>Europa</td>\n",
       "      <td>False</td>\n",
       "      <td>B/0/P</td>\n",
       "      <td>TRAPPIST-1e</td>\n",
       "      <td>39.0</td>\n",
       "      <td>False</td>\n",
       "      <td>0.0</td>\n",
       "      <td>0.0</td>\n",
       "      <td>0.0</td>\n",
       "      <td>0.0</td>\n",
       "      <td>0.0</td>\n",
       "      <td>Maham Ofracculy</td>\n",
       "      <td>False</td>\n",
       "    </tr>\n",
       "    <tr>\n",
       "      <th>1</th>\n",
       "      <td>0002_01</td>\n",
       "      <td>Earth</td>\n",
       "      <td>False</td>\n",
       "      <td>F/0/S</td>\n",
       "      <td>TRAPPIST-1e</td>\n",
       "      <td>24.0</td>\n",
       "      <td>False</td>\n",
       "      <td>109.0</td>\n",
       "      <td>9.0</td>\n",
       "      <td>25.0</td>\n",
       "      <td>549.0</td>\n",
       "      <td>44.0</td>\n",
       "      <td>Juanna Vines</td>\n",
       "      <td>True</td>\n",
       "    </tr>\n",
       "    <tr>\n",
       "      <th>2</th>\n",
       "      <td>0003_01</td>\n",
       "      <td>Europa</td>\n",
       "      <td>False</td>\n",
       "      <td>A/0/S</td>\n",
       "      <td>TRAPPIST-1e</td>\n",
       "      <td>58.0</td>\n",
       "      <td>True</td>\n",
       "      <td>43.0</td>\n",
       "      <td>3576.0</td>\n",
       "      <td>0.0</td>\n",
       "      <td>6715.0</td>\n",
       "      <td>49.0</td>\n",
       "      <td>Altark Susent</td>\n",
       "      <td>False</td>\n",
       "    </tr>\n",
       "    <tr>\n",
       "      <th>3</th>\n",
       "      <td>0003_02</td>\n",
       "      <td>Europa</td>\n",
       "      <td>False</td>\n",
       "      <td>A/0/S</td>\n",
       "      <td>TRAPPIST-1e</td>\n",
       "      <td>33.0</td>\n",
       "      <td>False</td>\n",
       "      <td>0.0</td>\n",
       "      <td>1283.0</td>\n",
       "      <td>371.0</td>\n",
       "      <td>3329.0</td>\n",
       "      <td>193.0</td>\n",
       "      <td>Solam Susent</td>\n",
       "      <td>False</td>\n",
       "    </tr>\n",
       "    <tr>\n",
       "      <th>4</th>\n",
       "      <td>0004_01</td>\n",
       "      <td>Earth</td>\n",
       "      <td>False</td>\n",
       "      <td>F/1/S</td>\n",
       "      <td>TRAPPIST-1e</td>\n",
       "      <td>16.0</td>\n",
       "      <td>False</td>\n",
       "      <td>303.0</td>\n",
       "      <td>70.0</td>\n",
       "      <td>151.0</td>\n",
       "      <td>565.0</td>\n",
       "      <td>2.0</td>\n",
       "      <td>Willy Santantines</td>\n",
       "      <td>True</td>\n",
       "    </tr>\n",
       "  </tbody>\n",
       "</table>\n",
       "</div>"
      ],
      "text/plain": [
       "  PassengerId HomePlanet  CryoSleep  Cabin  Destination   Age    VIP  \\\n",
       "0     0001_01     Europa      False  B/0/P  TRAPPIST-1e  39.0  False   \n",
       "1     0002_01      Earth      False  F/0/S  TRAPPIST-1e  24.0  False   \n",
       "2     0003_01     Europa      False  A/0/S  TRAPPIST-1e  58.0   True   \n",
       "3     0003_02     Europa      False  A/0/S  TRAPPIST-1e  33.0  False   \n",
       "4     0004_01      Earth      False  F/1/S  TRAPPIST-1e  16.0  False   \n",
       "\n",
       "   RoomService  FoodCourt  ShoppingMall     Spa  VRDeck               Name  \\\n",
       "0          0.0        0.0           0.0     0.0     0.0    Maham Ofracculy   \n",
       "1        109.0        9.0          25.0   549.0    44.0       Juanna Vines   \n",
       "2         43.0     3576.0           0.0  6715.0    49.0      Altark Susent   \n",
       "3          0.0     1283.0         371.0  3329.0   193.0       Solam Susent   \n",
       "4        303.0       70.0         151.0   565.0     2.0  Willy Santantines   \n",
       "\n",
       "   Transported  \n",
       "0        False  \n",
       "1         True  \n",
       "2        False  \n",
       "3        False  \n",
       "4         True  "
      ]
     },
     "execution_count": 26,
     "metadata": {},
     "output_type": "execute_result"
    }
   ],
   "source": [
    "train.head()"
   ]
  },
  {
   "cell_type": "code",
   "execution_count": 27,
   "id": "90bc800d",
   "metadata": {
    "execution": {
     "iopub.execute_input": "2023-02-19T14:15:09.398603Z",
     "iopub.status.busy": "2023-02-19T14:15:09.398197Z",
     "iopub.status.idle": "2023-02-19T14:15:09.406573Z",
     "shell.execute_reply": "2023-02-19T14:15:09.405333Z"
    },
    "papermill": {
     "duration": 0.0387,
     "end_time": "2023-02-19T14:15:09.408829",
     "exception": false,
     "start_time": "2023-02-19T14:15:09.370129",
     "status": "completed"
    },
    "tags": []
   },
   "outputs": [],
   "source": [
    "#Changing dtype of CryoSleep,VIP & Transported to int\n",
    "\n",
    "train['CryoSleep']=train.CryoSleep.astype(int)\n",
    "train['VIP']=train.VIP.astype(int)\n",
    "train['Transported']=train.Transported.astype(int)"
   ]
  },
  {
   "cell_type": "markdown",
   "id": "c0bd3eb6",
   "metadata": {
    "papermill": {
     "duration": 0.025921,
     "end_time": "2023-02-19T14:15:09.460919",
     "exception": false,
     "start_time": "2023-02-19T14:15:09.434998",
     "status": "completed"
    },
    "tags": []
   },
   "source": [
    "## *Checking Outliers*"
   ]
  },
  {
   "cell_type": "code",
   "execution_count": 28,
   "id": "fc66031d",
   "metadata": {
    "execution": {
     "iopub.execute_input": "2023-02-19T14:15:09.515244Z",
     "iopub.status.busy": "2023-02-19T14:15:09.514161Z",
     "iopub.status.idle": "2023-02-19T14:15:10.191320Z",
     "shell.execute_reply": "2023-02-19T14:15:10.190032Z"
    },
    "papermill": {
     "duration": 0.707335,
     "end_time": "2023-02-19T14:15:10.194295",
     "exception": false,
     "start_time": "2023-02-19T14:15:09.486960",
     "status": "completed"
    },
    "tags": []
   },
   "outputs": [
    {
     "data": {
      "text/plain": [
       "<AxesSubplot:>"
      ]
     },
     "execution_count": 28,
     "metadata": {},
     "output_type": "execute_result"
    },
    {
     "data": {
      "image/png": "[encoded data removed]",
      "text/plain": [
       "<Figure size 1400x800 with 5 Axes>"
      ]
     },
     "metadata": {},
     "output_type": "display_data"
    }
   ],
   "source": [
    "#Plotting boxplot for all the numerical Columns to check for outliers.\n",
    "\n",
    "plt.figure(figsize=(14,8))\n",
    "plt.subplot(2,3,1)\n",
    "sns.boxplot(train.RoomService)\n",
    "plt.subplot(2,3,2)\n",
    "sns.boxplot(train.FoodCourt)\n",
    "plt.subplot(2,3,3)\n",
    "sns.boxplot(train.ShoppingMall)\n",
    "plt.subplot(2,3,4)\n",
    "sns.boxplot(train.Spa)\n",
    "plt.subplot(2,3,5)\n",
    "sns.boxplot(train.VRDeck)"
   ]
  },
  {
   "cell_type": "markdown",
   "id": "2506463d",
   "metadata": {
    "papermill": {
     "duration": 0.026506,
     "end_time": "2023-02-19T14:15:10.247923",
     "exception": false,
     "start_time": "2023-02-19T14:15:10.221417",
     "status": "completed"
    },
    "tags": []
   },
   "source": [
    "## *Correlation Matrix*"
   ]
  },
  {
   "cell_type": "code",
   "execution_count": 29,
   "id": "a022de95",
   "metadata": {
    "execution": {
     "iopub.execute_input": "2023-02-19T14:15:10.305033Z",
     "iopub.status.busy": "2023-02-19T14:15:10.304098Z",
     "iopub.status.idle": "2023-02-19T14:15:11.106367Z",
     "shell.execute_reply": "2023-02-19T14:15:11.105329Z"
    },
    "papermill": {
     "duration": 0.833541,
     "end_time": "2023-02-19T14:15:11.108676",
     "exception": false,
     "start_time": "2023-02-19T14:15:10.275135",
     "status": "completed"
    },
    "tags": []
   },
   "outputs": [
    {
     "data": {
      "text/plain": [
       "<AxesSubplot:>"
      ]
     },
     "execution_count": 29,
     "metadata": {},
     "output_type": "execute_result"
    },
    {
     "data": {
      "image/png": "[encoded data removed]",
      "text/plain": [
       "<Figure size 1000x600 with 2 Axes>"
      ]
     },
     "metadata": {},
     "output_type": "display_data"
    }
   ],
   "source": [
    "#Plotting a correlation matrix\n",
    "\n",
    "plt.figure(figsize=(10,6))\n",
    "sns.heatmap(train.corr(),annot=True)"
   ]
  },
  {
   "cell_type": "code",
   "execution_count": 30,
   "id": "c3380349",
   "metadata": {
    "execution": {
     "iopub.execute_input": "2023-02-19T14:15:11.169239Z",
     "iopub.status.busy": "2023-02-19T14:15:11.168253Z",
     "iopub.status.idle": "2023-02-19T14:15:11.186828Z",
     "shell.execute_reply": "2023-02-19T14:15:11.185829Z"
    },
    "papermill": {
     "duration": 0.051517,
     "end_time": "2023-02-19T14:15:11.189569",
     "exception": false,
     "start_time": "2023-02-19T14:15:11.138052",
     "status": "completed"
    },
    "tags": []
   },
   "outputs": [],
   "source": [
    "#Splitting the cabin column into 3 Different columns for futher analysis\n",
    "\n",
    "string=train.Cabin.str.split('/')\n",
    "train['Deck']=string.map(lambda string:string[0])\n",
    "train['Num']=string.map(lambda string:string[1])\n",
    "train['Side']=string.map(lambda string:string[2])"
   ]
  },
  {
   "cell_type": "code",
   "execution_count": 31,
   "id": "3eb51ff3",
   "metadata": {
    "execution": {
     "iopub.execute_input": "2023-02-19T14:15:11.249970Z",
     "iopub.status.busy": "2023-02-19T14:15:11.249542Z",
     "iopub.status.idle": "2023-02-19T14:15:11.272646Z",
     "shell.execute_reply": "2023-02-19T14:15:11.271467Z"
    },
    "papermill": {
     "duration": 0.055953,
     "end_time": "2023-02-19T14:15:11.274993",
     "exception": false,
     "start_time": "2023-02-19T14:15:11.219040",
     "status": "completed"
    },
    "tags": []
   },
   "outputs": [
    {
     "data": {
      "text/html": [
       "<div>\n",
       "<style scoped>\n",
       "    .dataframe tbody tr th:only-of-type {\n",
       "        vertical-align: middle;\n",
       "    }\n",
       "\n",
       "    .dataframe tbody tr th {\n",
       "        vertical-align: top;\n",
       "    }\n",
       "\n",
       "    .dataframe thead th {\n",
       "        text-align: right;\n",
       "    }\n",
       "</style>\n",
       "<table border=\"1\" class=\"dataframe\">\n",
       "  <thead>\n",
       "    <tr style=\"text-align: right;\">\n",
       "      <th></th>\n",
       "      <th>PassengerId</th>\n",
       "      <th>HomePlanet</th>\n",
       "      <th>CryoSleep</th>\n",
       "      <th>Cabin</th>\n",
       "      <th>Destination</th>\n",
       "      <th>Age</th>\n",
       "      <th>VIP</th>\n",
       "      <th>RoomService</th>\n",
       "      <th>FoodCourt</th>\n",
       "      <th>ShoppingMall</th>\n",
       "      <th>Spa</th>\n",
       "      <th>VRDeck</th>\n",
       "      <th>Name</th>\n",
       "      <th>Transported</th>\n",
       "      <th>Deck</th>\n",
       "      <th>Num</th>\n",
       "      <th>Side</th>\n",
       "    </tr>\n",
       "  </thead>\n",
       "  <tbody>\n",
       "    <tr>\n",
       "      <th>0</th>\n",
       "      <td>0001_01</td>\n",
       "      <td>Europa</td>\n",
       "      <td>0</td>\n",
       "      <td>B/0/P</td>\n",
       "      <td>TRAPPIST-1e</td>\n",
       "      <td>39.0</td>\n",
       "      <td>0</td>\n",
       "      <td>0.0</td>\n",
       "      <td>0.0</td>\n",
       "      <td>0.0</td>\n",
       "      <td>0.0</td>\n",
       "      <td>0.0</td>\n",
       "      <td>Maham Ofracculy</td>\n",
       "      <td>0</td>\n",
       "      <td>B</td>\n",
       "      <td>0</td>\n",
       "      <td>P</td>\n",
       "    </tr>\n",
       "    <tr>\n",
       "      <th>1</th>\n",
       "      <td>0002_01</td>\n",
       "      <td>Earth</td>\n",
       "      <td>0</td>\n",
       "      <td>F/0/S</td>\n",
       "      <td>TRAPPIST-1e</td>\n",
       "      <td>24.0</td>\n",
       "      <td>0</td>\n",
       "      <td>109.0</td>\n",
       "      <td>9.0</td>\n",
       "      <td>25.0</td>\n",
       "      <td>549.0</td>\n",
       "      <td>44.0</td>\n",
       "      <td>Juanna Vines</td>\n",
       "      <td>1</td>\n",
       "      <td>F</td>\n",
       "      <td>0</td>\n",
       "      <td>S</td>\n",
       "    </tr>\n",
       "    <tr>\n",
       "      <th>2</th>\n",
       "      <td>0003_01</td>\n",
       "      <td>Europa</td>\n",
       "      <td>0</td>\n",
       "      <td>A/0/S</td>\n",
       "      <td>TRAPPIST-1e</td>\n",
       "      <td>58.0</td>\n",
       "      <td>1</td>\n",
       "      <td>43.0</td>\n",
       "      <td>3576.0</td>\n",
       "      <td>0.0</td>\n",
       "      <td>6715.0</td>\n",
       "      <td>49.0</td>\n",
       "      <td>Altark Susent</td>\n",
       "      <td>0</td>\n",
       "      <td>A</td>\n",
       "      <td>0</td>\n",
       "      <td>S</td>\n",
       "    </tr>\n",
       "    <tr>\n",
       "      <th>3</th>\n",
       "      <td>0003_02</td>\n",
       "      <td>Europa</td>\n",
       "      <td>0</td>\n",
       "      <td>A/0/S</td>\n",
       "      <td>TRAPPIST-1e</td>\n",
       "      <td>33.0</td>\n",
       "      <td>0</td>\n",
       "      <td>0.0</td>\n",
       "      <td>1283.0</td>\n",
       "      <td>371.0</td>\n",
       "      <td>3329.0</td>\n",
       "      <td>193.0</td>\n",
       "      <td>Solam Susent</td>\n",
       "      <td>0</td>\n",
       "      <td>A</td>\n",
       "      <td>0</td>\n",
       "      <td>S</td>\n",
       "    </tr>\n",
       "    <tr>\n",
       "      <th>4</th>\n",
       "      <td>0004_01</td>\n",
       "      <td>Earth</td>\n",
       "      <td>0</td>\n",
       "      <td>F/1/S</td>\n",
       "      <td>TRAPPIST-1e</td>\n",
       "      <td>16.0</td>\n",
       "      <td>0</td>\n",
       "      <td>303.0</td>\n",
       "      <td>70.0</td>\n",
       "      <td>151.0</td>\n",
       "      <td>565.0</td>\n",
       "      <td>2.0</td>\n",
       "      <td>Willy Santantines</td>\n",
       "      <td>1</td>\n",
       "      <td>F</td>\n",
       "      <td>1</td>\n",
       "      <td>S</td>\n",
       "    </tr>\n",
       "  </tbody>\n",
       "</table>\n",
       "</div>"
      ],
      "text/plain": [
       "  PassengerId HomePlanet  CryoSleep  Cabin  Destination   Age  VIP  \\\n",
       "0     0001_01     Europa          0  B/0/P  TRAPPIST-1e  39.0    0   \n",
       "1     0002_01      Earth          0  F/0/S  TRAPPIST-1e  24.0    0   \n",
       "2     0003_01     Europa          0  A/0/S  TRAPPIST-1e  58.0    1   \n",
       "3     0003_02     Europa          0  A/0/S  TRAPPIST-1e  33.0    0   \n",
       "4     0004_01      Earth          0  F/1/S  TRAPPIST-1e  16.0    0   \n",
       "\n",
       "   RoomService  FoodCourt  ShoppingMall     Spa  VRDeck               Name  \\\n",
       "0          0.0        0.0           0.0     0.0     0.0    Maham Ofracculy   \n",
       "1        109.0        9.0          25.0   549.0    44.0       Juanna Vines   \n",
       "2         43.0     3576.0           0.0  6715.0    49.0      Altark Susent   \n",
       "3          0.0     1283.0         371.0  3329.0   193.0       Solam Susent   \n",
       "4        303.0       70.0         151.0   565.0     2.0  Willy Santantines   \n",
       "\n",
       "   Transported Deck Num Side  \n",
       "0            0    B   0    P  \n",
       "1            1    F   0    S  \n",
       "2            0    A   0    S  \n",
       "3            0    A   0    S  \n",
       "4            1    F   1    S  "
      ]
     },
     "execution_count": 31,
     "metadata": {},
     "output_type": "execute_result"
    }
   ],
   "source": [
    "#Confirming that 3 new columns are added.\n",
    "\n",
    "train.head()"
   ]
  },
  {
   "cell_type": "code",
   "execution_count": 32,
   "id": "b0380ba6",
   "metadata": {
    "execution": {
     "iopub.execute_input": "2023-02-19T14:15:11.334601Z",
     "iopub.status.busy": "2023-02-19T14:15:11.334165Z",
     "iopub.status.idle": "2023-02-19T14:15:11.342573Z",
     "shell.execute_reply": "2023-02-19T14:15:11.341494Z"
    },
    "papermill": {
     "duration": 0.041051,
     "end_time": "2023-02-19T14:15:11.344986",
     "exception": false,
     "start_time": "2023-02-19T14:15:11.303935",
     "status": "completed"
    },
    "tags": []
   },
   "outputs": [],
   "source": [
    "#Dropping unnecessary columns.\n",
    "\n",
    "train=train.drop(columns=['PassengerId','Cabin','Name','Num'],axis=1)"
   ]
  },
  {
   "cell_type": "code",
   "execution_count": 33,
   "id": "0b79e72c",
   "metadata": {
    "execution": {
     "iopub.execute_input": "2023-02-19T14:15:11.404664Z",
     "iopub.status.busy": "2023-02-19T14:15:11.404271Z",
     "iopub.status.idle": "2023-02-19T14:15:11.424523Z",
     "shell.execute_reply": "2023-02-19T14:15:11.423283Z"
    },
    "papermill": {
     "duration": 0.052904,
     "end_time": "2023-02-19T14:15:11.426912",
     "exception": false,
     "start_time": "2023-02-19T14:15:11.374008",
     "status": "completed"
    },
    "tags": []
   },
   "outputs": [
    {
     "data": {
      "text/html": [
       "<div>\n",
       "<style scoped>\n",
       "    .dataframe tbody tr th:only-of-type {\n",
       "        vertical-align: middle;\n",
       "    }\n",
       "\n",
       "    .dataframe tbody tr th {\n",
       "        vertical-align: top;\n",
       "    }\n",
       "\n",
       "    .dataframe thead th {\n",
       "        text-align: right;\n",
       "    }\n",
       "</style>\n",
       "<table border=\"1\" class=\"dataframe\">\n",
       "  <thead>\n",
       "    <tr style=\"text-align: right;\">\n",
       "      <th></th>\n",
       "      <th>HomePlanet</th>\n",
       "      <th>CryoSleep</th>\n",
       "      <th>Destination</th>\n",
       "      <th>Age</th>\n",
       "      <th>VIP</th>\n",
       "      <th>RoomService</th>\n",
       "      <th>FoodCourt</th>\n",
       "      <th>ShoppingMall</th>\n",
       "      <th>Spa</th>\n",
       "      <th>VRDeck</th>\n",
       "      <th>Transported</th>\n",
       "      <th>Deck</th>\n",
       "      <th>Side</th>\n",
       "    </tr>\n",
       "  </thead>\n",
       "  <tbody>\n",
       "    <tr>\n",
       "      <th>0</th>\n",
       "      <td>Europa</td>\n",
       "      <td>0</td>\n",
       "      <td>TRAPPIST-1e</td>\n",
       "      <td>39.0</td>\n",
       "      <td>0</td>\n",
       "      <td>0.0</td>\n",
       "      <td>0.0</td>\n",
       "      <td>0.0</td>\n",
       "      <td>0.0</td>\n",
       "      <td>0.0</td>\n",
       "      <td>0</td>\n",
       "      <td>B</td>\n",
       "      <td>P</td>\n",
       "    </tr>\n",
       "    <tr>\n",
       "      <th>1</th>\n",
       "      <td>Earth</td>\n",
       "      <td>0</td>\n",
       "      <td>TRAPPIST-1e</td>\n",
       "      <td>24.0</td>\n",
       "      <td>0</td>\n",
       "      <td>109.0</td>\n",
       "      <td>9.0</td>\n",
       "      <td>25.0</td>\n",
       "      <td>549.0</td>\n",
       "      <td>44.0</td>\n",
       "      <td>1</td>\n",
       "      <td>F</td>\n",
       "      <td>S</td>\n",
       "    </tr>\n",
       "    <tr>\n",
       "      <th>2</th>\n",
       "      <td>Europa</td>\n",
       "      <td>0</td>\n",
       "      <td>TRAPPIST-1e</td>\n",
       "      <td>58.0</td>\n",
       "      <td>1</td>\n",
       "      <td>43.0</td>\n",
       "      <td>3576.0</td>\n",
       "      <td>0.0</td>\n",
       "      <td>6715.0</td>\n",
       "      <td>49.0</td>\n",
       "      <td>0</td>\n",
       "      <td>A</td>\n",
       "      <td>S</td>\n",
       "    </tr>\n",
       "    <tr>\n",
       "      <th>3</th>\n",
       "      <td>Europa</td>\n",
       "      <td>0</td>\n",
       "      <td>TRAPPIST-1e</td>\n",
       "      <td>33.0</td>\n",
       "      <td>0</td>\n",
       "      <td>0.0</td>\n",
       "      <td>1283.0</td>\n",
       "      <td>371.0</td>\n",
       "      <td>3329.0</td>\n",
       "      <td>193.0</td>\n",
       "      <td>0</td>\n",
       "      <td>A</td>\n",
       "      <td>S</td>\n",
       "    </tr>\n",
       "    <tr>\n",
       "      <th>4</th>\n",
       "      <td>Earth</td>\n",
       "      <td>0</td>\n",
       "      <td>TRAPPIST-1e</td>\n",
       "      <td>16.0</td>\n",
       "      <td>0</td>\n",
       "      <td>303.0</td>\n",
       "      <td>70.0</td>\n",
       "      <td>151.0</td>\n",
       "      <td>565.0</td>\n",
       "      <td>2.0</td>\n",
       "      <td>1</td>\n",
       "      <td>F</td>\n",
       "      <td>S</td>\n",
       "    </tr>\n",
       "  </tbody>\n",
       "</table>\n",
       "</div>"
      ],
      "text/plain": [
       "  HomePlanet  CryoSleep  Destination   Age  VIP  RoomService  FoodCourt  \\\n",
       "0     Europa          0  TRAPPIST-1e  39.0    0          0.0        0.0   \n",
       "1      Earth          0  TRAPPIST-1e  24.0    0        109.0        9.0   \n",
       "2     Europa          0  TRAPPIST-1e  58.0    1         43.0     3576.0   \n",
       "3     Europa          0  TRAPPIST-1e  33.0    0          0.0     1283.0   \n",
       "4      Earth          0  TRAPPIST-1e  16.0    0        303.0       70.0   \n",
       "\n",
       "   ShoppingMall     Spa  VRDeck  Transported Deck Side  \n",
       "0           0.0     0.0     0.0            0    B    P  \n",
       "1          25.0   549.0    44.0            1    F    S  \n",
       "2           0.0  6715.0    49.0            0    A    S  \n",
       "3         371.0  3329.0   193.0            0    A    S  \n",
       "4         151.0   565.0     2.0            1    F    S  "
      ]
     },
     "execution_count": 33,
     "metadata": {},
     "output_type": "execute_result"
    }
   ],
   "source": [
    "train.head()"
   ]
  },
  {
   "cell_type": "code",
   "execution_count": 34,
   "id": "32e9e2db",
   "metadata": {
    "execution": {
     "iopub.execute_input": "2023-02-19T14:15:11.487824Z",
     "iopub.status.busy": "2023-02-19T14:15:11.486889Z",
     "iopub.status.idle": "2023-02-19T14:15:11.497774Z",
     "shell.execute_reply": "2023-02-19T14:15:11.496568Z"
    },
    "papermill": {
     "duration": 0.043873,
     "end_time": "2023-02-19T14:15:11.500272",
     "exception": false,
     "start_time": "2023-02-19T14:15:11.456399",
     "status": "completed"
    },
    "tags": []
   },
   "outputs": [],
   "source": [
    "#Making bins for the Age group\n",
    "\n",
    "bins=[0,18,40,100]\n",
    "labels=['teen','adult','senior']\n",
    "train['Age_group']=pd.cut(train.Age,bins=bins,labels=labels)"
   ]
  },
  {
   "cell_type": "code",
   "execution_count": 35,
   "id": "4e1ee333",
   "metadata": {
    "execution": {
     "iopub.execute_input": "2023-02-19T14:15:11.562821Z",
     "iopub.status.busy": "2023-02-19T14:15:11.562419Z",
     "iopub.status.idle": "2023-02-19T14:15:11.568954Z",
     "shell.execute_reply": "2023-02-19T14:15:11.567818Z"
    },
    "papermill": {
     "duration": 0.040659,
     "end_time": "2023-02-19T14:15:11.571500",
     "exception": false,
     "start_time": "2023-02-19T14:15:11.530841",
     "status": "completed"
    },
    "tags": []
   },
   "outputs": [],
   "source": [
    "#Dropping Age column\n",
    "\n",
    "train=train.drop(columns=['Age'])"
   ]
  },
  {
   "cell_type": "markdown",
   "id": "24b46fd6",
   "metadata": {
    "papermill": {
     "duration": 0.029123,
     "end_time": "2023-02-19T14:15:11.630167",
     "exception": false,
     "start_time": "2023-02-19T14:15:11.601044",
     "status": "completed"
    },
    "tags": []
   },
   "source": [
    "## *Making Dummies*"
   ]
  },
  {
   "cell_type": "code",
   "execution_count": 36,
   "id": "4840d364",
   "metadata": {
    "execution": {
     "iopub.execute_input": "2023-02-19T14:15:11.690843Z",
     "iopub.status.busy": "2023-02-19T14:15:11.690460Z",
     "iopub.status.idle": "2023-02-19T14:15:11.710471Z",
     "shell.execute_reply": "2023-02-19T14:15:11.709342Z"
    },
    "papermill": {
     "duration": 0.053424,
     "end_time": "2023-02-19T14:15:11.712700",
     "exception": false,
     "start_time": "2023-02-19T14:15:11.659276",
     "status": "completed"
    },
    "tags": []
   },
   "outputs": [
    {
     "data": {
      "text/html": [
       "<div>\n",
       "<style scoped>\n",
       "    .dataframe tbody tr th:only-of-type {\n",
       "        vertical-align: middle;\n",
       "    }\n",
       "\n",
       "    .dataframe tbody tr th {\n",
       "        vertical-align: top;\n",
       "    }\n",
       "\n",
       "    .dataframe thead th {\n",
       "        text-align: right;\n",
       "    }\n",
       "</style>\n",
       "<table border=\"1\" class=\"dataframe\">\n",
       "  <thead>\n",
       "    <tr style=\"text-align: right;\">\n",
       "      <th></th>\n",
       "      <th>HomePlanet</th>\n",
       "      <th>CryoSleep</th>\n",
       "      <th>Destination</th>\n",
       "      <th>VIP</th>\n",
       "      <th>RoomService</th>\n",
       "      <th>FoodCourt</th>\n",
       "      <th>ShoppingMall</th>\n",
       "      <th>Spa</th>\n",
       "      <th>VRDeck</th>\n",
       "      <th>Transported</th>\n",
       "      <th>Deck</th>\n",
       "      <th>Side</th>\n",
       "      <th>Age_group</th>\n",
       "    </tr>\n",
       "  </thead>\n",
       "  <tbody>\n",
       "    <tr>\n",
       "      <th>0</th>\n",
       "      <td>Europa</td>\n",
       "      <td>0</td>\n",
       "      <td>TRAPPIST-1e</td>\n",
       "      <td>0</td>\n",
       "      <td>0.0</td>\n",
       "      <td>0.0</td>\n",
       "      <td>0.0</td>\n",
       "      <td>0.0</td>\n",
       "      <td>0.0</td>\n",
       "      <td>0</td>\n",
       "      <td>B</td>\n",
       "      <td>P</td>\n",
       "      <td>adult</td>\n",
       "    </tr>\n",
       "    <tr>\n",
       "      <th>1</th>\n",
       "      <td>Earth</td>\n",
       "      <td>0</td>\n",
       "      <td>TRAPPIST-1e</td>\n",
       "      <td>0</td>\n",
       "      <td>109.0</td>\n",
       "      <td>9.0</td>\n",
       "      <td>25.0</td>\n",
       "      <td>549.0</td>\n",
       "      <td>44.0</td>\n",
       "      <td>1</td>\n",
       "      <td>F</td>\n",
       "      <td>S</td>\n",
       "      <td>adult</td>\n",
       "    </tr>\n",
       "    <tr>\n",
       "      <th>2</th>\n",
       "      <td>Europa</td>\n",
       "      <td>0</td>\n",
       "      <td>TRAPPIST-1e</td>\n",
       "      <td>1</td>\n",
       "      <td>43.0</td>\n",
       "      <td>3576.0</td>\n",
       "      <td>0.0</td>\n",
       "      <td>6715.0</td>\n",
       "      <td>49.0</td>\n",
       "      <td>0</td>\n",
       "      <td>A</td>\n",
       "      <td>S</td>\n",
       "      <td>senior</td>\n",
       "    </tr>\n",
       "    <tr>\n",
       "      <th>3</th>\n",
       "      <td>Europa</td>\n",
       "      <td>0</td>\n",
       "      <td>TRAPPIST-1e</td>\n",
       "      <td>0</td>\n",
       "      <td>0.0</td>\n",
       "      <td>1283.0</td>\n",
       "      <td>371.0</td>\n",
       "      <td>3329.0</td>\n",
       "      <td>193.0</td>\n",
       "      <td>0</td>\n",
       "      <td>A</td>\n",
       "      <td>S</td>\n",
       "      <td>adult</td>\n",
       "    </tr>\n",
       "    <tr>\n",
       "      <th>4</th>\n",
       "      <td>Earth</td>\n",
       "      <td>0</td>\n",
       "      <td>TRAPPIST-1e</td>\n",
       "      <td>0</td>\n",
       "      <td>303.0</td>\n",
       "      <td>70.0</td>\n",
       "      <td>151.0</td>\n",
       "      <td>565.0</td>\n",
       "      <td>2.0</td>\n",
       "      <td>1</td>\n",
       "      <td>F</td>\n",
       "      <td>S</td>\n",
       "      <td>teen</td>\n",
       "    </tr>\n",
       "  </tbody>\n",
       "</table>\n",
       "</div>"
      ],
      "text/plain": [
       "  HomePlanet  CryoSleep  Destination  VIP  RoomService  FoodCourt  \\\n",
       "0     Europa          0  TRAPPIST-1e    0          0.0        0.0   \n",
       "1      Earth          0  TRAPPIST-1e    0        109.0        9.0   \n",
       "2     Europa          0  TRAPPIST-1e    1         43.0     3576.0   \n",
       "3     Europa          0  TRAPPIST-1e    0          0.0     1283.0   \n",
       "4      Earth          0  TRAPPIST-1e    0        303.0       70.0   \n",
       "\n",
       "   ShoppingMall     Spa  VRDeck  Transported Deck Side Age_group  \n",
       "0           0.0     0.0     0.0            0    B    P     adult  \n",
       "1          25.0   549.0    44.0            1    F    S     adult  \n",
       "2           0.0  6715.0    49.0            0    A    S    senior  \n",
       "3         371.0  3329.0   193.0            0    A    S     adult  \n",
       "4         151.0   565.0     2.0            1    F    S      teen  "
      ]
     },
     "execution_count": 36,
     "metadata": {},
     "output_type": "execute_result"
    }
   ],
   "source": [
    "train.head()"
   ]
  },
  {
   "cell_type": "code",
   "execution_count": 37,
   "id": "8486decb",
   "metadata": {
    "execution": {
     "iopub.execute_input": "2023-02-19T14:15:11.774094Z",
     "iopub.status.busy": "2023-02-19T14:15:11.773659Z",
     "iopub.status.idle": "2023-02-19T14:15:11.793196Z",
     "shell.execute_reply": "2023-02-19T14:15:11.792160Z"
    },
    "papermill": {
     "duration": 0.053143,
     "end_time": "2023-02-19T14:15:11.795828",
     "exception": false,
     "start_time": "2023-02-19T14:15:11.742685",
     "status": "completed"
    },
    "tags": []
   },
   "outputs": [],
   "source": [
    "#Creating dummies for Continuous variables \n",
    "\n",
    "dummy1=pd.get_dummies(train[['HomePlanet','Destination','Age_group','Side','Deck']],drop_first=True)"
   ]
  },
  {
   "cell_type": "code",
   "execution_count": 38,
   "id": "2a3ed8c4",
   "metadata": {
    "execution": {
     "iopub.execute_input": "2023-02-19T14:15:11.856915Z",
     "iopub.status.busy": "2023-02-19T14:15:11.856489Z",
     "iopub.status.idle": "2023-02-19T14:15:11.867921Z",
     "shell.execute_reply": "2023-02-19T14:15:11.866641Z"
    },
    "papermill": {
     "duration": 0.044963,
     "end_time": "2023-02-19T14:15:11.870600",
     "exception": false,
     "start_time": "2023-02-19T14:15:11.825637",
     "status": "completed"
    },
    "tags": []
   },
   "outputs": [],
   "source": [
    "#Concatinating the dummy columns to train dataset and dropping parent columns.\n",
    "\n",
    "train=pd.concat([train,dummy1],axis=1)\n",
    "train=train.drop(columns=['HomePlanet',\"Destination\",'Age_group','Side','Deck'])"
   ]
  },
  {
   "cell_type": "code",
   "execution_count": 39,
   "id": "9a37643b",
   "metadata": {
    "execution": {
     "iopub.execute_input": "2023-02-19T14:15:11.931547Z",
     "iopub.status.busy": "2023-02-19T14:15:11.931156Z",
     "iopub.status.idle": "2023-02-19T14:15:11.954601Z",
     "shell.execute_reply": "2023-02-19T14:15:11.953595Z"
    },
    "papermill": {
     "duration": 0.056583,
     "end_time": "2023-02-19T14:15:11.956710",
     "exception": false,
     "start_time": "2023-02-19T14:15:11.900127",
     "status": "completed"
    },
    "tags": []
   },
   "outputs": [
    {
     "data": {
      "text/html": [
       "<div>\n",
       "<style scoped>\n",
       "    .dataframe tbody tr th:only-of-type {\n",
       "        vertical-align: middle;\n",
       "    }\n",
       "\n",
       "    .dataframe tbody tr th {\n",
       "        vertical-align: top;\n",
       "    }\n",
       "\n",
       "    .dataframe thead th {\n",
       "        text-align: right;\n",
       "    }\n",
       "</style>\n",
       "<table border=\"1\" class=\"dataframe\">\n",
       "  <thead>\n",
       "    <tr style=\"text-align: right;\">\n",
       "      <th></th>\n",
       "      <th>CryoSleep</th>\n",
       "      <th>VIP</th>\n",
       "      <th>RoomService</th>\n",
       "      <th>FoodCourt</th>\n",
       "      <th>ShoppingMall</th>\n",
       "      <th>Spa</th>\n",
       "      <th>VRDeck</th>\n",
       "      <th>Transported</th>\n",
       "      <th>HomePlanet_Europa</th>\n",
       "      <th>HomePlanet_Mars</th>\n",
       "      <th>...</th>\n",
       "      <th>Age_group_adult</th>\n",
       "      <th>Age_group_senior</th>\n",
       "      <th>Side_S</th>\n",
       "      <th>Deck_B</th>\n",
       "      <th>Deck_C</th>\n",
       "      <th>Deck_D</th>\n",
       "      <th>Deck_E</th>\n",
       "      <th>Deck_F</th>\n",
       "      <th>Deck_G</th>\n",
       "      <th>Deck_T</th>\n",
       "    </tr>\n",
       "  </thead>\n",
       "  <tbody>\n",
       "    <tr>\n",
       "      <th>0</th>\n",
       "      <td>0</td>\n",
       "      <td>0</td>\n",
       "      <td>0.0</td>\n",
       "      <td>0.0</td>\n",
       "      <td>0.0</td>\n",
       "      <td>0.0</td>\n",
       "      <td>0.0</td>\n",
       "      <td>0</td>\n",
       "      <td>1</td>\n",
       "      <td>0</td>\n",
       "      <td>...</td>\n",
       "      <td>1</td>\n",
       "      <td>0</td>\n",
       "      <td>0</td>\n",
       "      <td>1</td>\n",
       "      <td>0</td>\n",
       "      <td>0</td>\n",
       "      <td>0</td>\n",
       "      <td>0</td>\n",
       "      <td>0</td>\n",
       "      <td>0</td>\n",
       "    </tr>\n",
       "    <tr>\n",
       "      <th>1</th>\n",
       "      <td>0</td>\n",
       "      <td>0</td>\n",
       "      <td>109.0</td>\n",
       "      <td>9.0</td>\n",
       "      <td>25.0</td>\n",
       "      <td>549.0</td>\n",
       "      <td>44.0</td>\n",
       "      <td>1</td>\n",
       "      <td>0</td>\n",
       "      <td>0</td>\n",
       "      <td>...</td>\n",
       "      <td>1</td>\n",
       "      <td>0</td>\n",
       "      <td>1</td>\n",
       "      <td>0</td>\n",
       "      <td>0</td>\n",
       "      <td>0</td>\n",
       "      <td>0</td>\n",
       "      <td>1</td>\n",
       "      <td>0</td>\n",
       "      <td>0</td>\n",
       "    </tr>\n",
       "    <tr>\n",
       "      <th>2</th>\n",
       "      <td>0</td>\n",
       "      <td>1</td>\n",
       "      <td>43.0</td>\n",
       "      <td>3576.0</td>\n",
       "      <td>0.0</td>\n",
       "      <td>6715.0</td>\n",
       "      <td>49.0</td>\n",
       "      <td>0</td>\n",
       "      <td>1</td>\n",
       "      <td>0</td>\n",
       "      <td>...</td>\n",
       "      <td>0</td>\n",
       "      <td>1</td>\n",
       "      <td>1</td>\n",
       "      <td>0</td>\n",
       "      <td>0</td>\n",
       "      <td>0</td>\n",
       "      <td>0</td>\n",
       "      <td>0</td>\n",
       "      <td>0</td>\n",
       "      <td>0</td>\n",
       "    </tr>\n",
       "    <tr>\n",
       "      <th>3</th>\n",
       "      <td>0</td>\n",
       "      <td>0</td>\n",
       "      <td>0.0</td>\n",
       "      <td>1283.0</td>\n",
       "      <td>371.0</td>\n",
       "      <td>3329.0</td>\n",
       "      <td>193.0</td>\n",
       "      <td>0</td>\n",
       "      <td>1</td>\n",
       "      <td>0</td>\n",
       "      <td>...</td>\n",
       "      <td>1</td>\n",
       "      <td>0</td>\n",
       "      <td>1</td>\n",
       "      <td>0</td>\n",
       "      <td>0</td>\n",
       "      <td>0</td>\n",
       "      <td>0</td>\n",
       "      <td>0</td>\n",
       "      <td>0</td>\n",
       "      <td>0</td>\n",
       "    </tr>\n",
       "    <tr>\n",
       "      <th>4</th>\n",
       "      <td>0</td>\n",
       "      <td>0</td>\n",
       "      <td>303.0</td>\n",
       "      <td>70.0</td>\n",
       "      <td>151.0</td>\n",
       "      <td>565.0</td>\n",
       "      <td>2.0</td>\n",
       "      <td>1</td>\n",
       "      <td>0</td>\n",
       "      <td>0</td>\n",
       "      <td>...</td>\n",
       "      <td>0</td>\n",
       "      <td>0</td>\n",
       "      <td>1</td>\n",
       "      <td>0</td>\n",
       "      <td>0</td>\n",
       "      <td>0</td>\n",
       "      <td>0</td>\n",
       "      <td>1</td>\n",
       "      <td>0</td>\n",
       "      <td>0</td>\n",
       "    </tr>\n",
       "  </tbody>\n",
       "</table>\n",
       "<p>5 rows × 22 columns</p>\n",
       "</div>"
      ],
      "text/plain": [
       "   CryoSleep  VIP  RoomService  FoodCourt  ShoppingMall     Spa  VRDeck  \\\n",
       "0          0    0          0.0        0.0           0.0     0.0     0.0   \n",
       "1          0    0        109.0        9.0          25.0   549.0    44.0   \n",
       "2          0    1         43.0     3576.0           0.0  6715.0    49.0   \n",
       "3          0    0          0.0     1283.0         371.0  3329.0   193.0   \n",
       "4          0    0        303.0       70.0         151.0   565.0     2.0   \n",
       "\n",
       "   Transported  HomePlanet_Europa  HomePlanet_Mars  ...  Age_group_adult  \\\n",
       "0            0                  1                0  ...                1   \n",
       "1            1                  0                0  ...                1   \n",
       "2            0                  1                0  ...                0   \n",
       "3            0                  1                0  ...                1   \n",
       "4            1                  0                0  ...                0   \n",
       "\n",
       "   Age_group_senior  Side_S  Deck_B  Deck_C  Deck_D  Deck_E  Deck_F  Deck_G  \\\n",
       "0                 0       0       1       0       0       0       0       0   \n",
       "1                 0       1       0       0       0       0       1       0   \n",
       "2                 1       1       0       0       0       0       0       0   \n",
       "3                 0       1       0       0       0       0       0       0   \n",
       "4                 0       1       0       0       0       0       1       0   \n",
       "\n",
       "   Deck_T  \n",
       "0       0  \n",
       "1       0  \n",
       "2       0  \n",
       "3       0  \n",
       "4       0  \n",
       "\n",
       "[5 rows x 22 columns]"
      ]
     },
     "execution_count": 39,
     "metadata": {},
     "output_type": "execute_result"
    }
   ],
   "source": [
    "train.head()"
   ]
  },
  {
   "cell_type": "code",
   "execution_count": 40,
   "id": "6c489ae6",
   "metadata": {
    "execution": {
     "iopub.execute_input": "2023-02-19T14:15:12.018825Z",
     "iopub.status.busy": "2023-02-19T14:15:12.018015Z",
     "iopub.status.idle": "2023-02-19T14:15:15.336486Z",
     "shell.execute_reply": "2023-02-19T14:15:15.335293Z"
    },
    "papermill": {
     "duration": 3.357454,
     "end_time": "2023-02-19T14:15:15.344363",
     "exception": false,
     "start_time": "2023-02-19T14:15:11.986909",
     "status": "completed"
    },
    "tags": []
   },
   "outputs": [
    {
     "data": {
      "text/plain": [
       "<AxesSubplot:>"
      ]
     },
     "execution_count": 40,
     "metadata": {},
     "output_type": "execute_result"
    },
    {
     "data": {
      "image/png": "[encoded data removed]",
      "text/plain": [
       "<Figure size 2000x2000 with 2 Axes>"
      ]
     },
     "metadata": {},
     "output_type": "display_data"
    }
   ],
   "source": [
    "#Plotting a correlation matrix for checking the correlation.\n",
    "\n",
    "plt.figure(figsize=(20,20))\n",
    "sns.heatmap(train.corr(),annot=True)"
   ]
  },
  {
   "cell_type": "markdown",
   "id": "d5b24a0d",
   "metadata": {
    "papermill": {
     "duration": 0.038157,
     "end_time": "2023-02-19T14:15:15.421182",
     "exception": false,
     "start_time": "2023-02-19T14:15:15.383025",
     "status": "completed"
    },
    "tags": []
   },
   "source": [
    "## *Scaling the Features*"
   ]
  },
  {
   "cell_type": "code",
   "execution_count": 41,
   "id": "97c4a900",
   "metadata": {
    "execution": {
     "iopub.execute_input": "2023-02-19T14:15:15.498484Z",
     "iopub.status.busy": "2023-02-19T14:15:15.498036Z",
     "iopub.status.idle": "2023-02-19T14:15:15.715895Z",
     "shell.execute_reply": "2023-02-19T14:15:15.714370Z"
    },
    "papermill": {
     "duration": 0.259958,
     "end_time": "2023-02-19T14:15:15.718871",
     "exception": false,
     "start_time": "2023-02-19T14:15:15.458913",
     "status": "completed"
    },
    "tags": []
   },
   "outputs": [],
   "source": [
    "#Assigning X and y variables \n",
    "\n",
    "from sklearn.model_selection import train_test_split\n",
    "X=train.drop('Transported',axis=1)\n",
    "y=train['Transported']"
   ]
  },
  {
   "cell_type": "code",
   "execution_count": 42,
   "id": "48af8eb0",
   "metadata": {
    "execution": {
     "iopub.execute_input": "2023-02-19T14:15:15.796909Z",
     "iopub.status.busy": "2023-02-19T14:15:15.796502Z",
     "iopub.status.idle": "2023-02-19T14:15:15.805820Z",
     "shell.execute_reply": "2023-02-19T14:15:15.804510Z"
    },
    "papermill": {
     "duration": 0.051419,
     "end_time": "2023-02-19T14:15:15.808276",
     "exception": false,
     "start_time": "2023-02-19T14:15:15.756857",
     "status": "completed"
    },
    "tags": []
   },
   "outputs": [],
   "source": [
    "#Creating X_train and X_test\n",
    "\n",
    "X_train,X_test,y_train,y_test=train_test_split(X,y,train_size=0.7,random_state=100)"
   ]
  },
  {
   "cell_type": "code",
   "execution_count": 43,
   "id": "79d47832",
   "metadata": {
    "execution": {
     "iopub.execute_input": "2023-02-19T14:15:15.886988Z",
     "iopub.status.busy": "2023-02-19T14:15:15.886231Z",
     "iopub.status.idle": "2023-02-19T14:15:15.892262Z",
     "shell.execute_reply": "2023-02-19T14:15:15.891457Z"
    },
    "papermill": {
     "duration": 0.047854,
     "end_time": "2023-02-19T14:15:15.894319",
     "exception": false,
     "start_time": "2023-02-19T14:15:15.846465",
     "status": "completed"
    },
    "tags": []
   },
   "outputs": [
    {
     "data": {
      "text/plain": [
       "(5197, 21)"
      ]
     },
     "execution_count": 43,
     "metadata": {},
     "output_type": "execute_result"
    }
   ],
   "source": [
    "#Checking shape of X_train\n",
    "X_train.shape"
   ]
  },
  {
   "cell_type": "code",
   "execution_count": 44,
   "id": "3a12d1f9",
   "metadata": {
    "execution": {
     "iopub.execute_input": "2023-02-19T14:15:15.972377Z",
     "iopub.status.busy": "2023-02-19T14:15:15.971659Z",
     "iopub.status.idle": "2023-02-19T14:15:15.981658Z",
     "shell.execute_reply": "2023-02-19T14:15:15.980642Z"
    },
    "papermill": {
     "duration": 0.051788,
     "end_time": "2023-02-19T14:15:15.984027",
     "exception": false,
     "start_time": "2023-02-19T14:15:15.932239",
     "status": "completed"
    },
    "tags": []
   },
   "outputs": [],
   "source": [
    "#Using Standard scaler for scaling the features on train dataset.\n",
    "\n",
    "from sklearn.preprocessing import StandardScaler\n",
    "scaler=StandardScaler()\n",
    "X_train[['RoomService','FoodCourt','ShoppingMall','Spa','VRDeck']]=scaler.fit_transform(X_train[['RoomService','FoodCourt','ShoppingMall','Spa','VRDeck']])"
   ]
  },
  {
   "cell_type": "code",
   "execution_count": 45,
   "id": "127612be",
   "metadata": {
    "execution": {
     "iopub.execute_input": "2023-02-19T14:15:16.062757Z",
     "iopub.status.busy": "2023-02-19T14:15:16.061765Z",
     "iopub.status.idle": "2023-02-19T14:15:16.082955Z",
     "shell.execute_reply": "2023-02-19T14:15:16.081547Z"
    },
    "papermill": {
     "duration": 0.06335,
     "end_time": "2023-02-19T14:15:16.085582",
     "exception": false,
     "start_time": "2023-02-19T14:15:16.022232",
     "status": "completed"
    },
    "tags": []
   },
   "outputs": [
    {
     "data": {
      "text/html": [
       "<div>\n",
       "<style scoped>\n",
       "    .dataframe tbody tr th:only-of-type {\n",
       "        vertical-align: middle;\n",
       "    }\n",
       "\n",
       "    .dataframe tbody tr th {\n",
       "        vertical-align: top;\n",
       "    }\n",
       "\n",
       "    .dataframe thead th {\n",
       "        text-align: right;\n",
       "    }\n",
       "</style>\n",
       "<table border=\"1\" class=\"dataframe\">\n",
       "  <thead>\n",
       "    <tr style=\"text-align: right;\">\n",
       "      <th></th>\n",
       "      <th>CryoSleep</th>\n",
       "      <th>VIP</th>\n",
       "      <th>RoomService</th>\n",
       "      <th>FoodCourt</th>\n",
       "      <th>ShoppingMall</th>\n",
       "      <th>Spa</th>\n",
       "      <th>VRDeck</th>\n",
       "      <th>HomePlanet_Europa</th>\n",
       "      <th>HomePlanet_Mars</th>\n",
       "      <th>Destination_PSO J318.5-22</th>\n",
       "      <th>...</th>\n",
       "      <th>Age_group_adult</th>\n",
       "      <th>Age_group_senior</th>\n",
       "      <th>Side_S</th>\n",
       "      <th>Deck_B</th>\n",
       "      <th>Deck_C</th>\n",
       "      <th>Deck_D</th>\n",
       "      <th>Deck_E</th>\n",
       "      <th>Deck_F</th>\n",
       "      <th>Deck_G</th>\n",
       "      <th>Deck_T</th>\n",
       "    </tr>\n",
       "  </thead>\n",
       "  <tbody>\n",
       "    <tr>\n",
       "      <th>1880</th>\n",
       "      <td>0</td>\n",
       "      <td>0</td>\n",
       "      <td>-0.338314</td>\n",
       "      <td>3.109755</td>\n",
       "      <td>-0.304769</td>\n",
       "      <td>-0.266410</td>\n",
       "      <td>-0.278669</td>\n",
       "      <td>1</td>\n",
       "      <td>0</td>\n",
       "      <td>0</td>\n",
       "      <td>...</td>\n",
       "      <td>1</td>\n",
       "      <td>0</td>\n",
       "      <td>1</td>\n",
       "      <td>0</td>\n",
       "      <td>0</td>\n",
       "      <td>0</td>\n",
       "      <td>0</td>\n",
       "      <td>0</td>\n",
       "      <td>0</td>\n",
       "      <td>0</td>\n",
       "    </tr>\n",
       "    <tr>\n",
       "      <th>4067</th>\n",
       "      <td>0</td>\n",
       "      <td>0</td>\n",
       "      <td>-0.338314</td>\n",
       "      <td>-0.264345</td>\n",
       "      <td>0.841913</td>\n",
       "      <td>-0.270564</td>\n",
       "      <td>-0.219272</td>\n",
       "      <td>0</td>\n",
       "      <td>0</td>\n",
       "      <td>0</td>\n",
       "      <td>...</td>\n",
       "      <td>0</td>\n",
       "      <td>0</td>\n",
       "      <td>1</td>\n",
       "      <td>0</td>\n",
       "      <td>0</td>\n",
       "      <td>0</td>\n",
       "      <td>0</td>\n",
       "      <td>1</td>\n",
       "      <td>0</td>\n",
       "      <td>0</td>\n",
       "    </tr>\n",
       "    <tr>\n",
       "      <th>5059</th>\n",
       "      <td>0</td>\n",
       "      <td>0</td>\n",
       "      <td>-0.308405</td>\n",
       "      <td>2.059456</td>\n",
       "      <td>-0.039350</td>\n",
       "      <td>-0.037940</td>\n",
       "      <td>1.324093</td>\n",
       "      <td>1</td>\n",
       "      <td>0</td>\n",
       "      <td>0</td>\n",
       "      <td>...</td>\n",
       "      <td>1</td>\n",
       "      <td>0</td>\n",
       "      <td>1</td>\n",
       "      <td>1</td>\n",
       "      <td>0</td>\n",
       "      <td>0</td>\n",
       "      <td>0</td>\n",
       "      <td>0</td>\n",
       "      <td>0</td>\n",
       "      <td>0</td>\n",
       "    </tr>\n",
       "    <tr>\n",
       "      <th>1833</th>\n",
       "      <td>0</td>\n",
       "      <td>0</td>\n",
       "      <td>-0.338314</td>\n",
       "      <td>-0.285067</td>\n",
       "      <td>0.869670</td>\n",
       "      <td>-0.267241</td>\n",
       "      <td>-0.279627</td>\n",
       "      <td>0</td>\n",
       "      <td>0</td>\n",
       "      <td>1</td>\n",
       "      <td>...</td>\n",
       "      <td>1</td>\n",
       "      <td>0</td>\n",
       "      <td>0</td>\n",
       "      <td>0</td>\n",
       "      <td>0</td>\n",
       "      <td>0</td>\n",
       "      <td>1</td>\n",
       "      <td>0</td>\n",
       "      <td>0</td>\n",
       "      <td>0</td>\n",
       "    </tr>\n",
       "    <tr>\n",
       "      <th>4133</th>\n",
       "      <td>0</td>\n",
       "      <td>0</td>\n",
       "      <td>-0.338314</td>\n",
       "      <td>0.198639</td>\n",
       "      <td>0.368321</td>\n",
       "      <td>-0.205761</td>\n",
       "      <td>0.384279</td>\n",
       "      <td>1</td>\n",
       "      <td>0</td>\n",
       "      <td>0</td>\n",
       "      <td>...</td>\n",
       "      <td>0</td>\n",
       "      <td>1</td>\n",
       "      <td>1</td>\n",
       "      <td>0</td>\n",
       "      <td>1</td>\n",
       "      <td>0</td>\n",
       "      <td>0</td>\n",
       "      <td>0</td>\n",
       "      <td>0</td>\n",
       "      <td>0</td>\n",
       "    </tr>\n",
       "  </tbody>\n",
       "</table>\n",
       "<p>5 rows × 21 columns</p>\n",
       "</div>"
      ],
      "text/plain": [
       "      CryoSleep  VIP  RoomService  FoodCourt  ShoppingMall       Spa  \\\n",
       "1880          0    0    -0.338314   3.109755     -0.304769 -0.266410   \n",
       "4067          0    0    -0.338314  -0.264345      0.841913 -0.270564   \n",
       "5059          0    0    -0.308405   2.059456     -0.039350 -0.037940   \n",
       "1833          0    0    -0.338314  -0.285067      0.869670 -0.267241   \n",
       "4133          0    0    -0.338314   0.198639      0.368321 -0.205761   \n",
       "\n",
       "        VRDeck  HomePlanet_Europa  HomePlanet_Mars  Destination_PSO J318.5-22  \\\n",
       "1880 -0.278669                  1                0                          0   \n",
       "4067 -0.219272                  0                0                          0   \n",
       "5059  1.324093                  1                0                          0   \n",
       "1833 -0.279627                  0                0                          1   \n",
       "4133  0.384279                  1                0                          0   \n",
       "\n",
       "      ...  Age_group_adult  Age_group_senior  Side_S  Deck_B  Deck_C  Deck_D  \\\n",
       "1880  ...                1                 0       1       0       0       0   \n",
       "4067  ...                0                 0       1       0       0       0   \n",
       "5059  ...                1                 0       1       1       0       0   \n",
       "1833  ...                1                 0       0       0       0       0   \n",
       "4133  ...                0                 1       1       0       1       0   \n",
       "\n",
       "      Deck_E  Deck_F  Deck_G  Deck_T  \n",
       "1880       0       0       0       0  \n",
       "4067       0       1       0       0  \n",
       "5059       0       0       0       0  \n",
       "1833       1       0       0       0  \n",
       "4133       0       0       0       0  \n",
       "\n",
       "[5 rows x 21 columns]"
      ]
     },
     "execution_count": 45,
     "metadata": {},
     "output_type": "execute_result"
    }
   ],
   "source": [
    "X_train.head()"
   ]
  },
  {
   "cell_type": "markdown",
   "id": "3171d292",
   "metadata": {
    "papermill": {
     "duration": 0.037532,
     "end_time": "2023-02-19T14:15:16.161050",
     "exception": false,
     "start_time": "2023-02-19T14:15:16.123518",
     "status": "completed"
    },
    "tags": []
   },
   "source": [
    "## *Build a Model*\n"
   ]
  },
  {
   "cell_type": "code",
   "execution_count": 46,
   "id": "4b4b055f",
   "metadata": {
    "execution": {
     "iopub.execute_input": "2023-02-19T14:15:16.240672Z",
     "iopub.status.busy": "2023-02-19T14:15:16.239607Z",
     "iopub.status.idle": "2023-02-19T14:15:16.248922Z",
     "shell.execute_reply": "2023-02-19T14:15:16.247751Z"
    },
    "papermill": {
     "duration": 0.052594,
     "end_time": "2023-02-19T14:15:16.251570",
     "exception": false,
     "start_time": "2023-02-19T14:15:16.198976",
     "status": "completed"
    },
    "tags": []
   },
   "outputs": [
    {
     "data": {
      "text/plain": [
       "50.276094276097226"
      ]
     },
     "execution_count": 46,
     "metadata": {},
     "output_type": "execute_result"
    }
   ],
   "source": [
    "#Checking the Class Imbalance\n",
    "\n",
    "sum(train['Transported']/len(train['Transported']))*100"
   ]
  },
  {
   "cell_type": "code",
   "execution_count": 47,
   "id": "9c6e8746",
   "metadata": {
    "execution": {
     "iopub.execute_input": "2023-02-19T14:15:16.333115Z",
     "iopub.status.busy": "2023-02-19T14:15:16.332413Z",
     "iopub.status.idle": "2023-02-19T14:15:17.256808Z",
     "shell.execute_reply": "2023-02-19T14:15:17.255525Z"
    },
    "papermill": {
     "duration": 0.968654,
     "end_time": "2023-02-19T14:15:17.259866",
     "exception": false,
     "start_time": "2023-02-19T14:15:16.291212",
     "status": "completed"
    },
    "tags": []
   },
   "outputs": [
    {
     "data": {
      "text/html": [
       "<table class=\"simpletable\">\n",
       "<caption>Generalized Linear Model Regression Results</caption>\n",
       "<tr>\n",
       "  <th>Dep. Variable:</th>      <td>Transported</td>   <th>  No. Observations:  </th>  <td>  5197</td> \n",
       "</tr>\n",
       "<tr>\n",
       "  <th>Model:</th>                  <td>GLM</td>       <th>  Df Residuals:      </th>  <td>  5175</td> \n",
       "</tr>\n",
       "<tr>\n",
       "  <th>Model Family:</th>        <td>Binomial</td>     <th>  Df Model:          </th>  <td>    21</td> \n",
       "</tr>\n",
       "<tr>\n",
       "  <th>Link Function:</th>         <td>Logit</td>      <th>  Scale:             </th> <td>  1.0000</td>\n",
       "</tr>\n",
       "<tr>\n",
       "  <th>Method:</th>                <td>IRLS</td>       <th>  Log-Likelihood:    </th> <td> -2220.8</td>\n",
       "</tr>\n",
       "<tr>\n",
       "  <th>Date:</th>            <td>Sun, 19 Feb 2023</td> <th>  Deviance:          </th> <td>  4441.6</td>\n",
       "</tr>\n",
       "<tr>\n",
       "  <th>Time:</th>                <td>14:15:17</td>     <th>  Pearson chi2:      </th> <td>5.19e+03</td>\n",
       "</tr>\n",
       "<tr>\n",
       "  <th>No. Iterations:</th>         <td>19</td>        <th>  Pseudo R-squ. (CS):</th>  <td>0.4123</td> \n",
       "</tr>\n",
       "<tr>\n",
       "  <th>Covariance Type:</th>     <td>nonrobust</td>    <th>                     </th>     <td> </td>   \n",
       "</tr>\n",
       "</table>\n",
       "<table class=\"simpletable\">\n",
       "<tr>\n",
       "              <td></td>                 <th>coef</th>     <th>std err</th>      <th>z</th>      <th>P>|z|</th>  <th>[0.025</th>    <th>0.975]</th>  \n",
       "</tr>\n",
       "<tr>\n",
       "  <th>const</th>                     <td>   -1.0430</td> <td>    0.393</td> <td>   -2.657</td> <td> 0.008</td> <td>   -1.812</td> <td>   -0.274</td>\n",
       "</tr>\n",
       "<tr>\n",
       "  <th>CryoSleep</th>                 <td>    1.3365</td> <td>    0.103</td> <td>   12.935</td> <td> 0.000</td> <td>    1.134</td> <td>    1.539</td>\n",
       "</tr>\n",
       "<tr>\n",
       "  <th>VIP</th>                       <td>   -0.4719</td> <td>    0.334</td> <td>   -1.412</td> <td> 0.158</td> <td>   -1.127</td> <td>    0.183</td>\n",
       "</tr>\n",
       "<tr>\n",
       "  <th>RoomService</th>               <td>   -1.0138</td> <td>    0.079</td> <td>  -12.784</td> <td> 0.000</td> <td>   -1.169</td> <td>   -0.858</td>\n",
       "</tr>\n",
       "<tr>\n",
       "  <th>FoodCourt</th>                 <td>    0.9677</td> <td>    0.093</td> <td>   10.460</td> <td> 0.000</td> <td>    0.786</td> <td>    1.149</td>\n",
       "</tr>\n",
       "<tr>\n",
       "  <th>ShoppingMall</th>              <td>    0.3168</td> <td>    0.051</td> <td>    6.244</td> <td> 0.000</td> <td>    0.217</td> <td>    0.416</td>\n",
       "</tr>\n",
       "<tr>\n",
       "  <th>Spa</th>                       <td>   -2.7111</td> <td>    0.177</td> <td>  -15.341</td> <td> 0.000</td> <td>   -3.058</td> <td>   -2.365</td>\n",
       "</tr>\n",
       "<tr>\n",
       "  <th>VRDeck</th>                    <td>   -2.2046</td> <td>    0.148</td> <td>  -14.937</td> <td> 0.000</td> <td>   -2.494</td> <td>   -1.915</td>\n",
       "</tr>\n",
       "<tr>\n",
       "  <th>HomePlanet_Europa</th>         <td>    1.0164</td> <td>    0.277</td> <td>    3.669</td> <td> 0.000</td> <td>    0.473</td> <td>    1.559</td>\n",
       "</tr>\n",
       "<tr>\n",
       "  <th>HomePlanet_Mars</th>           <td>    0.4149</td> <td>    0.120</td> <td>    3.471</td> <td> 0.001</td> <td>    0.181</td> <td>    0.649</td>\n",
       "</tr>\n",
       "<tr>\n",
       "  <th>Destination_PSO J318.5-22</th> <td>   -0.4500</td> <td>    0.147</td> <td>   -3.064</td> <td> 0.002</td> <td>   -0.738</td> <td>   -0.162</td>\n",
       "</tr>\n",
       "<tr>\n",
       "  <th>Destination_TRAPPIST-1e</th>   <td>   -0.5356</td> <td>    0.105</td> <td>   -5.077</td> <td> 0.000</td> <td>   -0.742</td> <td>   -0.329</td>\n",
       "</tr>\n",
       "<tr>\n",
       "  <th>Age_group_adult</th>           <td>   -0.3189</td> <td>    0.092</td> <td>   -3.455</td> <td> 0.001</td> <td>   -0.500</td> <td>   -0.138</td>\n",
       "</tr>\n",
       "<tr>\n",
       "  <th>Age_group_senior</th>          <td>   -0.3176</td> <td>    0.119</td> <td>   -2.664</td> <td> 0.008</td> <td>   -0.551</td> <td>   -0.084</td>\n",
       "</tr>\n",
       "<tr>\n",
       "  <th>Side_S</th>                    <td>    0.5933</td> <td>    0.075</td> <td>    7.933</td> <td> 0.000</td> <td>    0.447</td> <td>    0.740</td>\n",
       "</tr>\n",
       "<tr>\n",
       "  <th>Deck_B</th>                    <td>    1.1200</td> <td>    0.346</td> <td>    3.237</td> <td> 0.001</td> <td>    0.442</td> <td>    1.798</td>\n",
       "</tr>\n",
       "<tr>\n",
       "  <th>Deck_C</th>                    <td>    2.1281</td> <td>    0.383</td> <td>    5.556</td> <td> 0.000</td> <td>    1.377</td> <td>    2.879</td>\n",
       "</tr>\n",
       "<tr>\n",
       "  <th>Deck_D</th>                    <td>    0.3174</td> <td>    0.373</td> <td>    0.850</td> <td> 0.395</td> <td>   -0.414</td> <td>    1.049</td>\n",
       "</tr>\n",
       "<tr>\n",
       "  <th>Deck_E</th>                    <td>   -0.3702</td> <td>    0.370</td> <td>   -1.001</td> <td> 0.317</td> <td>   -1.095</td> <td>    0.355</td>\n",
       "</tr>\n",
       "<tr>\n",
       "  <th>Deck_F</th>                    <td>    0.2397</td> <td>    0.376</td> <td>    0.638</td> <td> 0.523</td> <td>   -0.497</td> <td>    0.976</td>\n",
       "</tr>\n",
       "<tr>\n",
       "  <th>Deck_G</th>                    <td>   -0.3890</td> <td>    0.386</td> <td>   -1.008</td> <td> 0.313</td> <td>   -1.145</td> <td>    0.367</td>\n",
       "</tr>\n",
       "<tr>\n",
       "  <th>Deck_T</th>                    <td>   -9.8310</td> <td> 1.77e+04</td> <td>   -0.001</td> <td> 1.000</td> <td>-3.48e+04</td> <td> 3.47e+04</td>\n",
       "</tr>\n",
       "</table>"
      ],
      "text/plain": [
       "<class 'statsmodels.iolib.summary.Summary'>\n",
       "\"\"\"\n",
       "                 Generalized Linear Model Regression Results                  \n",
       "==============================================================================\n",
       "Dep. Variable:            Transported   No. Observations:                 5197\n",
       "Model:                            GLM   Df Residuals:                     5175\n",
       "Model Family:                Binomial   Df Model:                           21\n",
       "Link Function:                  Logit   Scale:                          1.0000\n",
       "Method:                          IRLS   Log-Likelihood:                -2220.8\n",
       "Date:                Sun, 19 Feb 2023   Deviance:                       4441.6\n",
       "Time:                        14:15:17   Pearson chi2:                 5.19e+03\n",
       "No. Iterations:                    19   Pseudo R-squ. (CS):             0.4123\n",
       "Covariance Type:            nonrobust                                         \n",
       "=============================================================================================\n",
       "                                coef    std err          z      P>|z|      [0.025      0.975]\n",
       "---------------------------------------------------------------------------------------------\n",
       "const                        -1.0430      0.393     -2.657      0.008      -1.812      -0.274\n",
       "CryoSleep                     1.3365      0.103     12.935      0.000       1.134       1.539\n",
       "VIP                          -0.4719      0.334     -1.412      0.158      -1.127       0.183\n",
       "RoomService                  -1.0138      0.079    -12.784      0.000      -1.169      -0.858\n",
       "FoodCourt                     0.9677      0.093     10.460      0.000       0.786       1.149\n",
       "ShoppingMall                  0.3168      0.051      6.244      0.000       0.217       0.416\n",
       "Spa                          -2.7111      0.177    -15.341      0.000      -3.058      -2.365\n",
       "VRDeck                       -2.2046      0.148    -14.937      0.000      -2.494      -1.915\n",
       "HomePlanet_Europa             1.0164      0.277      3.669      0.000       0.473       1.559\n",
       "HomePlanet_Mars               0.4149      0.120      3.471      0.001       0.181       0.649\n",
       "Destination_PSO J318.5-22    -0.4500      0.147     -3.064      0.002      -0.738      -0.162\n",
       "Destination_TRAPPIST-1e      -0.5356      0.105     -5.077      0.000      -0.742      -0.329\n",
       "Age_group_adult              -0.3189      0.092     -3.455      0.001      -0.500      -0.138\n",
       "Age_group_senior             -0.3176      0.119     -2.664      0.008      -0.551      -0.084\n",
       "Side_S                        0.5933      0.075      7.933      0.000       0.447       0.740\n",
       "Deck_B                        1.1200      0.346      3.237      0.001       0.442       1.798\n",
       "Deck_C                        2.1281      0.383      5.556      0.000       1.377       2.879\n",
       "Deck_D                        0.3174      0.373      0.850      0.395      -0.414       1.049\n",
       "Deck_E                       -0.3702      0.370     -1.001      0.317      -1.095       0.355\n",
       "Deck_F                        0.2397      0.376      0.638      0.523      -0.497       0.976\n",
       "Deck_G                       -0.3890      0.386     -1.008      0.313      -1.145       0.367\n",
       "Deck_T                       -9.8310   1.77e+04     -0.001      1.000   -3.48e+04    3.47e+04\n",
       "=============================================================================================\n",
       "\"\"\""
      ]
     },
     "execution_count": 47,
     "metadata": {},
     "output_type": "execute_result"
    }
   ],
   "source": [
    "#Building the first model\n",
    "\n",
    "import statsmodels.api as sm\n",
    "logm1=sm.GLM(y_train,(sm.add_constant(X_train)),family=sm.families.Binomial())\n",
    "logm1.fit().summary()"
   ]
  },
  {
   "cell_type": "markdown",
   "id": "d79e4d7d",
   "metadata": {
    "papermill": {
     "duration": 0.044864,
     "end_time": "2023-02-19T14:15:17.368863",
     "exception": false,
     "start_time": "2023-02-19T14:15:17.323999",
     "status": "completed"
    },
    "tags": []
   },
   "source": [
    "## *Feature selection using RFE*"
   ]
  },
  {
   "cell_type": "code",
   "execution_count": 48,
   "id": "aba6c44b",
   "metadata": {
    "execution": {
     "iopub.execute_input": "2023-02-19T14:15:17.448484Z",
     "iopub.status.busy": "2023-02-19T14:15:17.447978Z",
     "iopub.status.idle": "2023-02-19T14:15:17.527432Z",
     "shell.execute_reply": "2023-02-19T14:15:17.526268Z"
    },
    "papermill": {
     "duration": 0.12241,
     "end_time": "2023-02-19T14:15:17.530000",
     "exception": false,
     "start_time": "2023-02-19T14:15:17.407590",
     "status": "completed"
    },
    "tags": []
   },
   "outputs": [],
   "source": [
    "#Importing Logistric Regression\n",
    "\n",
    "from sklearn.linear_model import LogisticRegression\n",
    "logreg=LogisticRegression()"
   ]
  },
  {
   "cell_type": "code",
   "execution_count": 49,
   "id": "39598259",
   "metadata": {
    "execution": {
     "iopub.execute_input": "2023-02-19T14:15:17.608679Z",
     "iopub.status.busy": "2023-02-19T14:15:17.608270Z",
     "iopub.status.idle": "2023-02-19T14:15:17.970729Z",
     "shell.execute_reply": "2023-02-19T14:15:17.969318Z"
    },
    "papermill": {
     "duration": 0.406987,
     "end_time": "2023-02-19T14:15:17.975187",
     "exception": false,
     "start_time": "2023-02-19T14:15:17.568200",
     "status": "completed"
    },
    "tags": []
   },
   "outputs": [],
   "source": [
    "#Using Logreg to create 15 features.\n",
    "\n",
    "from sklearn.feature_selection import RFE\n",
    "rfe=RFE(estimator=logreg,n_features_to_select=15)\n",
    "rfe=rfe.fit(X_train,y_train)"
   ]
  },
  {
   "cell_type": "code",
   "execution_count": 50,
   "id": "59dc4f64",
   "metadata": {
    "execution": {
     "iopub.execute_input": "2023-02-19T14:15:18.099521Z",
     "iopub.status.busy": "2023-02-19T14:15:18.099143Z",
     "iopub.status.idle": "2023-02-19T14:15:18.107950Z",
     "shell.execute_reply": "2023-02-19T14:15:18.107123Z"
    },
    "papermill": {
     "duration": 0.070405,
     "end_time": "2023-02-19T14:15:18.110108",
     "exception": false,
     "start_time": "2023-02-19T14:15:18.039703",
     "status": "completed"
    },
    "tags": []
   },
   "outputs": [
    {
     "data": {
      "text/plain": [
       "[('CryoSleep', True, 1),\n",
       " ('VIP', True, 1),\n",
       " ('RoomService', True, 1),\n",
       " ('FoodCourt', True, 1),\n",
       " ('ShoppingMall', False, 2),\n",
       " ('Spa', True, 1),\n",
       " ('VRDeck', True, 1),\n",
       " ('HomePlanet_Europa', True, 1),\n",
       " ('HomePlanet_Mars', True, 1),\n",
       " ('Destination_PSO J318.5-22', True, 1),\n",
       " ('Destination_TRAPPIST-1e', True, 1),\n",
       " ('Age_group_adult', False, 3),\n",
       " ('Age_group_senior', False, 4),\n",
       " ('Side_S', True, 1),\n",
       " ('Deck_B', True, 1),\n",
       " ('Deck_C', True, 1),\n",
       " ('Deck_D', False, 5),\n",
       " ('Deck_E', True, 1),\n",
       " ('Deck_F', False, 6),\n",
       " ('Deck_G', True, 1),\n",
       " ('Deck_T', False, 7)]"
      ]
     },
     "execution_count": 50,
     "metadata": {},
     "output_type": "execute_result"
    }
   ],
   "source": [
    "#Displaying the list of columns with rfe ranking\n",
    "\n",
    "list(zip(X_train.columns, rfe.support_, rfe.ranking_))"
   ]
  },
  {
   "cell_type": "code",
   "execution_count": 51,
   "id": "343d8208",
   "metadata": {
    "execution": {
     "iopub.execute_input": "2023-02-19T14:15:18.190499Z",
     "iopub.status.busy": "2023-02-19T14:15:18.189290Z",
     "iopub.status.idle": "2023-02-19T14:15:18.196314Z",
     "shell.execute_reply": "2023-02-19T14:15:18.195491Z"
    },
    "papermill": {
     "duration": 0.049407,
     "end_time": "2023-02-19T14:15:18.198428",
     "exception": false,
     "start_time": "2023-02-19T14:15:18.149021",
     "status": "completed"
    },
    "tags": []
   },
   "outputs": [
    {
     "data": {
      "text/plain": [
       "Index(['CryoSleep', 'VIP', 'RoomService', 'FoodCourt', 'Spa', 'VRDeck',\n",
       "       'HomePlanet_Europa', 'HomePlanet_Mars', 'Destination_PSO J318.5-22',\n",
       "       'Destination_TRAPPIST-1e', 'Side_S', 'Deck_B', 'Deck_C', 'Deck_E',\n",
       "       'Deck_G'],\n",
       "      dtype='object')"
      ]
     },
     "execution_count": 51,
     "metadata": {},
     "output_type": "execute_result"
    }
   ],
   "source": [
    "#Considering only the columns that are selected by rfe.\n",
    "\n",
    "col=X_train.columns[rfe.support_]\n",
    "col"
   ]
  },
  {
   "cell_type": "code",
   "execution_count": 52,
   "id": "428b5caf",
   "metadata": {
    "execution": {
     "iopub.execute_input": "2023-02-19T14:15:18.278415Z",
     "iopub.status.busy": "2023-02-19T14:15:18.277721Z",
     "iopub.status.idle": "2023-02-19T14:15:18.297507Z",
     "shell.execute_reply": "2023-02-19T14:15:18.296585Z"
    },
    "papermill": {
     "duration": 0.062428,
     "end_time": "2023-02-19T14:15:18.299965",
     "exception": false,
     "start_time": "2023-02-19T14:15:18.237537",
     "status": "completed"
    },
    "tags": []
   },
   "outputs": [
    {
     "data": {
      "text/html": [
       "<div>\n",
       "<style scoped>\n",
       "    .dataframe tbody tr th:only-of-type {\n",
       "        vertical-align: middle;\n",
       "    }\n",
       "\n",
       "    .dataframe tbody tr th {\n",
       "        vertical-align: top;\n",
       "    }\n",
       "\n",
       "    .dataframe thead th {\n",
       "        text-align: right;\n",
       "    }\n",
       "</style>\n",
       "<table border=\"1\" class=\"dataframe\">\n",
       "  <thead>\n",
       "    <tr style=\"text-align: right;\">\n",
       "      <th></th>\n",
       "      <th>CryoSleep</th>\n",
       "      <th>VIP</th>\n",
       "      <th>RoomService</th>\n",
       "      <th>FoodCourt</th>\n",
       "      <th>Spa</th>\n",
       "      <th>VRDeck</th>\n",
       "      <th>HomePlanet_Europa</th>\n",
       "      <th>HomePlanet_Mars</th>\n",
       "      <th>Destination_PSO J318.5-22</th>\n",
       "      <th>Destination_TRAPPIST-1e</th>\n",
       "      <th>Side_S</th>\n",
       "      <th>Deck_B</th>\n",
       "      <th>Deck_C</th>\n",
       "      <th>Deck_E</th>\n",
       "      <th>Deck_G</th>\n",
       "    </tr>\n",
       "  </thead>\n",
       "  <tbody>\n",
       "    <tr>\n",
       "      <th>1880</th>\n",
       "      <td>0</td>\n",
       "      <td>0</td>\n",
       "      <td>-0.338314</td>\n",
       "      <td>3.109755</td>\n",
       "      <td>-0.266410</td>\n",
       "      <td>-0.278669</td>\n",
       "      <td>1</td>\n",
       "      <td>0</td>\n",
       "      <td>0</td>\n",
       "      <td>0</td>\n",
       "      <td>1</td>\n",
       "      <td>0</td>\n",
       "      <td>0</td>\n",
       "      <td>0</td>\n",
       "      <td>0</td>\n",
       "    </tr>\n",
       "    <tr>\n",
       "      <th>4067</th>\n",
       "      <td>0</td>\n",
       "      <td>0</td>\n",
       "      <td>-0.338314</td>\n",
       "      <td>-0.264345</td>\n",
       "      <td>-0.270564</td>\n",
       "      <td>-0.219272</td>\n",
       "      <td>0</td>\n",
       "      <td>0</td>\n",
       "      <td>0</td>\n",
       "      <td>1</td>\n",
       "      <td>1</td>\n",
       "      <td>0</td>\n",
       "      <td>0</td>\n",
       "      <td>0</td>\n",
       "      <td>0</td>\n",
       "    </tr>\n",
       "    <tr>\n",
       "      <th>5059</th>\n",
       "      <td>0</td>\n",
       "      <td>0</td>\n",
       "      <td>-0.308405</td>\n",
       "      <td>2.059456</td>\n",
       "      <td>-0.037940</td>\n",
       "      <td>1.324093</td>\n",
       "      <td>1</td>\n",
       "      <td>0</td>\n",
       "      <td>0</td>\n",
       "      <td>1</td>\n",
       "      <td>1</td>\n",
       "      <td>1</td>\n",
       "      <td>0</td>\n",
       "      <td>0</td>\n",
       "      <td>0</td>\n",
       "    </tr>\n",
       "    <tr>\n",
       "      <th>1833</th>\n",
       "      <td>0</td>\n",
       "      <td>0</td>\n",
       "      <td>-0.338314</td>\n",
       "      <td>-0.285067</td>\n",
       "      <td>-0.267241</td>\n",
       "      <td>-0.279627</td>\n",
       "      <td>0</td>\n",
       "      <td>0</td>\n",
       "      <td>1</td>\n",
       "      <td>0</td>\n",
       "      <td>0</td>\n",
       "      <td>0</td>\n",
       "      <td>0</td>\n",
       "      <td>1</td>\n",
       "      <td>0</td>\n",
       "    </tr>\n",
       "    <tr>\n",
       "      <th>4133</th>\n",
       "      <td>0</td>\n",
       "      <td>0</td>\n",
       "      <td>-0.338314</td>\n",
       "      <td>0.198639</td>\n",
       "      <td>-0.205761</td>\n",
       "      <td>0.384279</td>\n",
       "      <td>1</td>\n",
       "      <td>0</td>\n",
       "      <td>0</td>\n",
       "      <td>1</td>\n",
       "      <td>1</td>\n",
       "      <td>0</td>\n",
       "      <td>1</td>\n",
       "      <td>0</td>\n",
       "      <td>0</td>\n",
       "    </tr>\n",
       "    <tr>\n",
       "      <th>...</th>\n",
       "      <td>...</td>\n",
       "      <td>...</td>\n",
       "      <td>...</td>\n",
       "      <td>...</td>\n",
       "      <td>...</td>\n",
       "      <td>...</td>\n",
       "      <td>...</td>\n",
       "      <td>...</td>\n",
       "      <td>...</td>\n",
       "      <td>...</td>\n",
       "      <td>...</td>\n",
       "      <td>...</td>\n",
       "      <td>...</td>\n",
       "      <td>...</td>\n",
       "      <td>...</td>\n",
       "    </tr>\n",
       "    <tr>\n",
       "      <th>98</th>\n",
       "      <td>0</td>\n",
       "      <td>0</td>\n",
       "      <td>-0.338314</td>\n",
       "      <td>-0.285067</td>\n",
       "      <td>-0.268902</td>\n",
       "      <td>-0.154127</td>\n",
       "      <td>0</td>\n",
       "      <td>0</td>\n",
       "      <td>0</td>\n",
       "      <td>1</td>\n",
       "      <td>0</td>\n",
       "      <td>0</td>\n",
       "      <td>0</td>\n",
       "      <td>0</td>\n",
       "      <td>0</td>\n",
       "    </tr>\n",
       "    <tr>\n",
       "      <th>4654</th>\n",
       "      <td>0</td>\n",
       "      <td>0</td>\n",
       "      <td>-0.338314</td>\n",
       "      <td>-0.145935</td>\n",
       "      <td>0.123236</td>\n",
       "      <td>-0.279627</td>\n",
       "      <td>0</td>\n",
       "      <td>0</td>\n",
       "      <td>0</td>\n",
       "      <td>1</td>\n",
       "      <td>1</td>\n",
       "      <td>0</td>\n",
       "      <td>0</td>\n",
       "      <td>0</td>\n",
       "      <td>1</td>\n",
       "    </tr>\n",
       "    <tr>\n",
       "      <th>7011</th>\n",
       "      <td>1</td>\n",
       "      <td>0</td>\n",
       "      <td>-0.338314</td>\n",
       "      <td>-0.285067</td>\n",
       "      <td>-0.270564</td>\n",
       "      <td>-0.279627</td>\n",
       "      <td>0</td>\n",
       "      <td>0</td>\n",
       "      <td>0</td>\n",
       "      <td>1</td>\n",
       "      <td>1</td>\n",
       "      <td>0</td>\n",
       "      <td>0</td>\n",
       "      <td>0</td>\n",
       "      <td>1</td>\n",
       "    </tr>\n",
       "    <tr>\n",
       "      <th>8126</th>\n",
       "      <td>0</td>\n",
       "      <td>0</td>\n",
       "      <td>0.212008</td>\n",
       "      <td>0.010366</td>\n",
       "      <td>-0.270564</td>\n",
       "      <td>-0.277711</td>\n",
       "      <td>0</td>\n",
       "      <td>1</td>\n",
       "      <td>0</td>\n",
       "      <td>1</td>\n",
       "      <td>0</td>\n",
       "      <td>0</td>\n",
       "      <td>0</td>\n",
       "      <td>0</td>\n",
       "      <td>0</td>\n",
       "    </tr>\n",
       "    <tr>\n",
       "      <th>6643</th>\n",
       "      <td>0</td>\n",
       "      <td>0</td>\n",
       "      <td>-0.338314</td>\n",
       "      <td>-0.275002</td>\n",
       "      <td>-0.270564</td>\n",
       "      <td>-0.255676</td>\n",
       "      <td>0</td>\n",
       "      <td>0</td>\n",
       "      <td>0</td>\n",
       "      <td>0</td>\n",
       "      <td>1</td>\n",
       "      <td>0</td>\n",
       "      <td>0</td>\n",
       "      <td>0</td>\n",
       "      <td>0</td>\n",
       "    </tr>\n",
       "  </tbody>\n",
       "</table>\n",
       "<p>5197 rows × 15 columns</p>\n",
       "</div>"
      ],
      "text/plain": [
       "      CryoSleep  VIP  RoomService  FoodCourt       Spa    VRDeck  \\\n",
       "1880          0    0    -0.338314   3.109755 -0.266410 -0.278669   \n",
       "4067          0    0    -0.338314  -0.264345 -0.270564 -0.219272   \n",
       "5059          0    0    -0.308405   2.059456 -0.037940  1.324093   \n",
       "1833          0    0    -0.338314  -0.285067 -0.267241 -0.279627   \n",
       "4133          0    0    -0.338314   0.198639 -0.205761  0.384279   \n",
       "...         ...  ...          ...        ...       ...       ...   \n",
       "98            0    0    -0.338314  -0.285067 -0.268902 -0.154127   \n",
       "4654          0    0    -0.338314  -0.145935  0.123236 -0.279627   \n",
       "7011          1    0    -0.338314  -0.285067 -0.270564 -0.279627   \n",
       "8126          0    0     0.212008   0.010366 -0.270564 -0.277711   \n",
       "6643          0    0    -0.338314  -0.275002 -0.270564 -0.255676   \n",
       "\n",
       "      HomePlanet_Europa  HomePlanet_Mars  Destination_PSO J318.5-22  \\\n",
       "1880                  1                0                          0   \n",
       "4067                  0                0                          0   \n",
       "5059                  1                0                          0   \n",
       "1833                  0                0                          1   \n",
       "4133                  1                0                          0   \n",
       "...                 ...              ...                        ...   \n",
       "98                    0                0                          0   \n",
       "4654                  0                0                          0   \n",
       "7011                  0                0                          0   \n",
       "8126                  0                1                          0   \n",
       "6643                  0                0                          0   \n",
       "\n",
       "      Destination_TRAPPIST-1e  Side_S  Deck_B  Deck_C  Deck_E  Deck_G  \n",
       "1880                        0       1       0       0       0       0  \n",
       "4067                        1       1       0       0       0       0  \n",
       "5059                        1       1       1       0       0       0  \n",
       "1833                        0       0       0       0       1       0  \n",
       "4133                        1       1       0       1       0       0  \n",
       "...                       ...     ...     ...     ...     ...     ...  \n",
       "98                          1       0       0       0       0       0  \n",
       "4654                        1       1       0       0       0       1  \n",
       "7011                        1       1       0       0       0       1  \n",
       "8126                        1       0       0       0       0       0  \n",
       "6643                        0       1       0       0       0       0  \n",
       "\n",
       "[5197 rows x 15 columns]"
      ]
     },
     "execution_count": 52,
     "metadata": {},
     "output_type": "execute_result"
    }
   ],
   "source": [
    "X_train[col]"
   ]
  },
  {
   "cell_type": "code",
   "execution_count": 53,
   "id": "93878986",
   "metadata": {
    "execution": {
     "iopub.execute_input": "2023-02-19T14:15:18.382730Z",
     "iopub.status.busy": "2023-02-19T14:15:18.382023Z",
     "iopub.status.idle": "2023-02-19T14:15:18.454468Z",
     "shell.execute_reply": "2023-02-19T14:15:18.453196Z"
    },
    "papermill": {
     "duration": 0.117317,
     "end_time": "2023-02-19T14:15:18.457639",
     "exception": false,
     "start_time": "2023-02-19T14:15:18.340322",
     "status": "completed"
    },
    "tags": []
   },
   "outputs": [
    {
     "data": {
      "text/html": [
       "<table class=\"simpletable\">\n",
       "<caption>Generalized Linear Model Regression Results</caption>\n",
       "<tr>\n",
       "  <th>Dep. Variable:</th>      <td>Transported</td>   <th>  No. Observations:  </th>  <td>  5197</td> \n",
       "</tr>\n",
       "<tr>\n",
       "  <th>Model:</th>                  <td>GLM</td>       <th>  Df Residuals:      </th>  <td>  5181</td> \n",
       "</tr>\n",
       "<tr>\n",
       "  <th>Model Family:</th>        <td>Binomial</td>     <th>  Df Model:          </th>  <td>    15</td> \n",
       "</tr>\n",
       "<tr>\n",
       "  <th>Link Function:</th>         <td>Logit</td>      <th>  Scale:             </th> <td>  1.0000</td>\n",
       "</tr>\n",
       "<tr>\n",
       "  <th>Method:</th>                <td>IRLS</td>       <th>  Log-Likelihood:    </th> <td> -2247.1</td>\n",
       "</tr>\n",
       "<tr>\n",
       "  <th>Date:</th>            <td>Sun, 19 Feb 2023</td> <th>  Deviance:          </th> <td>  4494.2</td>\n",
       "</tr>\n",
       "<tr>\n",
       "  <th>Time:</th>                <td>14:15:18</td>     <th>  Pearson chi2:      </th> <td>8.34e+03</td>\n",
       "</tr>\n",
       "<tr>\n",
       "  <th>No. Iterations:</th>          <td>8</td>        <th>  Pseudo R-squ. (CS):</th>  <td>0.4064</td> \n",
       "</tr>\n",
       "<tr>\n",
       "  <th>Covariance Type:</th>     <td>nonrobust</td>    <th>                     </th>     <td> </td>   \n",
       "</tr>\n",
       "</table>\n",
       "<table class=\"simpletable\">\n",
       "<tr>\n",
       "              <td></td>                 <th>coef</th>     <th>std err</th>      <th>z</th>      <th>P>|z|</th>  <th>[0.025</th>    <th>0.975]</th>  \n",
       "</tr>\n",
       "<tr>\n",
       "  <th>const</th>                     <td>   -1.0296</td> <td>    0.121</td> <td>   -8.480</td> <td> 0.000</td> <td>   -1.268</td> <td>   -0.792</td>\n",
       "</tr>\n",
       "<tr>\n",
       "  <th>CryoSleep</th>                 <td>    1.1199</td> <td>    0.099</td> <td>   11.354</td> <td> 0.000</td> <td>    0.927</td> <td>    1.313</td>\n",
       "</tr>\n",
       "<tr>\n",
       "  <th>VIP</th>                       <td>   -0.4725</td> <td>    0.332</td> <td>   -1.421</td> <td> 0.155</td> <td>   -1.124</td> <td>    0.179</td>\n",
       "</tr>\n",
       "<tr>\n",
       "  <th>RoomService</th>               <td>   -1.0905</td> <td>    0.079</td> <td>  -13.761</td> <td> 0.000</td> <td>   -1.246</td> <td>   -0.935</td>\n",
       "</tr>\n",
       "<tr>\n",
       "  <th>FoodCourt</th>                 <td>    0.9077</td> <td>    0.092</td> <td>    9.894</td> <td> 0.000</td> <td>    0.728</td> <td>    1.088</td>\n",
       "</tr>\n",
       "<tr>\n",
       "  <th>Spa</th>                       <td>   -2.8129</td> <td>    0.175</td> <td>  -16.033</td> <td> 0.000</td> <td>   -3.157</td> <td>   -2.469</td>\n",
       "</tr>\n",
       "<tr>\n",
       "  <th>VRDeck</th>                    <td>   -2.3076</td> <td>    0.149</td> <td>  -15.503</td> <td> 0.000</td> <td>   -2.599</td> <td>   -2.016</td>\n",
       "</tr>\n",
       "<tr>\n",
       "  <th>HomePlanet_Europa</th>         <td>    0.9869</td> <td>    0.203</td> <td>    4.853</td> <td> 0.000</td> <td>    0.588</td> <td>    1.386</td>\n",
       "</tr>\n",
       "<tr>\n",
       "  <th>HomePlanet_Mars</th>           <td>    0.5389</td> <td>    0.114</td> <td>    4.728</td> <td> 0.000</td> <td>    0.316</td> <td>    0.762</td>\n",
       "</tr>\n",
       "<tr>\n",
       "  <th>Destination_PSO J318.5-22</th> <td>   -0.4750</td> <td>    0.145</td> <td>   -3.278</td> <td> 0.001</td> <td>   -0.759</td> <td>   -0.191</td>\n",
       "</tr>\n",
       "<tr>\n",
       "  <th>Destination_TRAPPIST-1e</th>   <td>   -0.5566</td> <td>    0.104</td> <td>   -5.334</td> <td> 0.000</td> <td>   -0.761</td> <td>   -0.352</td>\n",
       "</tr>\n",
       "<tr>\n",
       "  <th>Side_S</th>                    <td>    0.5791</td> <td>    0.074</td> <td>    7.820</td> <td> 0.000</td> <td>    0.434</td> <td>    0.724</td>\n",
       "</tr>\n",
       "<tr>\n",
       "  <th>Deck_B</th>                    <td>    0.9896</td> <td>    0.284</td> <td>    3.489</td> <td> 0.000</td> <td>    0.434</td> <td>    1.545</td>\n",
       "</tr>\n",
       "<tr>\n",
       "  <th>Deck_C</th>                    <td>    2.0928</td> <td>    0.328</td> <td>    6.389</td> <td> 0.000</td> <td>    1.451</td> <td>    2.735</td>\n",
       "</tr>\n",
       "<tr>\n",
       "  <th>Deck_E</th>                    <td>   -0.6286</td> <td>    0.124</td> <td>   -5.068</td> <td> 0.000</td> <td>   -0.872</td> <td>   -0.385</td>\n",
       "</tr>\n",
       "<tr>\n",
       "  <th>Deck_G</th>                    <td>   -0.5894</td> <td>    0.104</td> <td>   -5.659</td> <td> 0.000</td> <td>   -0.793</td> <td>   -0.385</td>\n",
       "</tr>\n",
       "</table>"
      ],
      "text/plain": [
       "<class 'statsmodels.iolib.summary.Summary'>\n",
       "\"\"\"\n",
       "                 Generalized Linear Model Regression Results                  \n",
       "==============================================================================\n",
       "Dep. Variable:            Transported   No. Observations:                 5197\n",
       "Model:                            GLM   Df Residuals:                     5181\n",
       "Model Family:                Binomial   Df Model:                           15\n",
       "Link Function:                  Logit   Scale:                          1.0000\n",
       "Method:                          IRLS   Log-Likelihood:                -2247.1\n",
       "Date:                Sun, 19 Feb 2023   Deviance:                       4494.2\n",
       "Time:                        14:15:18   Pearson chi2:                 8.34e+03\n",
       "No. Iterations:                     8   Pseudo R-squ. (CS):             0.4064\n",
       "Covariance Type:            nonrobust                                         \n",
       "=============================================================================================\n",
       "                                coef    std err          z      P>|z|      [0.025      0.975]\n",
       "---------------------------------------------------------------------------------------------\n",
       "const                        -1.0296      0.121     -8.480      0.000      -1.268      -0.792\n",
       "CryoSleep                     1.1199      0.099     11.354      0.000       0.927       1.313\n",
       "VIP                          -0.4725      0.332     -1.421      0.155      -1.124       0.179\n",
       "RoomService                  -1.0905      0.079    -13.761      0.000      -1.246      -0.935\n",
       "FoodCourt                     0.9077      0.092      9.894      0.000       0.728       1.088\n",
       "Spa                          -2.8129      0.175    -16.033      0.000      -3.157      -2.469\n",
       "VRDeck                       -2.3076      0.149    -15.503      0.000      -2.599      -2.016\n",
       "HomePlanet_Europa             0.9869      0.203      4.853      0.000       0.588       1.386\n",
       "HomePlanet_Mars               0.5389      0.114      4.728      0.000       0.316       0.762\n",
       "Destination_PSO J318.5-22    -0.4750      0.145     -3.278      0.001      -0.759      -0.191\n",
       "Destination_TRAPPIST-1e      -0.5566      0.104     -5.334      0.000      -0.761      -0.352\n",
       "Side_S                        0.5791      0.074      7.820      0.000       0.434       0.724\n",
       "Deck_B                        0.9896      0.284      3.489      0.000       0.434       1.545\n",
       "Deck_C                        2.0928      0.328      6.389      0.000       1.451       2.735\n",
       "Deck_E                       -0.6286      0.124     -5.068      0.000      -0.872      -0.385\n",
       "Deck_G                       -0.5894      0.104     -5.659      0.000      -0.793      -0.385\n",
       "=============================================================================================\n",
       "\"\"\""
      ]
     },
     "execution_count": 53,
     "metadata": {},
     "output_type": "execute_result"
    }
   ],
   "source": [
    "#Building second model with rfe features.\n",
    "X_train_sm=sm.add_constant(X_train[col])\n",
    "logm2=sm.GLM(y_train,X_train_sm,family=sm.families.Binomial())\n",
    "logm2.fit().summary()"
   ]
  },
  {
   "cell_type": "code",
   "execution_count": 54,
   "id": "c081158f",
   "metadata": {
    "execution": {
     "iopub.execute_input": "2023-02-19T14:15:18.575986Z",
     "iopub.status.busy": "2023-02-19T14:15:18.575606Z",
     "iopub.status.idle": "2023-02-19T14:15:18.581306Z",
     "shell.execute_reply": "2023-02-19T14:15:18.580184Z"
    },
    "papermill": {
     "duration": 0.055839,
     "end_time": "2023-02-19T14:15:18.583565",
     "exception": false,
     "start_time": "2023-02-19T14:15:18.527726",
     "status": "completed"
    },
    "tags": []
   },
   "outputs": [],
   "source": [
    "X_train=X_train[col]"
   ]
  },
  {
   "cell_type": "code",
   "execution_count": 55,
   "id": "a9395db8",
   "metadata": {
    "execution": {
     "iopub.execute_input": "2023-02-19T14:15:18.664454Z",
     "iopub.status.busy": "2023-02-19T14:15:18.664030Z",
     "iopub.status.idle": "2023-02-19T14:15:18.670459Z",
     "shell.execute_reply": "2023-02-19T14:15:18.669325Z"
    },
    "papermill": {
     "duration": 0.049696,
     "end_time": "2023-02-19T14:15:18.672737",
     "exception": false,
     "start_time": "2023-02-19T14:15:18.623041",
     "status": "completed"
    },
    "tags": []
   },
   "outputs": [],
   "source": [
    "#Dropping VIP as its p-value is greater than 0.05\n",
    "\n",
    "X_train=X_train.drop('VIP',axis=1)"
   ]
  },
  {
   "cell_type": "code",
   "execution_count": 56,
   "id": "48cf1bd9",
   "metadata": {
    "execution": {
     "iopub.execute_input": "2023-02-19T14:15:18.754832Z",
     "iopub.status.busy": "2023-02-19T14:15:18.753862Z",
     "iopub.status.idle": "2023-02-19T14:15:18.826878Z",
     "shell.execute_reply": "2023-02-19T14:15:18.825549Z"
    },
    "papermill": {
     "duration": 0.117388,
     "end_time": "2023-02-19T14:15:18.830326",
     "exception": false,
     "start_time": "2023-02-19T14:15:18.712938",
     "status": "completed"
    },
    "tags": []
   },
   "outputs": [
    {
     "data": {
      "text/html": [
       "<table class=\"simpletable\">\n",
       "<caption>Generalized Linear Model Regression Results</caption>\n",
       "<tr>\n",
       "  <th>Dep. Variable:</th>      <td>Transported</td>   <th>  No. Observations:  </th>  <td>  5197</td> \n",
       "</tr>\n",
       "<tr>\n",
       "  <th>Model:</th>                  <td>GLM</td>       <th>  Df Residuals:      </th>  <td>  5182</td> \n",
       "</tr>\n",
       "<tr>\n",
       "  <th>Model Family:</th>        <td>Binomial</td>     <th>  Df Model:          </th>  <td>    14</td> \n",
       "</tr>\n",
       "<tr>\n",
       "  <th>Link Function:</th>         <td>Logit</td>      <th>  Scale:             </th> <td>  1.0000</td>\n",
       "</tr>\n",
       "<tr>\n",
       "  <th>Method:</th>                <td>IRLS</td>       <th>  Log-Likelihood:    </th> <td> -2248.1</td>\n",
       "</tr>\n",
       "<tr>\n",
       "  <th>Date:</th>            <td>Sun, 19 Feb 2023</td> <th>  Deviance:          </th> <td>  4496.3</td>\n",
       "</tr>\n",
       "<tr>\n",
       "  <th>Time:</th>                <td>14:15:18</td>     <th>  Pearson chi2:      </th> <td>8.43e+03</td>\n",
       "</tr>\n",
       "<tr>\n",
       "  <th>No. Iterations:</th>          <td>8</td>        <th>  Pseudo R-squ. (CS):</th>  <td>0.4061</td> \n",
       "</tr>\n",
       "<tr>\n",
       "  <th>Covariance Type:</th>     <td>nonrobust</td>    <th>                     </th>     <td> </td>   \n",
       "</tr>\n",
       "</table>\n",
       "<table class=\"simpletable\">\n",
       "<tr>\n",
       "              <td></td>                 <th>coef</th>     <th>std err</th>      <th>z</th>      <th>P>|z|</th>  <th>[0.025</th>    <th>0.975]</th>  \n",
       "</tr>\n",
       "<tr>\n",
       "  <th>const</th>                     <td>   -1.0326</td> <td>    0.121</td> <td>   -8.503</td> <td> 0.000</td> <td>   -1.271</td> <td>   -0.795</td>\n",
       "</tr>\n",
       "<tr>\n",
       "  <th>CryoSleep</th>                 <td>    1.1268</td> <td>    0.099</td> <td>   11.437</td> <td> 0.000</td> <td>    0.934</td> <td>    1.320</td>\n",
       "</tr>\n",
       "<tr>\n",
       "  <th>RoomService</th>               <td>   -1.0949</td> <td>    0.079</td> <td>  -13.822</td> <td> 0.000</td> <td>   -1.250</td> <td>   -0.940</td>\n",
       "</tr>\n",
       "<tr>\n",
       "  <th>FoodCourt</th>                 <td>    0.9043</td> <td>    0.092</td> <td>    9.842</td> <td> 0.000</td> <td>    0.724</td> <td>    1.084</td>\n",
       "</tr>\n",
       "<tr>\n",
       "  <th>Spa</th>                       <td>   -2.8108</td> <td>    0.175</td> <td>  -16.052</td> <td> 0.000</td> <td>   -3.154</td> <td>   -2.468</td>\n",
       "</tr>\n",
       "<tr>\n",
       "  <th>VRDeck</th>                    <td>   -2.3148</td> <td>    0.149</td> <td>  -15.535</td> <td> 0.000</td> <td>   -2.607</td> <td>   -2.023</td>\n",
       "</tr>\n",
       "<tr>\n",
       "  <th>HomePlanet_Europa</th>         <td>    0.9694</td> <td>    0.203</td> <td>    4.785</td> <td> 0.000</td> <td>    0.572</td> <td>    1.366</td>\n",
       "</tr>\n",
       "<tr>\n",
       "  <th>HomePlanet_Mars</th>           <td>    0.5213</td> <td>    0.113</td> <td>    4.602</td> <td> 0.000</td> <td>    0.299</td> <td>    0.743</td>\n",
       "</tr>\n",
       "<tr>\n",
       "  <th>Destination_PSO J318.5-22</th> <td>   -0.4785</td> <td>    0.145</td> <td>   -3.301</td> <td> 0.001</td> <td>   -0.763</td> <td>   -0.194</td>\n",
       "</tr>\n",
       "<tr>\n",
       "  <th>Destination_TRAPPIST-1e</th>   <td>   -0.5552</td> <td>    0.104</td> <td>   -5.320</td> <td> 0.000</td> <td>   -0.760</td> <td>   -0.351</td>\n",
       "</tr>\n",
       "<tr>\n",
       "  <th>Side_S</th>                    <td>    0.5803</td> <td>    0.074</td> <td>    7.837</td> <td> 0.000</td> <td>    0.435</td> <td>    0.725</td>\n",
       "</tr>\n",
       "<tr>\n",
       "  <th>Deck_B</th>                    <td>    0.9596</td> <td>    0.281</td> <td>    3.410</td> <td> 0.001</td> <td>    0.408</td> <td>    1.511</td>\n",
       "</tr>\n",
       "<tr>\n",
       "  <th>Deck_C</th>                    <td>    2.1010</td> <td>    0.328</td> <td>    6.407</td> <td> 0.000</td> <td>    1.458</td> <td>    2.744</td>\n",
       "</tr>\n",
       "<tr>\n",
       "  <th>Deck_E</th>                    <td>   -0.6347</td> <td>    0.124</td> <td>   -5.123</td> <td> 0.000</td> <td>   -0.878</td> <td>   -0.392</td>\n",
       "</tr>\n",
       "<tr>\n",
       "  <th>Deck_G</th>                    <td>   -0.5946</td> <td>    0.104</td> <td>   -5.710</td> <td> 0.000</td> <td>   -0.799</td> <td>   -0.390</td>\n",
       "</tr>\n",
       "</table>"
      ],
      "text/plain": [
       "<class 'statsmodels.iolib.summary.Summary'>\n",
       "\"\"\"\n",
       "                 Generalized Linear Model Regression Results                  \n",
       "==============================================================================\n",
       "Dep. Variable:            Transported   No. Observations:                 5197\n",
       "Model:                            GLM   Df Residuals:                     5182\n",
       "Model Family:                Binomial   Df Model:                           14\n",
       "Link Function:                  Logit   Scale:                          1.0000\n",
       "Method:                          IRLS   Log-Likelihood:                -2248.1\n",
       "Date:                Sun, 19 Feb 2023   Deviance:                       4496.3\n",
       "Time:                        14:15:18   Pearson chi2:                 8.43e+03\n",
       "No. Iterations:                     8   Pseudo R-squ. (CS):             0.4061\n",
       "Covariance Type:            nonrobust                                         \n",
       "=============================================================================================\n",
       "                                coef    std err          z      P>|z|      [0.025      0.975]\n",
       "---------------------------------------------------------------------------------------------\n",
       "const                        -1.0326      0.121     -8.503      0.000      -1.271      -0.795\n",
       "CryoSleep                     1.1268      0.099     11.437      0.000       0.934       1.320\n",
       "RoomService                  -1.0949      0.079    -13.822      0.000      -1.250      -0.940\n",
       "FoodCourt                     0.9043      0.092      9.842      0.000       0.724       1.084\n",
       "Spa                          -2.8108      0.175    -16.052      0.000      -3.154      -2.468\n",
       "VRDeck                       -2.3148      0.149    -15.535      0.000      -2.607      -2.023\n",
       "HomePlanet_Europa             0.9694      0.203      4.785      0.000       0.572       1.366\n",
       "HomePlanet_Mars               0.5213      0.113      4.602      0.000       0.299       0.743\n",
       "Destination_PSO J318.5-22    -0.4785      0.145     -3.301      0.001      -0.763      -0.194\n",
       "Destination_TRAPPIST-1e      -0.5552      0.104     -5.320      0.000      -0.760      -0.351\n",
       "Side_S                        0.5803      0.074      7.837      0.000       0.435       0.725\n",
       "Deck_B                        0.9596      0.281      3.410      0.001       0.408       1.511\n",
       "Deck_C                        2.1010      0.328      6.407      0.000       1.458       2.744\n",
       "Deck_E                       -0.6347      0.124     -5.123      0.000      -0.878      -0.392\n",
       "Deck_G                       -0.5946      0.104     -5.710      0.000      -0.799      -0.390\n",
       "=============================================================================================\n",
       "\"\"\""
      ]
     },
     "execution_count": 56,
     "metadata": {},
     "output_type": "execute_result"
    }
   ],
   "source": [
    "#Building third Regression model\n",
    "\n",
    "X_train_sm=sm.add_constant(X_train)\n",
    "logm3=sm.GLM(y_train,X_train_sm,family=sm.families.Binomial())\n",
    "res=logm3.fit()\n",
    "res.summary()"
   ]
  },
  {
   "cell_type": "code",
   "execution_count": 57,
   "id": "3047815f",
   "metadata": {
    "execution": {
     "iopub.execute_input": "2023-02-19T14:15:18.946237Z",
     "iopub.status.busy": "2023-02-19T14:15:18.945827Z",
     "iopub.status.idle": "2023-02-19T14:15:18.955017Z",
     "shell.execute_reply": "2023-02-19T14:15:18.953741Z"
    },
    "papermill": {
     "duration": 0.061116,
     "end_time": "2023-02-19T14:15:18.958256",
     "exception": false,
     "start_time": "2023-02-19T14:15:18.897140",
     "status": "completed"
    },
    "tags": []
   },
   "outputs": [],
   "source": [
    "#Predicting the values using the model built.\n",
    "\n",
    "y_train_pred=res.predict(X_train_sm)"
   ]
  },
  {
   "cell_type": "code",
   "execution_count": 58,
   "id": "916ba3ae",
   "metadata": {
    "execution": {
     "iopub.execute_input": "2023-02-19T14:15:19.085032Z",
     "iopub.status.busy": "2023-02-19T14:15:19.083797Z",
     "iopub.status.idle": "2023-02-19T14:15:19.093303Z",
     "shell.execute_reply": "2023-02-19T14:15:19.092134Z"
    },
    "papermill": {
     "duration": 0.071145,
     "end_time": "2023-02-19T14:15:19.095611",
     "exception": false,
     "start_time": "2023-02-19T14:15:19.024466",
     "status": "completed"
    },
    "tags": []
   },
   "outputs": [
    {
     "data": {
      "text/plain": [
       "1880    0.993900\n",
       "4067    0.596744\n",
       "5059    0.540680\n",
       "1833    0.346438\n",
       "4133    0.909020\n",
       "          ...   \n",
       "98      0.410338\n",
       "4654    0.256784\n",
       "7011    0.739842\n",
       "8126    0.528473\n",
       "6643    0.735312\n",
       "Length: 5197, dtype: float64"
      ]
     },
     "execution_count": 58,
     "metadata": {},
     "output_type": "execute_result"
    }
   ],
   "source": [
    "y_train_pred"
   ]
  },
  {
   "cell_type": "code",
   "execution_count": 59,
   "id": "d101e5cd",
   "metadata": {
    "execution": {
     "iopub.execute_input": "2023-02-19T14:15:19.176941Z",
     "iopub.status.busy": "2023-02-19T14:15:19.176537Z",
     "iopub.status.idle": "2023-02-19T14:15:19.182077Z",
     "shell.execute_reply": "2023-02-19T14:15:19.180866Z"
    },
    "papermill": {
     "duration": 0.049225,
     "end_time": "2023-02-19T14:15:19.184706",
     "exception": false,
     "start_time": "2023-02-19T14:15:19.135481",
     "status": "completed"
    },
    "tags": []
   },
   "outputs": [],
   "source": [
    "y_train_pred=y_train_pred.values.reshape(-1)"
   ]
  },
  {
   "cell_type": "code",
   "execution_count": 60,
   "id": "f7060ca0",
   "metadata": {
    "execution": {
     "iopub.execute_input": "2023-02-19T14:15:19.268111Z",
     "iopub.status.busy": "2023-02-19T14:15:19.267676Z",
     "iopub.status.idle": "2023-02-19T14:15:19.387813Z",
     "shell.execute_reply": "2023-02-19T14:15:19.386589Z"
    },
    "papermill": {
     "duration": 0.164989,
     "end_time": "2023-02-19T14:15:19.391017",
     "exception": false,
     "start_time": "2023-02-19T14:15:19.226028",
     "status": "completed"
    },
    "tags": []
   },
   "outputs": [
    {
     "data": {
      "text/html": [
       "<div>\n",
       "<style scoped>\n",
       "    .dataframe tbody tr th:only-of-type {\n",
       "        vertical-align: middle;\n",
       "    }\n",
       "\n",
       "    .dataframe tbody tr th {\n",
       "        vertical-align: top;\n",
       "    }\n",
       "\n",
       "    .dataframe thead th {\n",
       "        text-align: right;\n",
       "    }\n",
       "</style>\n",
       "<table border=\"1\" class=\"dataframe\">\n",
       "  <thead>\n",
       "    <tr style=\"text-align: right;\">\n",
       "      <th></th>\n",
       "      <th>features</th>\n",
       "      <th>VIF</th>\n",
       "    </tr>\n",
       "  </thead>\n",
       "  <tbody>\n",
       "    <tr>\n",
       "      <th>5</th>\n",
       "      <td>HomePlanet_Europa</td>\n",
       "      <td>4.37</td>\n",
       "    </tr>\n",
       "    <tr>\n",
       "      <th>8</th>\n",
       "      <td>Destination_TRAPPIST-1e</td>\n",
       "      <td>2.72</td>\n",
       "    </tr>\n",
       "    <tr>\n",
       "      <th>0</th>\n",
       "      <td>CryoSleep</td>\n",
       "      <td>2.33</td>\n",
       "    </tr>\n",
       "    <tr>\n",
       "      <th>10</th>\n",
       "      <td>Deck_B</td>\n",
       "      <td>2.31</td>\n",
       "    </tr>\n",
       "    <tr>\n",
       "      <th>13</th>\n",
       "      <td>Deck_G</td>\n",
       "      <td>2.25</td>\n",
       "    </tr>\n",
       "    <tr>\n",
       "      <th>11</th>\n",
       "      <td>Deck_C</td>\n",
       "      <td>2.24</td>\n",
       "    </tr>\n",
       "    <tr>\n",
       "      <th>9</th>\n",
       "      <td>Side_S</td>\n",
       "      <td>1.83</td>\n",
       "    </tr>\n",
       "    <tr>\n",
       "      <th>6</th>\n",
       "      <td>HomePlanet_Mars</td>\n",
       "      <td>1.82</td>\n",
       "    </tr>\n",
       "    <tr>\n",
       "      <th>2</th>\n",
       "      <td>FoodCourt</td>\n",
       "      <td>1.28</td>\n",
       "    </tr>\n",
       "    <tr>\n",
       "      <th>7</th>\n",
       "      <td>Destination_PSO J318.5-22</td>\n",
       "      <td>1.27</td>\n",
       "    </tr>\n",
       "    <tr>\n",
       "      <th>12</th>\n",
       "      <td>Deck_E</td>\n",
       "      <td>1.21</td>\n",
       "    </tr>\n",
       "    <tr>\n",
       "      <th>4</th>\n",
       "      <td>VRDeck</td>\n",
       "      <td>1.17</td>\n",
       "    </tr>\n",
       "    <tr>\n",
       "      <th>1</th>\n",
       "      <td>RoomService</td>\n",
       "      <td>1.15</td>\n",
       "    </tr>\n",
       "    <tr>\n",
       "      <th>3</th>\n",
       "      <td>Spa</td>\n",
       "      <td>1.15</td>\n",
       "    </tr>\n",
       "  </tbody>\n",
       "</table>\n",
       "</div>"
      ],
      "text/plain": [
       "                     features   VIF\n",
       "5           HomePlanet_Europa  4.37\n",
       "8     Destination_TRAPPIST-1e  2.72\n",
       "0                   CryoSleep  2.33\n",
       "10                     Deck_B  2.31\n",
       "13                     Deck_G  2.25\n",
       "11                     Deck_C  2.24\n",
       "9                      Side_S  1.83\n",
       "6             HomePlanet_Mars  1.82\n",
       "2                   FoodCourt  1.28\n",
       "7   Destination_PSO J318.5-22  1.27\n",
       "12                     Deck_E  1.21\n",
       "4                      VRDeck  1.17\n",
       "1                 RoomService  1.15\n",
       "3                         Spa  1.15"
      ]
     },
     "execution_count": 60,
     "metadata": {},
     "output_type": "execute_result"
    }
   ],
   "source": [
    "#Checking the VIF\n",
    "\n",
    "from statsmodels.stats.outliers_influence import variance_inflation_factor\n",
    "vif=pd.DataFrame()\n",
    "vif['features']=X_train.columns\n",
    "vif['VIF']=[variance_inflation_factor(X_train.values,i) for i in range(X_train.shape[1])]\n",
    "vif['VIF']=round(vif[\"VIF\"],2)\n",
    "vif = vif.sort_values(by = \"VIF\", ascending = False)\n",
    "vif           "
   ]
  },
  {
   "cell_type": "code",
   "execution_count": 61,
   "id": "bffc37a6",
   "metadata": {
    "execution": {
     "iopub.execute_input": "2023-02-19T14:15:19.527034Z",
     "iopub.status.busy": "2023-02-19T14:15:19.526517Z",
     "iopub.status.idle": "2023-02-19T14:15:19.533870Z",
     "shell.execute_reply": "2023-02-19T14:15:19.532676Z"
    },
    "papermill": {
     "duration": 0.078047,
     "end_time": "2023-02-19T14:15:19.536593",
     "exception": false,
     "start_time": "2023-02-19T14:15:19.458546",
     "status": "completed"
    },
    "tags": []
   },
   "outputs": [],
   "source": [
    "#Creating a new DataFrame with train values and the predicted values\n",
    "\n",
    "y_train_pred_final=pd.DataFrame({'Transported':y_train.values,'Trans_pred':y_train_pred})"
   ]
  },
  {
   "cell_type": "code",
   "execution_count": 62,
   "id": "17af126b",
   "metadata": {
    "execution": {
     "iopub.execute_input": "2023-02-19T14:15:19.625003Z",
     "iopub.status.busy": "2023-02-19T14:15:19.624245Z",
     "iopub.status.idle": "2023-02-19T14:15:19.633319Z",
     "shell.execute_reply": "2023-02-19T14:15:19.632394Z"
    },
    "papermill": {
     "duration": 0.05306,
     "end_time": "2023-02-19T14:15:19.635845",
     "exception": false,
     "start_time": "2023-02-19T14:15:19.582785",
     "status": "completed"
    },
    "tags": []
   },
   "outputs": [],
   "source": [
    "#Assigning the predicted values as 1 with predicted value more than 0.47\n",
    "\n",
    "y_train_pred_final['Predicted']=y_train_pred_final.Trans_pred.map(lambda x: 1 if x>0.47 else 0)"
   ]
  },
  {
   "cell_type": "code",
   "execution_count": 63,
   "id": "ca4199ad",
   "metadata": {
    "execution": {
     "iopub.execute_input": "2023-02-19T14:15:19.718012Z",
     "iopub.status.busy": "2023-02-19T14:15:19.717242Z",
     "iopub.status.idle": "2023-02-19T14:15:19.730765Z",
     "shell.execute_reply": "2023-02-19T14:15:19.729401Z"
    },
    "papermill": {
     "duration": 0.057301,
     "end_time": "2023-02-19T14:15:19.733272",
     "exception": false,
     "start_time": "2023-02-19T14:15:19.675971",
     "status": "completed"
    },
    "tags": []
   },
   "outputs": [
    {
     "data": {
      "text/html": [
       "<div>\n",
       "<style scoped>\n",
       "    .dataframe tbody tr th:only-of-type {\n",
       "        vertical-align: middle;\n",
       "    }\n",
       "\n",
       "    .dataframe tbody tr th {\n",
       "        vertical-align: top;\n",
       "    }\n",
       "\n",
       "    .dataframe thead th {\n",
       "        text-align: right;\n",
       "    }\n",
       "</style>\n",
       "<table border=\"1\" class=\"dataframe\">\n",
       "  <thead>\n",
       "    <tr style=\"text-align: right;\">\n",
       "      <th></th>\n",
       "      <th>Transported</th>\n",
       "      <th>Trans_pred</th>\n",
       "      <th>Predicted</th>\n",
       "    </tr>\n",
       "  </thead>\n",
       "  <tbody>\n",
       "    <tr>\n",
       "      <th>0</th>\n",
       "      <td>1</td>\n",
       "      <td>0.993900</td>\n",
       "      <td>1</td>\n",
       "    </tr>\n",
       "    <tr>\n",
       "      <th>1</th>\n",
       "      <td>1</td>\n",
       "      <td>0.596744</td>\n",
       "      <td>1</td>\n",
       "    </tr>\n",
       "    <tr>\n",
       "      <th>2</th>\n",
       "      <td>0</td>\n",
       "      <td>0.540680</td>\n",
       "      <td>1</td>\n",
       "    </tr>\n",
       "    <tr>\n",
       "      <th>3</th>\n",
       "      <td>1</td>\n",
       "      <td>0.346438</td>\n",
       "      <td>0</td>\n",
       "    </tr>\n",
       "    <tr>\n",
       "      <th>4</th>\n",
       "      <td>1</td>\n",
       "      <td>0.909020</td>\n",
       "      <td>1</td>\n",
       "    </tr>\n",
       "    <tr>\n",
       "      <th>...</th>\n",
       "      <td>...</td>\n",
       "      <td>...</td>\n",
       "      <td>...</td>\n",
       "    </tr>\n",
       "    <tr>\n",
       "      <th>5192</th>\n",
       "      <td>0</td>\n",
       "      <td>0.410338</td>\n",
       "      <td>0</td>\n",
       "    </tr>\n",
       "    <tr>\n",
       "      <th>5193</th>\n",
       "      <td>0</td>\n",
       "      <td>0.256784</td>\n",
       "      <td>0</td>\n",
       "    </tr>\n",
       "    <tr>\n",
       "      <th>5194</th>\n",
       "      <td>1</td>\n",
       "      <td>0.739842</td>\n",
       "      <td>1</td>\n",
       "    </tr>\n",
       "    <tr>\n",
       "      <th>5195</th>\n",
       "      <td>0</td>\n",
       "      <td>0.528473</td>\n",
       "      <td>1</td>\n",
       "    </tr>\n",
       "    <tr>\n",
       "      <th>5196</th>\n",
       "      <td>1</td>\n",
       "      <td>0.735312</td>\n",
       "      <td>1</td>\n",
       "    </tr>\n",
       "  </tbody>\n",
       "</table>\n",
       "<p>5197 rows × 3 columns</p>\n",
       "</div>"
      ],
      "text/plain": [
       "      Transported  Trans_pred  Predicted\n",
       "0               1    0.993900          1\n",
       "1               1    0.596744          1\n",
       "2               0    0.540680          1\n",
       "3               1    0.346438          0\n",
       "4               1    0.909020          1\n",
       "...           ...         ...        ...\n",
       "5192            0    0.410338          0\n",
       "5193            0    0.256784          0\n",
       "5194            1    0.739842          1\n",
       "5195            0    0.528473          1\n",
       "5196            1    0.735312          1\n",
       "\n",
       "[5197 rows x 3 columns]"
      ]
     },
     "execution_count": 63,
     "metadata": {},
     "output_type": "execute_result"
    }
   ],
   "source": [
    "y_train_pred_final"
   ]
  },
  {
   "cell_type": "code",
   "execution_count": 64,
   "id": "f6e1797b",
   "metadata": {
    "execution": {
     "iopub.execute_input": "2023-02-19T14:15:19.816254Z",
     "iopub.status.busy": "2023-02-19T14:15:19.815226Z",
     "iopub.status.idle": "2023-02-19T14:15:19.823479Z",
     "shell.execute_reply": "2023-02-19T14:15:19.821889Z"
    },
    "papermill": {
     "duration": 0.05217,
     "end_time": "2023-02-19T14:15:19.825889",
     "exception": false,
     "start_time": "2023-02-19T14:15:19.773719",
     "status": "completed"
    },
    "tags": []
   },
   "outputs": [
    {
     "name": "stdout",
     "output_type": "stream",
     "text": [
      "0.7954589186068886\n"
     ]
    }
   ],
   "source": [
    "#Calculating Accuracy Score on train Dataset\n",
    "\n",
    "from sklearn import metrics\n",
    "print(metrics.accuracy_score(y_train_pred_final.Transported,y_train_pred_final.Predicted))"
   ]
  },
  {
   "cell_type": "markdown",
   "id": "f25aa8a6",
   "metadata": {
    "papermill": {
     "duration": 0.040078,
     "end_time": "2023-02-19T14:15:19.906290",
     "exception": false,
     "start_time": "2023-02-19T14:15:19.866212",
     "status": "completed"
    },
    "tags": []
   },
   "source": [
    "## *Test Dataset*"
   ]
  },
  {
   "cell_type": "code",
   "execution_count": 65,
   "id": "ddefd4c6",
   "metadata": {
    "execution": {
     "iopub.execute_input": "2023-02-19T14:15:19.988867Z",
     "iopub.status.busy": "2023-02-19T14:15:19.988451Z",
     "iopub.status.idle": "2023-02-19T14:15:20.009243Z",
     "shell.execute_reply": "2023-02-19T14:15:20.007994Z"
    },
    "papermill": {
     "duration": 0.064979,
     "end_time": "2023-02-19T14:15:20.011509",
     "exception": false,
     "start_time": "2023-02-19T14:15:19.946530",
     "status": "completed"
    },
    "tags": []
   },
   "outputs": [
    {
     "data": {
      "text/html": [
       "<div>\n",
       "<style scoped>\n",
       "    .dataframe tbody tr th:only-of-type {\n",
       "        vertical-align: middle;\n",
       "    }\n",
       "\n",
       "    .dataframe tbody tr th {\n",
       "        vertical-align: top;\n",
       "    }\n",
       "\n",
       "    .dataframe thead th {\n",
       "        text-align: right;\n",
       "    }\n",
       "</style>\n",
       "<table border=\"1\" class=\"dataframe\">\n",
       "  <thead>\n",
       "    <tr style=\"text-align: right;\">\n",
       "      <th></th>\n",
       "      <th>PassengerId</th>\n",
       "      <th>HomePlanet</th>\n",
       "      <th>CryoSleep</th>\n",
       "      <th>Cabin</th>\n",
       "      <th>Destination</th>\n",
       "      <th>Age</th>\n",
       "      <th>VIP</th>\n",
       "      <th>RoomService</th>\n",
       "      <th>FoodCourt</th>\n",
       "      <th>ShoppingMall</th>\n",
       "      <th>Spa</th>\n",
       "      <th>VRDeck</th>\n",
       "      <th>Name</th>\n",
       "    </tr>\n",
       "  </thead>\n",
       "  <tbody>\n",
       "    <tr>\n",
       "      <th>0</th>\n",
       "      <td>0013_01</td>\n",
       "      <td>Earth</td>\n",
       "      <td>True</td>\n",
       "      <td>G/3/S</td>\n",
       "      <td>TRAPPIST-1e</td>\n",
       "      <td>27.0</td>\n",
       "      <td>False</td>\n",
       "      <td>0.0</td>\n",
       "      <td>0.0</td>\n",
       "      <td>0.0</td>\n",
       "      <td>0.0</td>\n",
       "      <td>0.0</td>\n",
       "      <td>Nelly Carsoning</td>\n",
       "    </tr>\n",
       "    <tr>\n",
       "      <th>1</th>\n",
       "      <td>0018_01</td>\n",
       "      <td>Earth</td>\n",
       "      <td>False</td>\n",
       "      <td>F/4/S</td>\n",
       "      <td>TRAPPIST-1e</td>\n",
       "      <td>19.0</td>\n",
       "      <td>False</td>\n",
       "      <td>0.0</td>\n",
       "      <td>9.0</td>\n",
       "      <td>0.0</td>\n",
       "      <td>2823.0</td>\n",
       "      <td>0.0</td>\n",
       "      <td>Lerome Peckers</td>\n",
       "    </tr>\n",
       "    <tr>\n",
       "      <th>2</th>\n",
       "      <td>0019_01</td>\n",
       "      <td>Europa</td>\n",
       "      <td>True</td>\n",
       "      <td>C/0/S</td>\n",
       "      <td>55 Cancri e</td>\n",
       "      <td>31.0</td>\n",
       "      <td>False</td>\n",
       "      <td>0.0</td>\n",
       "      <td>0.0</td>\n",
       "      <td>0.0</td>\n",
       "      <td>0.0</td>\n",
       "      <td>0.0</td>\n",
       "      <td>Sabih Unhearfus</td>\n",
       "    </tr>\n",
       "    <tr>\n",
       "      <th>3</th>\n",
       "      <td>0021_01</td>\n",
       "      <td>Europa</td>\n",
       "      <td>False</td>\n",
       "      <td>C/1/S</td>\n",
       "      <td>TRAPPIST-1e</td>\n",
       "      <td>38.0</td>\n",
       "      <td>False</td>\n",
       "      <td>0.0</td>\n",
       "      <td>6652.0</td>\n",
       "      <td>0.0</td>\n",
       "      <td>181.0</td>\n",
       "      <td>585.0</td>\n",
       "      <td>Meratz Caltilter</td>\n",
       "    </tr>\n",
       "    <tr>\n",
       "      <th>4</th>\n",
       "      <td>0023_01</td>\n",
       "      <td>Earth</td>\n",
       "      <td>False</td>\n",
       "      <td>F/5/S</td>\n",
       "      <td>TRAPPIST-1e</td>\n",
       "      <td>20.0</td>\n",
       "      <td>False</td>\n",
       "      <td>10.0</td>\n",
       "      <td>0.0</td>\n",
       "      <td>635.0</td>\n",
       "      <td>0.0</td>\n",
       "      <td>0.0</td>\n",
       "      <td>Brence Harperez</td>\n",
       "    </tr>\n",
       "  </tbody>\n",
       "</table>\n",
       "</div>"
      ],
      "text/plain": [
       "  PassengerId HomePlanet CryoSleep  Cabin  Destination   Age    VIP  \\\n",
       "0     0013_01      Earth      True  G/3/S  TRAPPIST-1e  27.0  False   \n",
       "1     0018_01      Earth     False  F/4/S  TRAPPIST-1e  19.0  False   \n",
       "2     0019_01     Europa      True  C/0/S  55 Cancri e  31.0  False   \n",
       "3     0021_01     Europa     False  C/1/S  TRAPPIST-1e  38.0  False   \n",
       "4     0023_01      Earth     False  F/5/S  TRAPPIST-1e  20.0  False   \n",
       "\n",
       "   RoomService  FoodCourt  ShoppingMall     Spa  VRDeck              Name  \n",
       "0          0.0        0.0           0.0     0.0     0.0   Nelly Carsoning  \n",
       "1          0.0        9.0           0.0  2823.0     0.0    Lerome Peckers  \n",
       "2          0.0        0.0           0.0     0.0     0.0   Sabih Unhearfus  \n",
       "3          0.0     6652.0           0.0   181.0   585.0  Meratz Caltilter  \n",
       "4         10.0        0.0         635.0     0.0     0.0   Brence Harperez  "
      ]
     },
     "execution_count": 65,
     "metadata": {},
     "output_type": "execute_result"
    }
   ],
   "source": [
    "#Checking Test Datset.\n",
    "\n",
    "test.head()"
   ]
  },
  {
   "cell_type": "code",
   "execution_count": 66,
   "id": "7020b82e",
   "metadata": {
    "execution": {
     "iopub.execute_input": "2023-02-19T14:15:20.095521Z",
     "iopub.status.busy": "2023-02-19T14:15:20.094804Z",
     "iopub.status.idle": "2023-02-19T14:15:20.104715Z",
     "shell.execute_reply": "2023-02-19T14:15:20.103780Z"
    },
    "papermill": {
     "duration": 0.055267,
     "end_time": "2023-02-19T14:15:20.107234",
     "exception": false,
     "start_time": "2023-02-19T14:15:20.051967",
     "status": "completed"
    },
    "tags": []
   },
   "outputs": [
    {
     "data": {
      "text/plain": [
       "PassengerId       0\n",
       "HomePlanet       87\n",
       "CryoSleep        93\n",
       "Cabin           100\n",
       "Destination      92\n",
       "Age              91\n",
       "VIP              93\n",
       "RoomService      82\n",
       "FoodCourt       106\n",
       "ShoppingMall     98\n",
       "Spa             101\n",
       "VRDeck           80\n",
       "Name             94\n",
       "dtype: int64"
      ]
     },
     "execution_count": 66,
     "metadata": {},
     "output_type": "execute_result"
    }
   ],
   "source": [
    "#Checking for nulls in Test Dataset.\n",
    "\n",
    "test.isna().sum()"
   ]
  },
  {
   "cell_type": "code",
   "execution_count": 67,
   "id": "1f25fcd0",
   "metadata": {
    "execution": {
     "iopub.execute_input": "2023-02-19T14:15:20.192797Z",
     "iopub.status.busy": "2023-02-19T14:15:20.192061Z",
     "iopub.status.idle": "2023-02-19T14:15:20.202429Z",
     "shell.execute_reply": "2023-02-19T14:15:20.201400Z"
    },
    "papermill": {
     "duration": 0.056166,
     "end_time": "2023-02-19T14:15:20.205337",
     "exception": false,
     "start_time": "2023-02-19T14:15:20.149171",
     "status": "completed"
    },
    "tags": []
   },
   "outputs": [],
   "source": [
    "#Imputing the Categorical columns NaN's with mode.\n",
    "\n",
    "test.HomePlanet=test.HomePlanet.fillna(test.HomePlanet.mode()[0])\n",
    "test.Cabin=test.Cabin.fillna(test.Cabin.mode()[0])\n",
    "test.Destination=test.Destination.fillna(test.Destination.mode()[0])"
   ]
  },
  {
   "cell_type": "code",
   "execution_count": 68,
   "id": "8ca85c93",
   "metadata": {
    "execution": {
     "iopub.execute_input": "2023-02-19T14:15:20.290830Z",
     "iopub.status.busy": "2023-02-19T14:15:20.290114Z",
     "iopub.status.idle": "2023-02-19T14:15:20.306864Z",
     "shell.execute_reply": "2023-02-19T14:15:20.305332Z"
    },
    "papermill": {
     "duration": 0.062465,
     "end_time": "2023-02-19T14:15:20.309592",
     "exception": false,
     "start_time": "2023-02-19T14:15:20.247127",
     "status": "completed"
    },
    "tags": []
   },
   "outputs": [],
   "source": [
    "#Imputing Numerical columns NaN's with median.\n",
    "\n",
    "test.CryoSleep=test.CryoSleep.fillna(test.CryoSleep.median())\n",
    "test.Age=test.Age.fillna(test.Age.median())\n",
    "test.VIP=test.VIP.fillna(test.VIP.median())\n",
    "test.RoomService=test.RoomService.fillna(test.RoomService.median())\n",
    "test.FoodCourt=test.FoodCourt.fillna(test.FoodCourt.median())\n",
    "test.ShoppingMall=test.ShoppingMall.fillna(test.ShoppingMall.median())\n",
    "test.Spa=test.Spa.fillna(test.Spa.median())\n",
    "test.VRDeck=test.VRDeck.fillna(test.VRDeck.median())"
   ]
  },
  {
   "cell_type": "code",
   "execution_count": 69,
   "id": "aed88ecd",
   "metadata": {
    "execution": {
     "iopub.execute_input": "2023-02-19T14:15:20.394318Z",
     "iopub.status.busy": "2023-02-19T14:15:20.393860Z",
     "iopub.status.idle": "2023-02-19T14:15:20.406220Z",
     "shell.execute_reply": "2023-02-19T14:15:20.404887Z"
    },
    "papermill": {
     "duration": 0.05786,
     "end_time": "2023-02-19T14:15:20.408939",
     "exception": false,
     "start_time": "2023-02-19T14:15:20.351079",
     "status": "completed"
    },
    "tags": []
   },
   "outputs": [
    {
     "data": {
      "text/plain": [
       "PassengerId      0\n",
       "HomePlanet       0\n",
       "CryoSleep        0\n",
       "Cabin            0\n",
       "Destination      0\n",
       "Age              0\n",
       "VIP              0\n",
       "RoomService      0\n",
       "FoodCourt        0\n",
       "ShoppingMall     0\n",
       "Spa              0\n",
       "VRDeck           0\n",
       "Name            94\n",
       "dtype: int64"
      ]
     },
     "execution_count": 69,
     "metadata": {},
     "output_type": "execute_result"
    }
   ],
   "source": [
    "#Checking Nulls again in test dataset.\n",
    "test.isna().sum()"
   ]
  },
  {
   "cell_type": "code",
   "execution_count": 70,
   "id": "051766d4",
   "metadata": {
    "execution": {
     "iopub.execute_input": "2023-02-19T14:15:20.494895Z",
     "iopub.status.busy": "2023-02-19T14:15:20.494170Z",
     "iopub.status.idle": "2023-02-19T14:15:20.500470Z",
     "shell.execute_reply": "2023-02-19T14:15:20.499591Z"
    },
    "papermill": {
     "duration": 0.052433,
     "end_time": "2023-02-19T14:15:20.502795",
     "exception": false,
     "start_time": "2023-02-19T14:15:20.450362",
     "status": "completed"
    },
    "tags": []
   },
   "outputs": [],
   "source": [
    "#Dropping the rows with empty Name column.\n",
    "test=test.drop(columns=['Name'],axis=1)"
   ]
  },
  {
   "cell_type": "code",
   "execution_count": 71,
   "id": "6895fa53",
   "metadata": {
    "execution": {
     "iopub.execute_input": "2023-02-19T14:15:20.589634Z",
     "iopub.status.busy": "2023-02-19T14:15:20.588834Z",
     "iopub.status.idle": "2023-02-19T14:15:20.609382Z",
     "shell.execute_reply": "2023-02-19T14:15:20.608163Z"
    },
    "papermill": {
     "duration": 0.067315,
     "end_time": "2023-02-19T14:15:20.612373",
     "exception": false,
     "start_time": "2023-02-19T14:15:20.545058",
     "status": "completed"
    },
    "tags": []
   },
   "outputs": [
    {
     "data": {
      "text/html": [
       "<div>\n",
       "<style scoped>\n",
       "    .dataframe tbody tr th:only-of-type {\n",
       "        vertical-align: middle;\n",
       "    }\n",
       "\n",
       "    .dataframe tbody tr th {\n",
       "        vertical-align: top;\n",
       "    }\n",
       "\n",
       "    .dataframe thead th {\n",
       "        text-align: right;\n",
       "    }\n",
       "</style>\n",
       "<table border=\"1\" class=\"dataframe\">\n",
       "  <thead>\n",
       "    <tr style=\"text-align: right;\">\n",
       "      <th></th>\n",
       "      <th>PassengerId</th>\n",
       "      <th>HomePlanet</th>\n",
       "      <th>CryoSleep</th>\n",
       "      <th>Cabin</th>\n",
       "      <th>Destination</th>\n",
       "      <th>Age</th>\n",
       "      <th>VIP</th>\n",
       "      <th>RoomService</th>\n",
       "      <th>FoodCourt</th>\n",
       "      <th>ShoppingMall</th>\n",
       "      <th>Spa</th>\n",
       "      <th>VRDeck</th>\n",
       "    </tr>\n",
       "  </thead>\n",
       "  <tbody>\n",
       "    <tr>\n",
       "      <th>0</th>\n",
       "      <td>0013_01</td>\n",
       "      <td>Earth</td>\n",
       "      <td>True</td>\n",
       "      <td>G/3/S</td>\n",
       "      <td>TRAPPIST-1e</td>\n",
       "      <td>27.0</td>\n",
       "      <td>False</td>\n",
       "      <td>0.0</td>\n",
       "      <td>0.0</td>\n",
       "      <td>0.0</td>\n",
       "      <td>0.0</td>\n",
       "      <td>0.0</td>\n",
       "    </tr>\n",
       "    <tr>\n",
       "      <th>1</th>\n",
       "      <td>0018_01</td>\n",
       "      <td>Earth</td>\n",
       "      <td>False</td>\n",
       "      <td>F/4/S</td>\n",
       "      <td>TRAPPIST-1e</td>\n",
       "      <td>19.0</td>\n",
       "      <td>False</td>\n",
       "      <td>0.0</td>\n",
       "      <td>9.0</td>\n",
       "      <td>0.0</td>\n",
       "      <td>2823.0</td>\n",
       "      <td>0.0</td>\n",
       "    </tr>\n",
       "    <tr>\n",
       "      <th>2</th>\n",
       "      <td>0019_01</td>\n",
       "      <td>Europa</td>\n",
       "      <td>True</td>\n",
       "      <td>C/0/S</td>\n",
       "      <td>55 Cancri e</td>\n",
       "      <td>31.0</td>\n",
       "      <td>False</td>\n",
       "      <td>0.0</td>\n",
       "      <td>0.0</td>\n",
       "      <td>0.0</td>\n",
       "      <td>0.0</td>\n",
       "      <td>0.0</td>\n",
       "    </tr>\n",
       "    <tr>\n",
       "      <th>3</th>\n",
       "      <td>0021_01</td>\n",
       "      <td>Europa</td>\n",
       "      <td>False</td>\n",
       "      <td>C/1/S</td>\n",
       "      <td>TRAPPIST-1e</td>\n",
       "      <td>38.0</td>\n",
       "      <td>False</td>\n",
       "      <td>0.0</td>\n",
       "      <td>6652.0</td>\n",
       "      <td>0.0</td>\n",
       "      <td>181.0</td>\n",
       "      <td>585.0</td>\n",
       "    </tr>\n",
       "    <tr>\n",
       "      <th>4</th>\n",
       "      <td>0023_01</td>\n",
       "      <td>Earth</td>\n",
       "      <td>False</td>\n",
       "      <td>F/5/S</td>\n",
       "      <td>TRAPPIST-1e</td>\n",
       "      <td>20.0</td>\n",
       "      <td>False</td>\n",
       "      <td>10.0</td>\n",
       "      <td>0.0</td>\n",
       "      <td>635.0</td>\n",
       "      <td>0.0</td>\n",
       "      <td>0.0</td>\n",
       "    </tr>\n",
       "  </tbody>\n",
       "</table>\n",
       "</div>"
      ],
      "text/plain": [
       "  PassengerId HomePlanet CryoSleep  Cabin  Destination   Age    VIP  \\\n",
       "0     0013_01      Earth      True  G/3/S  TRAPPIST-1e  27.0  False   \n",
       "1     0018_01      Earth     False  F/4/S  TRAPPIST-1e  19.0  False   \n",
       "2     0019_01     Europa      True  C/0/S  55 Cancri e  31.0  False   \n",
       "3     0021_01     Europa     False  C/1/S  TRAPPIST-1e  38.0  False   \n",
       "4     0023_01      Earth     False  F/5/S  TRAPPIST-1e  20.0  False   \n",
       "\n",
       "   RoomService  FoodCourt  ShoppingMall     Spa  VRDeck  \n",
       "0          0.0        0.0           0.0     0.0     0.0  \n",
       "1          0.0        9.0           0.0  2823.0     0.0  \n",
       "2          0.0        0.0           0.0     0.0     0.0  \n",
       "3          0.0     6652.0           0.0   181.0   585.0  \n",
       "4         10.0        0.0         635.0     0.0     0.0  "
      ]
     },
     "execution_count": 71,
     "metadata": {},
     "output_type": "execute_result"
    }
   ],
   "source": [
    "test.head()"
   ]
  },
  {
   "cell_type": "code",
   "execution_count": 72,
   "id": "caedb0ab",
   "metadata": {
    "execution": {
     "iopub.execute_input": "2023-02-19T14:15:20.697873Z",
     "iopub.status.busy": "2023-02-19T14:15:20.697491Z",
     "iopub.status.idle": "2023-02-19T14:15:20.704587Z",
     "shell.execute_reply": "2023-02-19T14:15:20.703582Z"
    },
    "papermill": {
     "duration": 0.053056,
     "end_time": "2023-02-19T14:15:20.706694",
     "exception": false,
     "start_time": "2023-02-19T14:15:20.653638",
     "status": "completed"
    },
    "tags": []
   },
   "outputs": [],
   "source": [
    "#Changing the dtype of CryoSleep and VIP from bool to int.\n",
    "\n",
    "test.CryoSleep=test.CryoSleep.astype(int)\n",
    "test.VIP=test.VIP.astype(int)"
   ]
  },
  {
   "cell_type": "code",
   "execution_count": 73,
   "id": "5bd8bc27",
   "metadata": {
    "execution": {
     "iopub.execute_input": "2023-02-19T14:15:20.792112Z",
     "iopub.status.busy": "2023-02-19T14:15:20.791412Z",
     "iopub.status.idle": "2023-02-19T14:15:20.810766Z",
     "shell.execute_reply": "2023-02-19T14:15:20.809337Z"
    },
    "papermill": {
     "duration": 0.065271,
     "end_time": "2023-02-19T14:15:20.813353",
     "exception": false,
     "start_time": "2023-02-19T14:15:20.748082",
     "status": "completed"
    },
    "tags": []
   },
   "outputs": [
    {
     "data": {
      "text/html": [
       "<div>\n",
       "<style scoped>\n",
       "    .dataframe tbody tr th:only-of-type {\n",
       "        vertical-align: middle;\n",
       "    }\n",
       "\n",
       "    .dataframe tbody tr th {\n",
       "        vertical-align: top;\n",
       "    }\n",
       "\n",
       "    .dataframe thead th {\n",
       "        text-align: right;\n",
       "    }\n",
       "</style>\n",
       "<table border=\"1\" class=\"dataframe\">\n",
       "  <thead>\n",
       "    <tr style=\"text-align: right;\">\n",
       "      <th></th>\n",
       "      <th>PassengerId</th>\n",
       "      <th>HomePlanet</th>\n",
       "      <th>CryoSleep</th>\n",
       "      <th>Cabin</th>\n",
       "      <th>Destination</th>\n",
       "      <th>Age</th>\n",
       "      <th>VIP</th>\n",
       "      <th>RoomService</th>\n",
       "      <th>FoodCourt</th>\n",
       "      <th>ShoppingMall</th>\n",
       "      <th>Spa</th>\n",
       "      <th>VRDeck</th>\n",
       "    </tr>\n",
       "  </thead>\n",
       "  <tbody>\n",
       "    <tr>\n",
       "      <th>0</th>\n",
       "      <td>0013_01</td>\n",
       "      <td>Earth</td>\n",
       "      <td>1</td>\n",
       "      <td>G/3/S</td>\n",
       "      <td>TRAPPIST-1e</td>\n",
       "      <td>27.0</td>\n",
       "      <td>0</td>\n",
       "      <td>0.0</td>\n",
       "      <td>0.0</td>\n",
       "      <td>0.0</td>\n",
       "      <td>0.0</td>\n",
       "      <td>0.0</td>\n",
       "    </tr>\n",
       "    <tr>\n",
       "      <th>1</th>\n",
       "      <td>0018_01</td>\n",
       "      <td>Earth</td>\n",
       "      <td>0</td>\n",
       "      <td>F/4/S</td>\n",
       "      <td>TRAPPIST-1e</td>\n",
       "      <td>19.0</td>\n",
       "      <td>0</td>\n",
       "      <td>0.0</td>\n",
       "      <td>9.0</td>\n",
       "      <td>0.0</td>\n",
       "      <td>2823.0</td>\n",
       "      <td>0.0</td>\n",
       "    </tr>\n",
       "    <tr>\n",
       "      <th>2</th>\n",
       "      <td>0019_01</td>\n",
       "      <td>Europa</td>\n",
       "      <td>1</td>\n",
       "      <td>C/0/S</td>\n",
       "      <td>55 Cancri e</td>\n",
       "      <td>31.0</td>\n",
       "      <td>0</td>\n",
       "      <td>0.0</td>\n",
       "      <td>0.0</td>\n",
       "      <td>0.0</td>\n",
       "      <td>0.0</td>\n",
       "      <td>0.0</td>\n",
       "    </tr>\n",
       "    <tr>\n",
       "      <th>3</th>\n",
       "      <td>0021_01</td>\n",
       "      <td>Europa</td>\n",
       "      <td>0</td>\n",
       "      <td>C/1/S</td>\n",
       "      <td>TRAPPIST-1e</td>\n",
       "      <td>38.0</td>\n",
       "      <td>0</td>\n",
       "      <td>0.0</td>\n",
       "      <td>6652.0</td>\n",
       "      <td>0.0</td>\n",
       "      <td>181.0</td>\n",
       "      <td>585.0</td>\n",
       "    </tr>\n",
       "    <tr>\n",
       "      <th>4</th>\n",
       "      <td>0023_01</td>\n",
       "      <td>Earth</td>\n",
       "      <td>0</td>\n",
       "      <td>F/5/S</td>\n",
       "      <td>TRAPPIST-1e</td>\n",
       "      <td>20.0</td>\n",
       "      <td>0</td>\n",
       "      <td>10.0</td>\n",
       "      <td>0.0</td>\n",
       "      <td>635.0</td>\n",
       "      <td>0.0</td>\n",
       "      <td>0.0</td>\n",
       "    </tr>\n",
       "  </tbody>\n",
       "</table>\n",
       "</div>"
      ],
      "text/plain": [
       "  PassengerId HomePlanet  CryoSleep  Cabin  Destination   Age  VIP  \\\n",
       "0     0013_01      Earth          1  G/3/S  TRAPPIST-1e  27.0    0   \n",
       "1     0018_01      Earth          0  F/4/S  TRAPPIST-1e  19.0    0   \n",
       "2     0019_01     Europa          1  C/0/S  55 Cancri e  31.0    0   \n",
       "3     0021_01     Europa          0  C/1/S  TRAPPIST-1e  38.0    0   \n",
       "4     0023_01      Earth          0  F/5/S  TRAPPIST-1e  20.0    0   \n",
       "\n",
       "   RoomService  FoodCourt  ShoppingMall     Spa  VRDeck  \n",
       "0          0.0        0.0           0.0     0.0     0.0  \n",
       "1          0.0        9.0           0.0  2823.0     0.0  \n",
       "2          0.0        0.0           0.0     0.0     0.0  \n",
       "3          0.0     6652.0           0.0   181.0   585.0  \n",
       "4         10.0        0.0         635.0     0.0     0.0  "
      ]
     },
     "execution_count": 73,
     "metadata": {},
     "output_type": "execute_result"
    }
   ],
   "source": [
    "test.head()"
   ]
  },
  {
   "cell_type": "code",
   "execution_count": 74,
   "id": "2a10a164",
   "metadata": {
    "execution": {
     "iopub.execute_input": "2023-02-19T14:15:20.900251Z",
     "iopub.status.busy": "2023-02-19T14:15:20.899452Z",
     "iopub.status.idle": "2023-02-19T14:15:20.930814Z",
     "shell.execute_reply": "2023-02-19T14:15:20.929616Z"
    },
    "papermill": {
     "duration": 0.077279,
     "end_time": "2023-02-19T14:15:20.933217",
     "exception": false,
     "start_time": "2023-02-19T14:15:20.855938",
     "status": "completed"
    },
    "tags": []
   },
   "outputs": [
    {
     "data": {
      "text/html": [
       "<div>\n",
       "<style scoped>\n",
       "    .dataframe tbody tr th:only-of-type {\n",
       "        vertical-align: middle;\n",
       "    }\n",
       "\n",
       "    .dataframe tbody tr th {\n",
       "        vertical-align: top;\n",
       "    }\n",
       "\n",
       "    .dataframe thead th {\n",
       "        text-align: right;\n",
       "    }\n",
       "</style>\n",
       "<table border=\"1\" class=\"dataframe\">\n",
       "  <thead>\n",
       "    <tr style=\"text-align: right;\">\n",
       "      <th></th>\n",
       "      <th>PassengerId</th>\n",
       "      <th>HomePlanet</th>\n",
       "      <th>CryoSleep</th>\n",
       "      <th>Cabin</th>\n",
       "      <th>Destination</th>\n",
       "      <th>Age</th>\n",
       "      <th>VIP</th>\n",
       "      <th>RoomService</th>\n",
       "      <th>FoodCourt</th>\n",
       "      <th>ShoppingMall</th>\n",
       "      <th>Spa</th>\n",
       "      <th>VRDeck</th>\n",
       "      <th>Deck</th>\n",
       "      <th>Num</th>\n",
       "      <th>Side</th>\n",
       "    </tr>\n",
       "  </thead>\n",
       "  <tbody>\n",
       "    <tr>\n",
       "      <th>0</th>\n",
       "      <td>0013_01</td>\n",
       "      <td>Earth</td>\n",
       "      <td>1</td>\n",
       "      <td>G/3/S</td>\n",
       "      <td>TRAPPIST-1e</td>\n",
       "      <td>27.0</td>\n",
       "      <td>0</td>\n",
       "      <td>0.0</td>\n",
       "      <td>0.0</td>\n",
       "      <td>0.0</td>\n",
       "      <td>0.0</td>\n",
       "      <td>0.0</td>\n",
       "      <td>G</td>\n",
       "      <td>3</td>\n",
       "      <td>S</td>\n",
       "    </tr>\n",
       "    <tr>\n",
       "      <th>1</th>\n",
       "      <td>0018_01</td>\n",
       "      <td>Earth</td>\n",
       "      <td>0</td>\n",
       "      <td>F/4/S</td>\n",
       "      <td>TRAPPIST-1e</td>\n",
       "      <td>19.0</td>\n",
       "      <td>0</td>\n",
       "      <td>0.0</td>\n",
       "      <td>9.0</td>\n",
       "      <td>0.0</td>\n",
       "      <td>2823.0</td>\n",
       "      <td>0.0</td>\n",
       "      <td>F</td>\n",
       "      <td>4</td>\n",
       "      <td>S</td>\n",
       "    </tr>\n",
       "    <tr>\n",
       "      <th>2</th>\n",
       "      <td>0019_01</td>\n",
       "      <td>Europa</td>\n",
       "      <td>1</td>\n",
       "      <td>C/0/S</td>\n",
       "      <td>55 Cancri e</td>\n",
       "      <td>31.0</td>\n",
       "      <td>0</td>\n",
       "      <td>0.0</td>\n",
       "      <td>0.0</td>\n",
       "      <td>0.0</td>\n",
       "      <td>0.0</td>\n",
       "      <td>0.0</td>\n",
       "      <td>C</td>\n",
       "      <td>0</td>\n",
       "      <td>S</td>\n",
       "    </tr>\n",
       "    <tr>\n",
       "      <th>3</th>\n",
       "      <td>0021_01</td>\n",
       "      <td>Europa</td>\n",
       "      <td>0</td>\n",
       "      <td>C/1/S</td>\n",
       "      <td>TRAPPIST-1e</td>\n",
       "      <td>38.0</td>\n",
       "      <td>0</td>\n",
       "      <td>0.0</td>\n",
       "      <td>6652.0</td>\n",
       "      <td>0.0</td>\n",
       "      <td>181.0</td>\n",
       "      <td>585.0</td>\n",
       "      <td>C</td>\n",
       "      <td>1</td>\n",
       "      <td>S</td>\n",
       "    </tr>\n",
       "    <tr>\n",
       "      <th>4</th>\n",
       "      <td>0023_01</td>\n",
       "      <td>Earth</td>\n",
       "      <td>0</td>\n",
       "      <td>F/5/S</td>\n",
       "      <td>TRAPPIST-1e</td>\n",
       "      <td>20.0</td>\n",
       "      <td>0</td>\n",
       "      <td>10.0</td>\n",
       "      <td>0.0</td>\n",
       "      <td>635.0</td>\n",
       "      <td>0.0</td>\n",
       "      <td>0.0</td>\n",
       "      <td>F</td>\n",
       "      <td>5</td>\n",
       "      <td>S</td>\n",
       "    </tr>\n",
       "  </tbody>\n",
       "</table>\n",
       "</div>"
      ],
      "text/plain": [
       "  PassengerId HomePlanet  CryoSleep  Cabin  Destination   Age  VIP  \\\n",
       "0     0013_01      Earth          1  G/3/S  TRAPPIST-1e  27.0    0   \n",
       "1     0018_01      Earth          0  F/4/S  TRAPPIST-1e  19.0    0   \n",
       "2     0019_01     Europa          1  C/0/S  55 Cancri e  31.0    0   \n",
       "3     0021_01     Europa          0  C/1/S  TRAPPIST-1e  38.0    0   \n",
       "4     0023_01      Earth          0  F/5/S  TRAPPIST-1e  20.0    0   \n",
       "\n",
       "   RoomService  FoodCourt  ShoppingMall     Spa  VRDeck Deck Num Side  \n",
       "0          0.0        0.0           0.0     0.0     0.0    G   3    S  \n",
       "1          0.0        9.0           0.0  2823.0     0.0    F   4    S  \n",
       "2          0.0        0.0           0.0     0.0     0.0    C   0    S  \n",
       "3          0.0     6652.0           0.0   181.0   585.0    C   1    S  \n",
       "4         10.0        0.0         635.0     0.0     0.0    F   5    S  "
      ]
     },
     "execution_count": 74,
     "metadata": {},
     "output_type": "execute_result"
    }
   ],
   "source": [
    "#Splitting the cabin column into 3 new columns.\n",
    "\n",
    "string=test.Cabin.str.split('/')\n",
    "test['Deck']=string.map(lambda string:string[0])\n",
    "test['Num']=string.map(lambda string:string[1])\n",
    "test['Side']=string.map(lambda string:string[2])\n",
    "test.head()"
   ]
  },
  {
   "cell_type": "code",
   "execution_count": 75,
   "id": "787e7f39",
   "metadata": {
    "execution": {
     "iopub.execute_input": "2023-02-19T14:15:21.021112Z",
     "iopub.status.busy": "2023-02-19T14:15:21.020317Z",
     "iopub.status.idle": "2023-02-19T14:15:21.028404Z",
     "shell.execute_reply": "2023-02-19T14:15:21.027128Z"
    },
    "papermill": {
     "duration": 0.055367,
     "end_time": "2023-02-19T14:15:21.031217",
     "exception": false,
     "start_time": "2023-02-19T14:15:20.975850",
     "status": "completed"
    },
    "tags": []
   },
   "outputs": [],
   "source": [
    "#Dropping unnecessary columns.\n",
    "\n",
    "test=test.drop(columns=['Cabin','Num'])"
   ]
  },
  {
   "cell_type": "code",
   "execution_count": 76,
   "id": "5c0827c9",
   "metadata": {
    "execution": {
     "iopub.execute_input": "2023-02-19T14:15:21.119352Z",
     "iopub.status.busy": "2023-02-19T14:15:21.118608Z",
     "iopub.status.idle": "2023-02-19T14:15:21.137328Z",
     "shell.execute_reply": "2023-02-19T14:15:21.136335Z"
    },
    "papermill": {
     "duration": 0.066194,
     "end_time": "2023-02-19T14:15:21.139937",
     "exception": false,
     "start_time": "2023-02-19T14:15:21.073743",
     "status": "completed"
    },
    "tags": []
   },
   "outputs": [
    {
     "data": {
      "text/html": [
       "<div>\n",
       "<style scoped>\n",
       "    .dataframe tbody tr th:only-of-type {\n",
       "        vertical-align: middle;\n",
       "    }\n",
       "\n",
       "    .dataframe tbody tr th {\n",
       "        vertical-align: top;\n",
       "    }\n",
       "\n",
       "    .dataframe thead th {\n",
       "        text-align: right;\n",
       "    }\n",
       "</style>\n",
       "<table border=\"1\" class=\"dataframe\">\n",
       "  <thead>\n",
       "    <tr style=\"text-align: right;\">\n",
       "      <th></th>\n",
       "      <th>PassengerId</th>\n",
       "      <th>HomePlanet</th>\n",
       "      <th>CryoSleep</th>\n",
       "      <th>Destination</th>\n",
       "      <th>Age</th>\n",
       "      <th>VIP</th>\n",
       "      <th>RoomService</th>\n",
       "      <th>FoodCourt</th>\n",
       "      <th>ShoppingMall</th>\n",
       "      <th>Spa</th>\n",
       "      <th>VRDeck</th>\n",
       "      <th>Deck</th>\n",
       "      <th>Side</th>\n",
       "    </tr>\n",
       "  </thead>\n",
       "  <tbody>\n",
       "    <tr>\n",
       "      <th>0</th>\n",
       "      <td>0013_01</td>\n",
       "      <td>Earth</td>\n",
       "      <td>1</td>\n",
       "      <td>TRAPPIST-1e</td>\n",
       "      <td>27.0</td>\n",
       "      <td>0</td>\n",
       "      <td>0.0</td>\n",
       "      <td>0.0</td>\n",
       "      <td>0.0</td>\n",
       "      <td>0.0</td>\n",
       "      <td>0.0</td>\n",
       "      <td>G</td>\n",
       "      <td>S</td>\n",
       "    </tr>\n",
       "    <tr>\n",
       "      <th>1</th>\n",
       "      <td>0018_01</td>\n",
       "      <td>Earth</td>\n",
       "      <td>0</td>\n",
       "      <td>TRAPPIST-1e</td>\n",
       "      <td>19.0</td>\n",
       "      <td>0</td>\n",
       "      <td>0.0</td>\n",
       "      <td>9.0</td>\n",
       "      <td>0.0</td>\n",
       "      <td>2823.0</td>\n",
       "      <td>0.0</td>\n",
       "      <td>F</td>\n",
       "      <td>S</td>\n",
       "    </tr>\n",
       "    <tr>\n",
       "      <th>2</th>\n",
       "      <td>0019_01</td>\n",
       "      <td>Europa</td>\n",
       "      <td>1</td>\n",
       "      <td>55 Cancri e</td>\n",
       "      <td>31.0</td>\n",
       "      <td>0</td>\n",
       "      <td>0.0</td>\n",
       "      <td>0.0</td>\n",
       "      <td>0.0</td>\n",
       "      <td>0.0</td>\n",
       "      <td>0.0</td>\n",
       "      <td>C</td>\n",
       "      <td>S</td>\n",
       "    </tr>\n",
       "    <tr>\n",
       "      <th>3</th>\n",
       "      <td>0021_01</td>\n",
       "      <td>Europa</td>\n",
       "      <td>0</td>\n",
       "      <td>TRAPPIST-1e</td>\n",
       "      <td>38.0</td>\n",
       "      <td>0</td>\n",
       "      <td>0.0</td>\n",
       "      <td>6652.0</td>\n",
       "      <td>0.0</td>\n",
       "      <td>181.0</td>\n",
       "      <td>585.0</td>\n",
       "      <td>C</td>\n",
       "      <td>S</td>\n",
       "    </tr>\n",
       "    <tr>\n",
       "      <th>4</th>\n",
       "      <td>0023_01</td>\n",
       "      <td>Earth</td>\n",
       "      <td>0</td>\n",
       "      <td>TRAPPIST-1e</td>\n",
       "      <td>20.0</td>\n",
       "      <td>0</td>\n",
       "      <td>10.0</td>\n",
       "      <td>0.0</td>\n",
       "      <td>635.0</td>\n",
       "      <td>0.0</td>\n",
       "      <td>0.0</td>\n",
       "      <td>F</td>\n",
       "      <td>S</td>\n",
       "    </tr>\n",
       "  </tbody>\n",
       "</table>\n",
       "</div>"
      ],
      "text/plain": [
       "  PassengerId HomePlanet  CryoSleep  Destination   Age  VIP  RoomService  \\\n",
       "0     0013_01      Earth          1  TRAPPIST-1e  27.0    0          0.0   \n",
       "1     0018_01      Earth          0  TRAPPIST-1e  19.0    0          0.0   \n",
       "2     0019_01     Europa          1  55 Cancri e  31.0    0          0.0   \n",
       "3     0021_01     Europa          0  TRAPPIST-1e  38.0    0          0.0   \n",
       "4     0023_01      Earth          0  TRAPPIST-1e  20.0    0         10.0   \n",
       "\n",
       "   FoodCourt  ShoppingMall     Spa  VRDeck Deck Side  \n",
       "0        0.0           0.0     0.0     0.0    G    S  \n",
       "1        9.0           0.0  2823.0     0.0    F    S  \n",
       "2        0.0           0.0     0.0     0.0    C    S  \n",
       "3     6652.0           0.0   181.0   585.0    C    S  \n",
       "4        0.0         635.0     0.0     0.0    F    S  "
      ]
     },
     "execution_count": 76,
     "metadata": {},
     "output_type": "execute_result"
    }
   ],
   "source": [
    "test.head()"
   ]
  },
  {
   "cell_type": "code",
   "execution_count": 77,
   "id": "1d7d1061",
   "metadata": {
    "execution": {
     "iopub.execute_input": "2023-02-19T14:15:21.229614Z",
     "iopub.status.busy": "2023-02-19T14:15:21.228844Z",
     "iopub.status.idle": "2023-02-19T14:15:21.237754Z",
     "shell.execute_reply": "2023-02-19T14:15:21.236813Z"
    },
    "papermill": {
     "duration": 0.056685,
     "end_time": "2023-02-19T14:15:21.240176",
     "exception": false,
     "start_time": "2023-02-19T14:15:21.183491",
     "status": "completed"
    },
    "tags": []
   },
   "outputs": [],
   "source": [
    "#Creating bins for Age Group and then dropping age column.\n",
    "\n",
    "bins=[0,18,40,100]\n",
    "labels=['teen','adult','senior']\n",
    "test['Age_group']=pd.cut(test.Age,bins=bins,labels=labels)\n",
    "test=test.drop('Age',axis=1)"
   ]
  },
  {
   "cell_type": "code",
   "execution_count": 78,
   "id": "7073a3bd",
   "metadata": {
    "execution": {
     "iopub.execute_input": "2023-02-19T14:15:21.332651Z",
     "iopub.status.busy": "2023-02-19T14:15:21.331925Z",
     "iopub.status.idle": "2023-02-19T14:15:21.351001Z",
     "shell.execute_reply": "2023-02-19T14:15:21.349853Z"
    },
    "papermill": {
     "duration": 0.070742,
     "end_time": "2023-02-19T14:15:21.353739",
     "exception": false,
     "start_time": "2023-02-19T14:15:21.282997",
     "status": "completed"
    },
    "tags": []
   },
   "outputs": [
    {
     "data": {
      "text/html": [
       "<div>\n",
       "<style scoped>\n",
       "    .dataframe tbody tr th:only-of-type {\n",
       "        vertical-align: middle;\n",
       "    }\n",
       "\n",
       "    .dataframe tbody tr th {\n",
       "        vertical-align: top;\n",
       "    }\n",
       "\n",
       "    .dataframe thead th {\n",
       "        text-align: right;\n",
       "    }\n",
       "</style>\n",
       "<table border=\"1\" class=\"dataframe\">\n",
       "  <thead>\n",
       "    <tr style=\"text-align: right;\">\n",
       "      <th></th>\n",
       "      <th>PassengerId</th>\n",
       "      <th>HomePlanet</th>\n",
       "      <th>CryoSleep</th>\n",
       "      <th>Destination</th>\n",
       "      <th>VIP</th>\n",
       "      <th>RoomService</th>\n",
       "      <th>FoodCourt</th>\n",
       "      <th>ShoppingMall</th>\n",
       "      <th>Spa</th>\n",
       "      <th>VRDeck</th>\n",
       "      <th>Deck</th>\n",
       "      <th>Side</th>\n",
       "      <th>Age_group</th>\n",
       "    </tr>\n",
       "  </thead>\n",
       "  <tbody>\n",
       "    <tr>\n",
       "      <th>0</th>\n",
       "      <td>0013_01</td>\n",
       "      <td>Earth</td>\n",
       "      <td>1</td>\n",
       "      <td>TRAPPIST-1e</td>\n",
       "      <td>0</td>\n",
       "      <td>0.0</td>\n",
       "      <td>0.0</td>\n",
       "      <td>0.0</td>\n",
       "      <td>0.0</td>\n",
       "      <td>0.0</td>\n",
       "      <td>G</td>\n",
       "      <td>S</td>\n",
       "      <td>adult</td>\n",
       "    </tr>\n",
       "    <tr>\n",
       "      <th>1</th>\n",
       "      <td>0018_01</td>\n",
       "      <td>Earth</td>\n",
       "      <td>0</td>\n",
       "      <td>TRAPPIST-1e</td>\n",
       "      <td>0</td>\n",
       "      <td>0.0</td>\n",
       "      <td>9.0</td>\n",
       "      <td>0.0</td>\n",
       "      <td>2823.0</td>\n",
       "      <td>0.0</td>\n",
       "      <td>F</td>\n",
       "      <td>S</td>\n",
       "      <td>adult</td>\n",
       "    </tr>\n",
       "    <tr>\n",
       "      <th>2</th>\n",
       "      <td>0019_01</td>\n",
       "      <td>Europa</td>\n",
       "      <td>1</td>\n",
       "      <td>55 Cancri e</td>\n",
       "      <td>0</td>\n",
       "      <td>0.0</td>\n",
       "      <td>0.0</td>\n",
       "      <td>0.0</td>\n",
       "      <td>0.0</td>\n",
       "      <td>0.0</td>\n",
       "      <td>C</td>\n",
       "      <td>S</td>\n",
       "      <td>adult</td>\n",
       "    </tr>\n",
       "    <tr>\n",
       "      <th>3</th>\n",
       "      <td>0021_01</td>\n",
       "      <td>Europa</td>\n",
       "      <td>0</td>\n",
       "      <td>TRAPPIST-1e</td>\n",
       "      <td>0</td>\n",
       "      <td>0.0</td>\n",
       "      <td>6652.0</td>\n",
       "      <td>0.0</td>\n",
       "      <td>181.0</td>\n",
       "      <td>585.0</td>\n",
       "      <td>C</td>\n",
       "      <td>S</td>\n",
       "      <td>adult</td>\n",
       "    </tr>\n",
       "    <tr>\n",
       "      <th>4</th>\n",
       "      <td>0023_01</td>\n",
       "      <td>Earth</td>\n",
       "      <td>0</td>\n",
       "      <td>TRAPPIST-1e</td>\n",
       "      <td>0</td>\n",
       "      <td>10.0</td>\n",
       "      <td>0.0</td>\n",
       "      <td>635.0</td>\n",
       "      <td>0.0</td>\n",
       "      <td>0.0</td>\n",
       "      <td>F</td>\n",
       "      <td>S</td>\n",
       "      <td>adult</td>\n",
       "    </tr>\n",
       "  </tbody>\n",
       "</table>\n",
       "</div>"
      ],
      "text/plain": [
       "  PassengerId HomePlanet  CryoSleep  Destination  VIP  RoomService  FoodCourt  \\\n",
       "0     0013_01      Earth          1  TRAPPIST-1e    0          0.0        0.0   \n",
       "1     0018_01      Earth          0  TRAPPIST-1e    0          0.0        9.0   \n",
       "2     0019_01     Europa          1  55 Cancri e    0          0.0        0.0   \n",
       "3     0021_01     Europa          0  TRAPPIST-1e    0          0.0     6652.0   \n",
       "4     0023_01      Earth          0  TRAPPIST-1e    0         10.0        0.0   \n",
       "\n",
       "   ShoppingMall     Spa  VRDeck Deck Side Age_group  \n",
       "0           0.0     0.0     0.0    G    S     adult  \n",
       "1           0.0  2823.0     0.0    F    S     adult  \n",
       "2           0.0     0.0     0.0    C    S     adult  \n",
       "3           0.0   181.0   585.0    C    S     adult  \n",
       "4         635.0     0.0     0.0    F    S     adult  "
      ]
     },
     "execution_count": 78,
     "metadata": {},
     "output_type": "execute_result"
    }
   ],
   "source": [
    "test.head()"
   ]
  },
  {
   "cell_type": "code",
   "execution_count": 79,
   "id": "0fb6d1ae",
   "metadata": {
    "execution": {
     "iopub.execute_input": "2023-02-19T14:15:21.446235Z",
     "iopub.status.busy": "2023-02-19T14:15:21.444892Z",
     "iopub.status.idle": "2023-02-19T14:15:21.460335Z",
     "shell.execute_reply": "2023-02-19T14:15:21.459128Z"
    },
    "papermill": {
     "duration": 0.06521,
     "end_time": "2023-02-19T14:15:21.463298",
     "exception": false,
     "start_time": "2023-02-19T14:15:21.398088",
     "status": "completed"
    },
    "tags": []
   },
   "outputs": [],
   "source": [
    "#Creating dummy variables for the categorical columns.\n",
    "\n",
    "dummy2=pd.get_dummies(test[['HomePlanet','Destination','Age_group','Side','Deck']],drop_first=True)\n",
    "test=test.drop(columns=['HomePlanet','Destination','Age_group','Side','Deck'],axis=1)"
   ]
  },
  {
   "cell_type": "code",
   "execution_count": 80,
   "id": "c25134c5",
   "metadata": {
    "execution": {
     "iopub.execute_input": "2023-02-19T14:15:21.550859Z",
     "iopub.status.busy": "2023-02-19T14:15:21.550457Z",
     "iopub.status.idle": "2023-02-19T14:15:21.556312Z",
     "shell.execute_reply": "2023-02-19T14:15:21.555320Z"
    },
    "papermill": {
     "duration": 0.05227,
     "end_time": "2023-02-19T14:15:21.558527",
     "exception": false,
     "start_time": "2023-02-19T14:15:21.506257",
     "status": "completed"
    },
    "tags": []
   },
   "outputs": [],
   "source": [
    "#Concatinating the dummy variables df with test dataset.\n",
    "\n",
    "test=pd.concat([test,dummy2],axis=1)"
   ]
  },
  {
   "cell_type": "code",
   "execution_count": 81,
   "id": "c2c78500",
   "metadata": {
    "execution": {
     "iopub.execute_input": "2023-02-19T14:15:21.648320Z",
     "iopub.status.busy": "2023-02-19T14:15:21.647084Z",
     "iopub.status.idle": "2023-02-19T14:15:21.669921Z",
     "shell.execute_reply": "2023-02-19T14:15:21.668735Z"
    },
    "papermill": {
     "duration": 0.07045,
     "end_time": "2023-02-19T14:15:21.672513",
     "exception": false,
     "start_time": "2023-02-19T14:15:21.602063",
     "status": "completed"
    },
    "tags": []
   },
   "outputs": [
    {
     "data": {
      "text/html": [
       "<div>\n",
       "<style scoped>\n",
       "    .dataframe tbody tr th:only-of-type {\n",
       "        vertical-align: middle;\n",
       "    }\n",
       "\n",
       "    .dataframe tbody tr th {\n",
       "        vertical-align: top;\n",
       "    }\n",
       "\n",
       "    .dataframe thead th {\n",
       "        text-align: right;\n",
       "    }\n",
       "</style>\n",
       "<table border=\"1\" class=\"dataframe\">\n",
       "  <thead>\n",
       "    <tr style=\"text-align: right;\">\n",
       "      <th></th>\n",
       "      <th>PassengerId</th>\n",
       "      <th>CryoSleep</th>\n",
       "      <th>VIP</th>\n",
       "      <th>RoomService</th>\n",
       "      <th>FoodCourt</th>\n",
       "      <th>ShoppingMall</th>\n",
       "      <th>Spa</th>\n",
       "      <th>VRDeck</th>\n",
       "      <th>HomePlanet_Europa</th>\n",
       "      <th>HomePlanet_Mars</th>\n",
       "      <th>...</th>\n",
       "      <th>Age_group_adult</th>\n",
       "      <th>Age_group_senior</th>\n",
       "      <th>Side_S</th>\n",
       "      <th>Deck_B</th>\n",
       "      <th>Deck_C</th>\n",
       "      <th>Deck_D</th>\n",
       "      <th>Deck_E</th>\n",
       "      <th>Deck_F</th>\n",
       "      <th>Deck_G</th>\n",
       "      <th>Deck_T</th>\n",
       "    </tr>\n",
       "  </thead>\n",
       "  <tbody>\n",
       "    <tr>\n",
       "      <th>0</th>\n",
       "      <td>0013_01</td>\n",
       "      <td>1</td>\n",
       "      <td>0</td>\n",
       "      <td>0.0</td>\n",
       "      <td>0.0</td>\n",
       "      <td>0.0</td>\n",
       "      <td>0.0</td>\n",
       "      <td>0.0</td>\n",
       "      <td>0</td>\n",
       "      <td>0</td>\n",
       "      <td>...</td>\n",
       "      <td>1</td>\n",
       "      <td>0</td>\n",
       "      <td>1</td>\n",
       "      <td>0</td>\n",
       "      <td>0</td>\n",
       "      <td>0</td>\n",
       "      <td>0</td>\n",
       "      <td>0</td>\n",
       "      <td>1</td>\n",
       "      <td>0</td>\n",
       "    </tr>\n",
       "    <tr>\n",
       "      <th>1</th>\n",
       "      <td>0018_01</td>\n",
       "      <td>0</td>\n",
       "      <td>0</td>\n",
       "      <td>0.0</td>\n",
       "      <td>9.0</td>\n",
       "      <td>0.0</td>\n",
       "      <td>2823.0</td>\n",
       "      <td>0.0</td>\n",
       "      <td>0</td>\n",
       "      <td>0</td>\n",
       "      <td>...</td>\n",
       "      <td>1</td>\n",
       "      <td>0</td>\n",
       "      <td>1</td>\n",
       "      <td>0</td>\n",
       "      <td>0</td>\n",
       "      <td>0</td>\n",
       "      <td>0</td>\n",
       "      <td>1</td>\n",
       "      <td>0</td>\n",
       "      <td>0</td>\n",
       "    </tr>\n",
       "    <tr>\n",
       "      <th>2</th>\n",
       "      <td>0019_01</td>\n",
       "      <td>1</td>\n",
       "      <td>0</td>\n",
       "      <td>0.0</td>\n",
       "      <td>0.0</td>\n",
       "      <td>0.0</td>\n",
       "      <td>0.0</td>\n",
       "      <td>0.0</td>\n",
       "      <td>1</td>\n",
       "      <td>0</td>\n",
       "      <td>...</td>\n",
       "      <td>1</td>\n",
       "      <td>0</td>\n",
       "      <td>1</td>\n",
       "      <td>0</td>\n",
       "      <td>1</td>\n",
       "      <td>0</td>\n",
       "      <td>0</td>\n",
       "      <td>0</td>\n",
       "      <td>0</td>\n",
       "      <td>0</td>\n",
       "    </tr>\n",
       "    <tr>\n",
       "      <th>3</th>\n",
       "      <td>0021_01</td>\n",
       "      <td>0</td>\n",
       "      <td>0</td>\n",
       "      <td>0.0</td>\n",
       "      <td>6652.0</td>\n",
       "      <td>0.0</td>\n",
       "      <td>181.0</td>\n",
       "      <td>585.0</td>\n",
       "      <td>1</td>\n",
       "      <td>0</td>\n",
       "      <td>...</td>\n",
       "      <td>1</td>\n",
       "      <td>0</td>\n",
       "      <td>1</td>\n",
       "      <td>0</td>\n",
       "      <td>1</td>\n",
       "      <td>0</td>\n",
       "      <td>0</td>\n",
       "      <td>0</td>\n",
       "      <td>0</td>\n",
       "      <td>0</td>\n",
       "    </tr>\n",
       "    <tr>\n",
       "      <th>4</th>\n",
       "      <td>0023_01</td>\n",
       "      <td>0</td>\n",
       "      <td>0</td>\n",
       "      <td>10.0</td>\n",
       "      <td>0.0</td>\n",
       "      <td>635.0</td>\n",
       "      <td>0.0</td>\n",
       "      <td>0.0</td>\n",
       "      <td>0</td>\n",
       "      <td>0</td>\n",
       "      <td>...</td>\n",
       "      <td>1</td>\n",
       "      <td>0</td>\n",
       "      <td>1</td>\n",
       "      <td>0</td>\n",
       "      <td>0</td>\n",
       "      <td>0</td>\n",
       "      <td>0</td>\n",
       "      <td>1</td>\n",
       "      <td>0</td>\n",
       "      <td>0</td>\n",
       "    </tr>\n",
       "  </tbody>\n",
       "</table>\n",
       "<p>5 rows × 22 columns</p>\n",
       "</div>"
      ],
      "text/plain": [
       "  PassengerId  CryoSleep  VIP  RoomService  FoodCourt  ShoppingMall     Spa  \\\n",
       "0     0013_01          1    0          0.0        0.0           0.0     0.0   \n",
       "1     0018_01          0    0          0.0        9.0           0.0  2823.0   \n",
       "2     0019_01          1    0          0.0        0.0           0.0     0.0   \n",
       "3     0021_01          0    0          0.0     6652.0           0.0   181.0   \n",
       "4     0023_01          0    0         10.0        0.0         635.0     0.0   \n",
       "\n",
       "   VRDeck  HomePlanet_Europa  HomePlanet_Mars  ...  Age_group_adult  \\\n",
       "0     0.0                  0                0  ...                1   \n",
       "1     0.0                  0                0  ...                1   \n",
       "2     0.0                  1                0  ...                1   \n",
       "3   585.0                  1                0  ...                1   \n",
       "4     0.0                  0                0  ...                1   \n",
       "\n",
       "   Age_group_senior  Side_S  Deck_B  Deck_C  Deck_D  Deck_E  Deck_F  Deck_G  \\\n",
       "0                 0       1       0       0       0       0       0       1   \n",
       "1                 0       1       0       0       0       0       1       0   \n",
       "2                 0       1       0       1       0       0       0       0   \n",
       "3                 0       1       0       1       0       0       0       0   \n",
       "4                 0       1       0       0       0       0       1       0   \n",
       "\n",
       "   Deck_T  \n",
       "0       0  \n",
       "1       0  \n",
       "2       0  \n",
       "3       0  \n",
       "4       0  \n",
       "\n",
       "[5 rows x 22 columns]"
      ]
     },
     "execution_count": 81,
     "metadata": {},
     "output_type": "execute_result"
    }
   ],
   "source": [
    "test.head()"
   ]
  },
  {
   "cell_type": "code",
   "execution_count": 82,
   "id": "4d3f10cb",
   "metadata": {
    "execution": {
     "iopub.execute_input": "2023-02-19T14:15:21.760470Z",
     "iopub.status.busy": "2023-02-19T14:15:21.760022Z",
     "iopub.status.idle": "2023-02-19T14:15:21.769160Z",
     "shell.execute_reply": "2023-02-19T14:15:21.768273Z"
    },
    "papermill": {
     "duration": 0.055754,
     "end_time": "2023-02-19T14:15:21.771436",
     "exception": false,
     "start_time": "2023-02-19T14:15:21.715682",
     "status": "completed"
    },
    "tags": []
   },
   "outputs": [],
   "source": [
    "#Using scaler function to scale the numerical columns.\n",
    "\n",
    "test[['RoomService','FoodCourt','ShoppingMall','Spa','VRDeck']]=scaler.transform(test[['RoomService','FoodCourt','ShoppingMall','Spa','VRDeck']])"
   ]
  },
  {
   "cell_type": "code",
   "execution_count": 83,
   "id": "dba01ed5",
   "metadata": {
    "execution": {
     "iopub.execute_input": "2023-02-19T14:15:21.860871Z",
     "iopub.status.busy": "2023-02-19T14:15:21.859671Z",
     "iopub.status.idle": "2023-02-19T14:15:21.881952Z",
     "shell.execute_reply": "2023-02-19T14:15:21.880653Z"
    },
    "papermill": {
     "duration": 0.07056,
     "end_time": "2023-02-19T14:15:21.884562",
     "exception": false,
     "start_time": "2023-02-19T14:15:21.814002",
     "status": "completed"
    },
    "tags": []
   },
   "outputs": [
    {
     "data": {
      "text/html": [
       "<div>\n",
       "<style scoped>\n",
       "    .dataframe tbody tr th:only-of-type {\n",
       "        vertical-align: middle;\n",
       "    }\n",
       "\n",
       "    .dataframe tbody tr th {\n",
       "        vertical-align: top;\n",
       "    }\n",
       "\n",
       "    .dataframe thead th {\n",
       "        text-align: right;\n",
       "    }\n",
       "</style>\n",
       "<table border=\"1\" class=\"dataframe\">\n",
       "  <thead>\n",
       "    <tr style=\"text-align: right;\">\n",
       "      <th></th>\n",
       "      <th>PassengerId</th>\n",
       "      <th>CryoSleep</th>\n",
       "      <th>VIP</th>\n",
       "      <th>RoomService</th>\n",
       "      <th>FoodCourt</th>\n",
       "      <th>ShoppingMall</th>\n",
       "      <th>Spa</th>\n",
       "      <th>VRDeck</th>\n",
       "      <th>HomePlanet_Europa</th>\n",
       "      <th>HomePlanet_Mars</th>\n",
       "      <th>...</th>\n",
       "      <th>Age_group_adult</th>\n",
       "      <th>Age_group_senior</th>\n",
       "      <th>Side_S</th>\n",
       "      <th>Deck_B</th>\n",
       "      <th>Deck_C</th>\n",
       "      <th>Deck_D</th>\n",
       "      <th>Deck_E</th>\n",
       "      <th>Deck_F</th>\n",
       "      <th>Deck_G</th>\n",
       "      <th>Deck_T</th>\n",
       "    </tr>\n",
       "  </thead>\n",
       "  <tbody>\n",
       "    <tr>\n",
       "      <th>0</th>\n",
       "      <td>0013_01</td>\n",
       "      <td>1</td>\n",
       "      <td>0</td>\n",
       "      <td>-0.338314</td>\n",
       "      <td>-0.285067</td>\n",
       "      <td>-0.304769</td>\n",
       "      <td>-0.270564</td>\n",
       "      <td>-0.279627</td>\n",
       "      <td>0</td>\n",
       "      <td>0</td>\n",
       "      <td>...</td>\n",
       "      <td>1</td>\n",
       "      <td>0</td>\n",
       "      <td>1</td>\n",
       "      <td>0</td>\n",
       "      <td>0</td>\n",
       "      <td>0</td>\n",
       "      <td>0</td>\n",
       "      <td>0</td>\n",
       "      <td>1</td>\n",
       "      <td>0</td>\n",
       "    </tr>\n",
       "    <tr>\n",
       "      <th>1</th>\n",
       "      <td>0018_01</td>\n",
       "      <td>0</td>\n",
       "      <td>0</td>\n",
       "      <td>-0.338314</td>\n",
       "      <td>-0.279739</td>\n",
       "      <td>-0.304769</td>\n",
       "      <td>2.074787</td>\n",
       "      <td>-0.279627</td>\n",
       "      <td>0</td>\n",
       "      <td>0</td>\n",
       "      <td>...</td>\n",
       "      <td>1</td>\n",
       "      <td>0</td>\n",
       "      <td>1</td>\n",
       "      <td>0</td>\n",
       "      <td>0</td>\n",
       "      <td>0</td>\n",
       "      <td>0</td>\n",
       "      <td>1</td>\n",
       "      <td>0</td>\n",
       "      <td>0</td>\n",
       "    </tr>\n",
       "    <tr>\n",
       "      <th>2</th>\n",
       "      <td>0019_01</td>\n",
       "      <td>1</td>\n",
       "      <td>0</td>\n",
       "      <td>-0.338314</td>\n",
       "      <td>-0.285067</td>\n",
       "      <td>-0.304769</td>\n",
       "      <td>-0.270564</td>\n",
       "      <td>-0.279627</td>\n",
       "      <td>1</td>\n",
       "      <td>0</td>\n",
       "      <td>...</td>\n",
       "      <td>1</td>\n",
       "      <td>0</td>\n",
       "      <td>1</td>\n",
       "      <td>0</td>\n",
       "      <td>1</td>\n",
       "      <td>0</td>\n",
       "      <td>0</td>\n",
       "      <td>0</td>\n",
       "      <td>0</td>\n",
       "      <td>0</td>\n",
       "    </tr>\n",
       "    <tr>\n",
       "      <th>3</th>\n",
       "      <td>0021_01</td>\n",
       "      <td>0</td>\n",
       "      <td>0</td>\n",
       "      <td>-0.338314</td>\n",
       "      <td>3.653258</td>\n",
       "      <td>-0.304769</td>\n",
       "      <td>-0.120189</td>\n",
       "      <td>0.280813</td>\n",
       "      <td>1</td>\n",
       "      <td>0</td>\n",
       "      <td>...</td>\n",
       "      <td>1</td>\n",
       "      <td>0</td>\n",
       "      <td>1</td>\n",
       "      <td>0</td>\n",
       "      <td>1</td>\n",
       "      <td>0</td>\n",
       "      <td>0</td>\n",
       "      <td>0</td>\n",
       "      <td>0</td>\n",
       "      <td>0</td>\n",
       "    </tr>\n",
       "    <tr>\n",
       "      <th>4</th>\n",
       "      <td>0023_01</td>\n",
       "      <td>0</td>\n",
       "      <td>0</td>\n",
       "      <td>-0.323359</td>\n",
       "      <td>-0.285067</td>\n",
       "      <td>0.796809</td>\n",
       "      <td>-0.270564</td>\n",
       "      <td>-0.279627</td>\n",
       "      <td>0</td>\n",
       "      <td>0</td>\n",
       "      <td>...</td>\n",
       "      <td>1</td>\n",
       "      <td>0</td>\n",
       "      <td>1</td>\n",
       "      <td>0</td>\n",
       "      <td>0</td>\n",
       "      <td>0</td>\n",
       "      <td>0</td>\n",
       "      <td>1</td>\n",
       "      <td>0</td>\n",
       "      <td>0</td>\n",
       "    </tr>\n",
       "  </tbody>\n",
       "</table>\n",
       "<p>5 rows × 22 columns</p>\n",
       "</div>"
      ],
      "text/plain": [
       "  PassengerId  CryoSleep  VIP  RoomService  FoodCourt  ShoppingMall       Spa  \\\n",
       "0     0013_01          1    0    -0.338314  -0.285067     -0.304769 -0.270564   \n",
       "1     0018_01          0    0    -0.338314  -0.279739     -0.304769  2.074787   \n",
       "2     0019_01          1    0    -0.338314  -0.285067     -0.304769 -0.270564   \n",
       "3     0021_01          0    0    -0.338314   3.653258     -0.304769 -0.120189   \n",
       "4     0023_01          0    0    -0.323359  -0.285067      0.796809 -0.270564   \n",
       "\n",
       "     VRDeck  HomePlanet_Europa  HomePlanet_Mars  ...  Age_group_adult  \\\n",
       "0 -0.279627                  0                0  ...                1   \n",
       "1 -0.279627                  0                0  ...                1   \n",
       "2 -0.279627                  1                0  ...                1   \n",
       "3  0.280813                  1                0  ...                1   \n",
       "4 -0.279627                  0                0  ...                1   \n",
       "\n",
       "   Age_group_senior  Side_S  Deck_B  Deck_C  Deck_D  Deck_E  Deck_F  Deck_G  \\\n",
       "0                 0       1       0       0       0       0       0       1   \n",
       "1                 0       1       0       0       0       0       1       0   \n",
       "2                 0       1       0       1       0       0       0       0   \n",
       "3                 0       1       0       1       0       0       0       0   \n",
       "4                 0       1       0       0       0       0       1       0   \n",
       "\n",
       "   Deck_T  \n",
       "0       0  \n",
       "1       0  \n",
       "2       0  \n",
       "3       0  \n",
       "4       0  \n",
       "\n",
       "[5 rows x 22 columns]"
      ]
     },
     "execution_count": 83,
     "metadata": {},
     "output_type": "execute_result"
    }
   ],
   "source": [
    "test.head()"
   ]
  },
  {
   "cell_type": "code",
   "execution_count": 84,
   "id": "4cbd392f",
   "metadata": {
    "execution": {
     "iopub.execute_input": "2023-02-19T14:15:21.975239Z",
     "iopub.status.busy": "2023-02-19T14:15:21.974135Z",
     "iopub.status.idle": "2023-02-19T14:15:21.980777Z",
     "shell.execute_reply": "2023-02-19T14:15:21.979904Z"
    },
    "papermill": {
     "duration": 0.054754,
     "end_time": "2023-02-19T14:15:21.983005",
     "exception": false,
     "start_time": "2023-02-19T14:15:21.928251",
     "status": "completed"
    },
    "tags": []
   },
   "outputs": [
    {
     "data": {
      "text/plain": [
       "Index(['CryoSleep', 'RoomService', 'FoodCourt', 'Spa', 'VRDeck',\n",
       "       'HomePlanet_Europa', 'HomePlanet_Mars', 'Destination_PSO J318.5-22',\n",
       "       'Destination_TRAPPIST-1e', 'Side_S', 'Deck_B', 'Deck_C', 'Deck_E',\n",
       "       'Deck_G'],\n",
       "      dtype='object')"
      ]
     },
     "execution_count": 84,
     "metadata": {},
     "output_type": "execute_result"
    }
   ],
   "source": [
    "X_train.columns"
   ]
  },
  {
   "cell_type": "code",
   "execution_count": 85,
   "id": "4a7892a8",
   "metadata": {
    "execution": {
     "iopub.execute_input": "2023-02-19T14:15:22.072255Z",
     "iopub.status.busy": "2023-02-19T14:15:22.071504Z",
     "iopub.status.idle": "2023-02-19T14:15:22.078881Z",
     "shell.execute_reply": "2023-02-19T14:15:22.077639Z"
    },
    "papermill": {
     "duration": 0.054087,
     "end_time": "2023-02-19T14:15:22.081213",
     "exception": false,
     "start_time": "2023-02-19T14:15:22.027126",
     "status": "completed"
    },
    "tags": []
   },
   "outputs": [
    {
     "data": {
      "text/plain": [
       "Index(['PassengerId', 'CryoSleep', 'VIP', 'RoomService', 'FoodCourt',\n",
       "       'ShoppingMall', 'Spa', 'VRDeck', 'HomePlanet_Europa', 'HomePlanet_Mars',\n",
       "       'Destination_PSO J318.5-22', 'Destination_TRAPPIST-1e',\n",
       "       'Age_group_adult', 'Age_group_senior', 'Side_S', 'Deck_B', 'Deck_C',\n",
       "       'Deck_D', 'Deck_E', 'Deck_F', 'Deck_G', 'Deck_T'],\n",
       "      dtype='object')"
      ]
     },
     "execution_count": 85,
     "metadata": {},
     "output_type": "execute_result"
    }
   ],
   "source": [
    "test.columns"
   ]
  },
  {
   "cell_type": "code",
   "execution_count": 86,
   "id": "87c4ba63",
   "metadata": {
    "execution": {
     "iopub.execute_input": "2023-02-19T14:15:22.169737Z",
     "iopub.status.busy": "2023-02-19T14:15:22.169292Z",
     "iopub.status.idle": "2023-02-19T14:15:22.176236Z",
     "shell.execute_reply": "2023-02-19T14:15:22.175238Z"
    },
    "papermill": {
     "duration": 0.054088,
     "end_time": "2023-02-19T14:15:22.178642",
     "exception": false,
     "start_time": "2023-02-19T14:15:22.124554",
     "status": "completed"
    },
    "tags": []
   },
   "outputs": [],
   "source": [
    "#Dropping the columns to match with the train dataset.\n",
    "\n",
    "test=test.drop(columns=['VIP','ShoppingMall','Age_group_adult', 'Age_group_senior', 'Deck_D','Deck_F','Deck_T'],axis=1)"
   ]
  },
  {
   "cell_type": "code",
   "execution_count": 87,
   "id": "46181830",
   "metadata": {
    "execution": {
     "iopub.execute_input": "2023-02-19T14:15:22.268223Z",
     "iopub.status.busy": "2023-02-19T14:15:22.267010Z",
     "iopub.status.idle": "2023-02-19T14:15:22.284559Z",
     "shell.execute_reply": "2023-02-19T14:15:22.282961Z"
    },
    "papermill": {
     "duration": 0.065418,
     "end_time": "2023-02-19T14:15:22.287559",
     "exception": false,
     "start_time": "2023-02-19T14:15:22.222141",
     "status": "completed"
    },
    "tags": []
   },
   "outputs": [
    {
     "data": {
      "text/html": [
       "<div>\n",
       "<style scoped>\n",
       "    .dataframe tbody tr th:only-of-type {\n",
       "        vertical-align: middle;\n",
       "    }\n",
       "\n",
       "    .dataframe tbody tr th {\n",
       "        vertical-align: top;\n",
       "    }\n",
       "\n",
       "    .dataframe thead th {\n",
       "        text-align: right;\n",
       "    }\n",
       "</style>\n",
       "<table border=\"1\" class=\"dataframe\">\n",
       "  <thead>\n",
       "    <tr style=\"text-align: right;\">\n",
       "      <th></th>\n",
       "      <th>PassengerId</th>\n",
       "      <th>CryoSleep</th>\n",
       "      <th>RoomService</th>\n",
       "      <th>FoodCourt</th>\n",
       "      <th>Spa</th>\n",
       "      <th>VRDeck</th>\n",
       "      <th>HomePlanet_Europa</th>\n",
       "      <th>HomePlanet_Mars</th>\n",
       "      <th>Destination_PSO J318.5-22</th>\n",
       "      <th>Destination_TRAPPIST-1e</th>\n",
       "      <th>Side_S</th>\n",
       "      <th>Deck_B</th>\n",
       "      <th>Deck_C</th>\n",
       "      <th>Deck_E</th>\n",
       "      <th>Deck_G</th>\n",
       "    </tr>\n",
       "  </thead>\n",
       "  <tbody>\n",
       "    <tr>\n",
       "      <th>0</th>\n",
       "      <td>0013_01</td>\n",
       "      <td>1</td>\n",
       "      <td>-0.338314</td>\n",
       "      <td>-0.285067</td>\n",
       "      <td>-0.270564</td>\n",
       "      <td>-0.279627</td>\n",
       "      <td>0</td>\n",
       "      <td>0</td>\n",
       "      <td>0</td>\n",
       "      <td>1</td>\n",
       "      <td>1</td>\n",
       "      <td>0</td>\n",
       "      <td>0</td>\n",
       "      <td>0</td>\n",
       "      <td>1</td>\n",
       "    </tr>\n",
       "    <tr>\n",
       "      <th>1</th>\n",
       "      <td>0018_01</td>\n",
       "      <td>0</td>\n",
       "      <td>-0.338314</td>\n",
       "      <td>-0.279739</td>\n",
       "      <td>2.074787</td>\n",
       "      <td>-0.279627</td>\n",
       "      <td>0</td>\n",
       "      <td>0</td>\n",
       "      <td>0</td>\n",
       "      <td>1</td>\n",
       "      <td>1</td>\n",
       "      <td>0</td>\n",
       "      <td>0</td>\n",
       "      <td>0</td>\n",
       "      <td>0</td>\n",
       "    </tr>\n",
       "    <tr>\n",
       "      <th>2</th>\n",
       "      <td>0019_01</td>\n",
       "      <td>1</td>\n",
       "      <td>-0.338314</td>\n",
       "      <td>-0.285067</td>\n",
       "      <td>-0.270564</td>\n",
       "      <td>-0.279627</td>\n",
       "      <td>1</td>\n",
       "      <td>0</td>\n",
       "      <td>0</td>\n",
       "      <td>0</td>\n",
       "      <td>1</td>\n",
       "      <td>0</td>\n",
       "      <td>1</td>\n",
       "      <td>0</td>\n",
       "      <td>0</td>\n",
       "    </tr>\n",
       "    <tr>\n",
       "      <th>3</th>\n",
       "      <td>0021_01</td>\n",
       "      <td>0</td>\n",
       "      <td>-0.338314</td>\n",
       "      <td>3.653258</td>\n",
       "      <td>-0.120189</td>\n",
       "      <td>0.280813</td>\n",
       "      <td>1</td>\n",
       "      <td>0</td>\n",
       "      <td>0</td>\n",
       "      <td>1</td>\n",
       "      <td>1</td>\n",
       "      <td>0</td>\n",
       "      <td>1</td>\n",
       "      <td>0</td>\n",
       "      <td>0</td>\n",
       "    </tr>\n",
       "    <tr>\n",
       "      <th>4</th>\n",
       "      <td>0023_01</td>\n",
       "      <td>0</td>\n",
       "      <td>-0.323359</td>\n",
       "      <td>-0.285067</td>\n",
       "      <td>-0.270564</td>\n",
       "      <td>-0.279627</td>\n",
       "      <td>0</td>\n",
       "      <td>0</td>\n",
       "      <td>0</td>\n",
       "      <td>1</td>\n",
       "      <td>1</td>\n",
       "      <td>0</td>\n",
       "      <td>0</td>\n",
       "      <td>0</td>\n",
       "      <td>0</td>\n",
       "    </tr>\n",
       "  </tbody>\n",
       "</table>\n",
       "</div>"
      ],
      "text/plain": [
       "  PassengerId  CryoSleep  RoomService  FoodCourt       Spa    VRDeck  \\\n",
       "0     0013_01          1    -0.338314  -0.285067 -0.270564 -0.279627   \n",
       "1     0018_01          0    -0.338314  -0.279739  2.074787 -0.279627   \n",
       "2     0019_01          1    -0.338314  -0.285067 -0.270564 -0.279627   \n",
       "3     0021_01          0    -0.338314   3.653258 -0.120189  0.280813   \n",
       "4     0023_01          0    -0.323359  -0.285067 -0.270564 -0.279627   \n",
       "\n",
       "   HomePlanet_Europa  HomePlanet_Mars  Destination_PSO J318.5-22  \\\n",
       "0                  0                0                          0   \n",
       "1                  0                0                          0   \n",
       "2                  1                0                          0   \n",
       "3                  1                0                          0   \n",
       "4                  0                0                          0   \n",
       "\n",
       "   Destination_TRAPPIST-1e  Side_S  Deck_B  Deck_C  Deck_E  Deck_G  \n",
       "0                        1       1       0       0       0       1  \n",
       "1                        1       1       0       0       0       0  \n",
       "2                        0       1       0       1       0       0  \n",
       "3                        1       1       0       1       0       0  \n",
       "4                        1       1       0       0       0       0  "
      ]
     },
     "execution_count": 87,
     "metadata": {},
     "output_type": "execute_result"
    }
   ],
   "source": [
    "test.head()"
   ]
  },
  {
   "cell_type": "code",
   "execution_count": 88,
   "id": "d4a8ee9b",
   "metadata": {
    "execution": {
     "iopub.execute_input": "2023-02-19T14:15:22.376687Z",
     "iopub.status.busy": "2023-02-19T14:15:22.376258Z",
     "iopub.status.idle": "2023-02-19T14:15:22.381563Z",
     "shell.execute_reply": "2023-02-19T14:15:22.380295Z"
    },
    "papermill": {
     "duration": 0.052689,
     "end_time": "2023-02-19T14:15:22.383852",
     "exception": false,
     "start_time": "2023-02-19T14:15:22.331163",
     "status": "completed"
    },
    "tags": []
   },
   "outputs": [],
   "source": [
    "#creating a copy of test dataset.\n",
    "\n",
    "test_copy=test.copy()"
   ]
  },
  {
   "cell_type": "code",
   "execution_count": 89,
   "id": "0d670b5b",
   "metadata": {
    "execution": {
     "iopub.execute_input": "2023-02-19T14:15:22.476085Z",
     "iopub.status.busy": "2023-02-19T14:15:22.474849Z",
     "iopub.status.idle": "2023-02-19T14:15:22.481898Z",
     "shell.execute_reply": "2023-02-19T14:15:22.480819Z"
    },
    "papermill": {
     "duration": 0.055766,
     "end_time": "2023-02-19T14:15:22.484309",
     "exception": false,
     "start_time": "2023-02-19T14:15:22.428543",
     "status": "completed"
    },
    "tags": []
   },
   "outputs": [],
   "source": [
    "#Assigning the data to test by dropping passenger id.\n",
    "\n",
    "test=test.drop(['PassengerId'],axis=1)"
   ]
  },
  {
   "cell_type": "code",
   "execution_count": 90,
   "id": "f4679fcc",
   "metadata": {
    "execution": {
     "iopub.execute_input": "2023-02-19T14:15:22.576113Z",
     "iopub.status.busy": "2023-02-19T14:15:22.575677Z",
     "iopub.status.idle": "2023-02-19T14:15:22.593278Z",
     "shell.execute_reply": "2023-02-19T14:15:22.591999Z"
    },
    "papermill": {
     "duration": 0.067119,
     "end_time": "2023-02-19T14:15:22.596315",
     "exception": false,
     "start_time": "2023-02-19T14:15:22.529196",
     "status": "completed"
    },
    "tags": []
   },
   "outputs": [
    {
     "data": {
      "text/plain": [
       "0       0.739842\n",
       "1       0.002295\n",
       "2       0.994859\n",
       "3       0.995613\n",
       "4       0.621640\n",
       "          ...   \n",
       "4272    0.739842\n",
       "4273    0.365594\n",
       "4274    0.894342\n",
       "4275    0.764401\n",
       "4276    0.754332\n",
       "Length: 4277, dtype: float64"
      ]
     },
     "execution_count": 90,
     "metadata": {},
     "output_type": "execute_result"
    }
   ],
   "source": [
    "#Predicting the values using the final model built.\n",
    "\n",
    "test_sm=sm.add_constant(test)\n",
    "test_pred=res.predict(test_sm)\n",
    "test_pred"
   ]
  },
  {
   "cell_type": "code",
   "execution_count": 91,
   "id": "8e0a782e",
   "metadata": {
    "execution": {
     "iopub.execute_input": "2023-02-19T14:15:22.729164Z",
     "iopub.status.busy": "2023-02-19T14:15:22.728748Z",
     "iopub.status.idle": "2023-02-19T14:15:22.737608Z",
     "shell.execute_reply": "2023-02-19T14:15:22.736513Z"
    },
    "papermill": {
     "duration": 0.071007,
     "end_time": "2023-02-19T14:15:22.739840",
     "exception": false,
     "start_time": "2023-02-19T14:15:22.668833",
     "status": "completed"
    },
    "tags": []
   },
   "outputs": [],
   "source": [
    "#Creating a DataFrame with Predicted values and assigning 1 if probability is more than 0.47.\n",
    "\n",
    "test_pred_final=pd.DataFrame({'Transported_prob':test_pred})\n",
    "test_pred_final['Transported']=test_pred_final.Transported_prob.map(lambda x: 1 if x>0.47 else 0)"
   ]
  },
  {
   "cell_type": "code",
   "execution_count": 92,
   "id": "f3b12fe8",
   "metadata": {
    "execution": {
     "iopub.execute_input": "2023-02-19T14:15:22.827985Z",
     "iopub.status.busy": "2023-02-19T14:15:22.827559Z",
     "iopub.status.idle": "2023-02-19T14:15:22.838664Z",
     "shell.execute_reply": "2023-02-19T14:15:22.837371Z"
    },
    "papermill": {
     "duration": 0.058636,
     "end_time": "2023-02-19T14:15:22.841521",
     "exception": false,
     "start_time": "2023-02-19T14:15:22.782885",
     "status": "completed"
    },
    "tags": []
   },
   "outputs": [
    {
     "data": {
      "text/html": [
       "<div>\n",
       "<style scoped>\n",
       "    .dataframe tbody tr th:only-of-type {\n",
       "        vertical-align: middle;\n",
       "    }\n",
       "\n",
       "    .dataframe tbody tr th {\n",
       "        vertical-align: top;\n",
       "    }\n",
       "\n",
       "    .dataframe thead th {\n",
       "        text-align: right;\n",
       "    }\n",
       "</style>\n",
       "<table border=\"1\" class=\"dataframe\">\n",
       "  <thead>\n",
       "    <tr style=\"text-align: right;\">\n",
       "      <th></th>\n",
       "      <th>Transported_prob</th>\n",
       "      <th>Transported</th>\n",
       "    </tr>\n",
       "  </thead>\n",
       "  <tbody>\n",
       "    <tr>\n",
       "      <th>0</th>\n",
       "      <td>0.739842</td>\n",
       "      <td>1</td>\n",
       "    </tr>\n",
       "    <tr>\n",
       "      <th>1</th>\n",
       "      <td>0.002295</td>\n",
       "      <td>0</td>\n",
       "    </tr>\n",
       "    <tr>\n",
       "      <th>2</th>\n",
       "      <td>0.994859</td>\n",
       "      <td>1</td>\n",
       "    </tr>\n",
       "    <tr>\n",
       "      <th>3</th>\n",
       "      <td>0.995613</td>\n",
       "      <td>1</td>\n",
       "    </tr>\n",
       "    <tr>\n",
       "      <th>4</th>\n",
       "      <td>0.621640</td>\n",
       "      <td>1</td>\n",
       "    </tr>\n",
       "  </tbody>\n",
       "</table>\n",
       "</div>"
      ],
      "text/plain": [
       "   Transported_prob  Transported\n",
       "0          0.739842            1\n",
       "1          0.002295            0\n",
       "2          0.994859            1\n",
       "3          0.995613            1\n",
       "4          0.621640            1"
      ]
     },
     "execution_count": 92,
     "metadata": {},
     "output_type": "execute_result"
    }
   ],
   "source": [
    "test_pred_final.head()"
   ]
  },
  {
   "cell_type": "code",
   "execution_count": 93,
   "id": "3df12dfc",
   "metadata": {
    "execution": {
     "iopub.execute_input": "2023-02-19T14:15:22.931759Z",
     "iopub.status.busy": "2023-02-19T14:15:22.931338Z",
     "iopub.status.idle": "2023-02-19T14:15:22.937799Z",
     "shell.execute_reply": "2023-02-19T14:15:22.936604Z"
    },
    "papermill": {
     "duration": 0.053945,
     "end_time": "2023-02-19T14:15:22.940058",
     "exception": false,
     "start_time": "2023-02-19T14:15:22.886113",
     "status": "completed"
    },
    "tags": []
   },
   "outputs": [],
   "source": [
    "#Changing the Transported d-type to boolean.\n",
    "\n",
    "test_pred_final['Transported']=test_pred_final.Transported.astype(bool)"
   ]
  },
  {
   "cell_type": "code",
   "execution_count": 94,
   "id": "a6780af5",
   "metadata": {
    "execution": {
     "iopub.execute_input": "2023-02-19T14:15:23.031976Z",
     "iopub.status.busy": "2023-02-19T14:15:23.031540Z",
     "iopub.status.idle": "2023-02-19T14:15:23.042574Z",
     "shell.execute_reply": "2023-02-19T14:15:23.041402Z"
    },
    "papermill": {
     "duration": 0.059219,
     "end_time": "2023-02-19T14:15:23.044953",
     "exception": false,
     "start_time": "2023-02-19T14:15:22.985734",
     "status": "completed"
    },
    "tags": []
   },
   "outputs": [
    {
     "data": {
      "text/html": [
       "<div>\n",
       "<style scoped>\n",
       "    .dataframe tbody tr th:only-of-type {\n",
       "        vertical-align: middle;\n",
       "    }\n",
       "\n",
       "    .dataframe tbody tr th {\n",
       "        vertical-align: top;\n",
       "    }\n",
       "\n",
       "    .dataframe thead th {\n",
       "        text-align: right;\n",
       "    }\n",
       "</style>\n",
       "<table border=\"1\" class=\"dataframe\">\n",
       "  <thead>\n",
       "    <tr style=\"text-align: right;\">\n",
       "      <th></th>\n",
       "      <th>Transported_prob</th>\n",
       "      <th>Transported</th>\n",
       "    </tr>\n",
       "  </thead>\n",
       "  <tbody>\n",
       "    <tr>\n",
       "      <th>0</th>\n",
       "      <td>0.739842</td>\n",
       "      <td>True</td>\n",
       "    </tr>\n",
       "    <tr>\n",
       "      <th>1</th>\n",
       "      <td>0.002295</td>\n",
       "      <td>False</td>\n",
       "    </tr>\n",
       "    <tr>\n",
       "      <th>2</th>\n",
       "      <td>0.994859</td>\n",
       "      <td>True</td>\n",
       "    </tr>\n",
       "    <tr>\n",
       "      <th>3</th>\n",
       "      <td>0.995613</td>\n",
       "      <td>True</td>\n",
       "    </tr>\n",
       "    <tr>\n",
       "      <th>4</th>\n",
       "      <td>0.621640</td>\n",
       "      <td>True</td>\n",
       "    </tr>\n",
       "  </tbody>\n",
       "</table>\n",
       "</div>"
      ],
      "text/plain": [
       "   Transported_prob  Transported\n",
       "0          0.739842         True\n",
       "1          0.002295        False\n",
       "2          0.994859         True\n",
       "3          0.995613         True\n",
       "4          0.621640         True"
      ]
     },
     "execution_count": 94,
     "metadata": {},
     "output_type": "execute_result"
    }
   ],
   "source": [
    "test_pred_final.head()"
   ]
  },
  {
   "cell_type": "markdown",
   "id": "cef54abe",
   "metadata": {
    "papermill": {
     "duration": 0.044283,
     "end_time": "2023-02-19T14:15:23.133654",
     "exception": false,
     "start_time": "2023-02-19T14:15:23.089371",
     "status": "completed"
    },
    "tags": []
   },
   "source": [
    "## *Submission*"
   ]
  },
  {
   "cell_type": "code",
   "execution_count": 95,
   "id": "8fba16ee",
   "metadata": {
    "execution": {
     "iopub.execute_input": "2023-02-19T14:15:23.224386Z",
     "iopub.status.busy": "2023-02-19T14:15:23.223700Z",
     "iopub.status.idle": "2023-02-19T14:15:23.230115Z",
     "shell.execute_reply": "2023-02-19T14:15:23.228910Z"
    },
    "papermill": {
     "duration": 0.054733,
     "end_time": "2023-02-19T14:15:23.232469",
     "exception": false,
     "start_time": "2023-02-19T14:15:23.177736",
     "status": "completed"
    },
    "tags": []
   },
   "outputs": [],
   "source": [
    "#Creating a DataFrame with Passenger id and Transported data.\n",
    "\n",
    "submission=pd.DataFrame({'PassengerId':test_copy['PassengerId'],'Transported':test_pred_final['Transported']})"
   ]
  },
  {
   "cell_type": "code",
   "execution_count": 96,
   "id": "e08ef8d9",
   "metadata": {
    "execution": {
     "iopub.execute_input": "2023-02-19T14:15:23.321813Z",
     "iopub.status.busy": "2023-02-19T14:15:23.321380Z",
     "iopub.status.idle": "2023-02-19T14:15:23.335663Z",
     "shell.execute_reply": "2023-02-19T14:15:23.334395Z"
    },
    "papermill": {
     "duration": 0.062104,
     "end_time": "2023-02-19T14:15:23.338432",
     "exception": false,
     "start_time": "2023-02-19T14:15:23.276328",
     "status": "completed"
    },
    "tags": []
   },
   "outputs": [
    {
     "name": "stdout",
     "output_type": "stream",
     "text": [
      "Your submission was successfully saved!\n"
     ]
    }
   ],
   "source": [
    "#Creating Submsission.\n",
    "\n",
    "submission.to_csv('submission.csv', index=False)\n",
    "print(\"Your submission was successfully saved!\")"
   ]
  }
 ],
 "metadata": {
  "kernelspec": {
   "display_name": "Python 3",
   "language": "python",
   "name": "python3"
  },
  "language_info": {
   "codemirror_mode": {
    "name": "ipython",
    "version": 3
   },
   "file_extension": ".py",
   "mimetype": "text/x-python",
   "name": "python",
   "nbconvert_exporter": "python",
   "pygments_lexer": "ipython3",
   "version": "3.7.12"
  },
  "papermill": {
   "default_parameters": {},
   "duration": 26.800647,
   "end_time": "2023-02-19T14:15:24.206509",
   "environment_variables": {},
   "exception": null,
   "input_path": "__notebook__.ipynb",
   "output_path": "__notebook__.ipynb",
   "parameters": {},
   "start_time": "2023-02-19T14:14:57.405862",
   "version": "2.3.4"
  }
 },
 "nbformat": 4,
 "nbformat_minor": 5
}
